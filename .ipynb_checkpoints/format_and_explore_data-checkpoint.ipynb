{
 "cells": [
  {
   "cell_type": "markdown",
   "id": "539248b2-2b70-4065-847f-c0e2f7aee3f4",
   "metadata": {},
   "source": [
    "**Extraction des données**"
   ]
  },
  {
   "cell_type": "code",
   "execution_count": 17,
   "id": "23fb4b82-e794-4645-be4a-ecb1331bca06",
   "metadata": {},
   "outputs": [
    {
     "name": "stderr",
     "output_type": "stream",
     "text": [
      "/tmp/ipykernel_1017/3175416147.py:6: DeprecationWarning: Python 3.14 will, by default, filter extracted tar archives and reject files or modify their metadata. Use the filter argument to control this behavior.\n",
      "  archive.extractall(\"data\")  # décompresse tous les fichiers dans \"dossier_de_sortie\"\n",
      "IOPub data rate exceeded.\n",
      "The Jupyter server will temporarily stop sending output\n",
      "to the client in order to avoid crashing it.\n",
      "To change this limit, set the config variable\n",
      "`--ServerApp.iopub_data_rate_limit`.\n",
      "\n",
      "Current values:\n",
      "ServerApp.iopub_data_rate_limit=1000000.0 (bytes/sec)\n",
      "ServerApp.rate_limit_window=3.0 (secs)\n",
      "\n"
     ]
    }
   ],
   "source": [
    "# extraction des données du dossier compressé :\n",
    "import tarfile\n",
    "\n",
    "# remplace \"fichier.tar.gz\" par le chemin de ton fichier\n",
    "with tarfile.open(\"aclImdb_v1.tar.gz\", \"r:gz\") as archive:\n",
    "    archive.extractall(\"data\")  # décompresse tous les fichiers dans \"data\"\n",
    "    print(archive.getnames())  # Liste des fichiers extraits"
   ]
  },
  {
   "cell_type": "markdown",
   "id": "c9a6e75d-2adf-4b53-811f-26a332877fe2",
   "metadata": {},
   "source": [
    "**Imports nécessaires**"
   ]
  },
  {
   "cell_type": "code",
   "execution_count": 18,
   "id": "77d0d3f2-5f19-46db-ab30-a47d6e66bcb8",
   "metadata": {},
   "outputs": [],
   "source": [
    "import os\n",
    "import pandas as pd\n",
    "import seaborn as sns\n",
    "import matplotlib.pyplot as plt"
   ]
  },
  {
   "cell_type": "markdown",
   "id": "6d4723f2-e719-41ec-84e8-4d24e3d8594d",
   "metadata": {},
   "source": [
    "**Création des datasets de train et test**"
   ]
  },
  {
   "cell_type": "code",
   "execution_count": 19,
   "id": "752b88a9-5132-49f4-84f3-8aca7d5b66a6",
   "metadata": {},
   "outputs": [],
   "source": [
    "# version fonction\n",
    "\n",
    "def create_datasets(dataset_type, polarity, base_path=\"data/aclImdb\"):\n",
    "    \"\"\"\n",
    "    Charge les reviews et les URLs correspondantes à partir des fichiers.\n",
    "    \n",
    "    :param dataset_type: 'train' ou 'test'\n",
    "    :param polarity: 'pos' ou 'neg'\n",
    "    :param base_path: Chemin de base vers les données (par défaut: \"dossier_de_sortie/aclImdb\")\n",
    "    :return: DataFrame fusionné contenant les avis, les notes et les URLs associées\n",
    "    \"\"\"\n",
    "    # chemins d'accès\n",
    "    review_path = os.path.join(base_path, dataset_type, polarity)\n",
    "    url_file = os.path.join(base_path, dataset_type, f\"urls_{polarity}.txt\")\n",
    "\n",
    "    # chargement des fichiers texte et stockage dans une liste\n",
    "    data = []\n",
    "    for fichier in os.listdir(review_path):\n",
    "        if fichier.endswith(\".txt\"):  \n",
    "            chemin_fichier = os.path.join(review_path, fichier)\n",
    "            with open(chemin_fichier, \"r\", encoding=\"utf-8\") as f:\n",
    "                contenu = f.read()\n",
    "            data.append((fichier, contenu))\n",
    "\n",
    "    # conversion en dataframe\n",
    "    df_reviews = pd.DataFrame(data, columns=[\"fichier\", \"review\"])\n",
    "    df_reviews[[\"id_review\", \"note\"]] = df_reviews[\"fichier\"].str.replace(\".txt\", \"\", regex=False).str.split(\"_\", expand=True)\n",
    "    df_reviews = df_reviews.drop(\"fichier\", axis=1)\n",
    "\n",
    "    # ajout des urls pour chaque review\n",
    "    df_urls = pd.read_csv(url_file, header=None, names=['url'])\n",
    "    df_urls['id_imdb_movie'] = df_urls['url'].str.extract(r'(tt\\d+)')\n",
    "    merged_df = pd.concat([df_reviews, df_urls], axis=1)\n",
    "\n",
    "    return merged_df\n",
    "\n",
    "\n",
    "merged_test_neg = create_datasets(dataset_type=\"test\", polarity=\"neg\")\n",
    "merged_test_pos = create_datasets(dataset_type=\"test\", polarity=\"pos\")\n",
    "merged_train_neg = create_datasets(dataset_type=\"train\", polarity=\"neg\")\n",
    "merged_train_pos = create_datasets(dataset_type=\"train\", polarity=\"pos\")"
   ]
  },
  {
   "cell_type": "code",
   "execution_count": 20,
   "id": "5ff7c971-ac53-4f42-a5ef-ba52a028a3b9",
   "metadata": {},
   "outputs": [
    {
     "name": "stdout",
     "output_type": "stream",
     "text": [
      "3016\n"
     ]
    },
    {
     "data": {
      "text/plain": [
       "12500"
      ]
     },
     "execution_count": 20,
     "metadata": {},
     "output_type": "execute_result"
    }
   ],
   "source": [
    "print(len(pd.unique(merged_test_neg['id_imdb_movie']))) # nombre de films dans la moitié négative de la base test\n",
    "len(merged_test_neg) # nombre de reviews"
   ]
  },
  {
   "cell_type": "code",
   "execution_count": 21,
   "id": "b95661ba-1998-4ad8-b1fb-46e266cce7ca",
   "metadata": {},
   "outputs": [],
   "source": [
    "# Création des datasets de test et train complets par merge des datasets de test/train pos et neg\n",
    "test = pd.concat([merged_test_pos, merged_test_neg], ignore_index=True)\n",
    "train = pd.concat([merged_train_pos, merged_train_neg], ignore_index=True)"
   ]
  },
  {
   "cell_type": "code",
   "execution_count": 22,
   "id": "853873dc-c392-445f-9d8a-ef0fb96544f7",
   "metadata": {},
   "outputs": [
    {
     "name": "stdout",
     "output_type": "stream",
     "text": [
      "3581\n"
     ]
    },
    {
     "data": {
      "text/plain": [
       "25000"
      ]
     },
     "execution_count": 22,
     "metadata": {},
     "output_type": "execute_result"
    }
   ],
   "source": [
    "print(len(pd.unique(test['id_imdb_movie']))) # nombre de films dans la base test\n",
    "len(test) # nombre de reviews"
   ]
  },
  {
   "cell_type": "code",
   "execution_count": 38,
   "id": "396c0691-5138-47e2-a1bb-32a403baae74",
   "metadata": {},
   "outputs": [
    {
     "name": "stdout",
     "output_type": "stream",
     "text": [
      "3456\n"
     ]
    },
    {
     "data": {
      "text/plain": [
       "25000"
      ]
     },
     "execution_count": 38,
     "metadata": {},
     "output_type": "execute_result"
    }
   ],
   "source": [
    "print(len(pd.unique(train['id_imdb_movie']))) # nombre de films dans la base test\n",
    "len(train) # nombre de reviews"
   ]
  },
  {
   "cell_type": "code",
   "execution_count": 23,
   "id": "406667b4-9f2f-48de-9e0c-b430cf22678a",
   "metadata": {},
   "outputs": [
    {
     "data": {
      "text/html": [
       "<div>\n",
       "<style scoped>\n",
       "    .dataframe tbody tr th:only-of-type {\n",
       "        vertical-align: middle;\n",
       "    }\n",
       "\n",
       "    .dataframe tbody tr th {\n",
       "        vertical-align: top;\n",
       "    }\n",
       "\n",
       "    .dataframe thead th {\n",
       "        text-align: right;\n",
       "    }\n",
       "</style>\n",
       "<table border=\"1\" class=\"dataframe\">\n",
       "  <thead>\n",
       "    <tr style=\"text-align: right;\">\n",
       "      <th></th>\n",
       "      <th>review</th>\n",
       "      <th>id_review</th>\n",
       "      <th>note</th>\n",
       "      <th>url</th>\n",
       "      <th>id_imdb_movie</th>\n",
       "    </tr>\n",
       "  </thead>\n",
       "  <tbody>\n",
       "    <tr>\n",
       "      <th>0</th>\n",
       "      <td>This film proves you don't need a Hollywood bu...</td>\n",
       "      <td>9235</td>\n",
       "      <td>9</td>\n",
       "      <td>http://www.imdb.com/title/tt0077699/usercomments</td>\n",
       "      <td>tt0077699</td>\n",
       "    </tr>\n",
       "    <tr>\n",
       "      <th>1</th>\n",
       "      <td>I watched this film with a bunch of friends at...</td>\n",
       "      <td>7653</td>\n",
       "      <td>3</td>\n",
       "      <td>http://www.imdb.com/title/tt0463903/usercomments</td>\n",
       "      <td>tt0463903</td>\n",
       "    </tr>\n",
       "    <tr>\n",
       "      <th>2</th>\n",
       "      <td>A vg Brit rom-com, one to watch if you can get...</td>\n",
       "      <td>265</td>\n",
       "      <td>9</td>\n",
       "      <td>http://www.imdb.com/title/tt0182576/usercomments</td>\n",
       "      <td>tt0182576</td>\n",
       "    </tr>\n",
       "    <tr>\n",
       "      <th>3</th>\n",
       "      <td>Steven Seagal is back! Here with his third fil...</td>\n",
       "      <td>8930</td>\n",
       "      <td>2</td>\n",
       "      <td>http://www.imdb.com/title/tt0367623/usercomments</td>\n",
       "      <td>tt0367623</td>\n",
       "    </tr>\n",
       "    <tr>\n",
       "      <th>4</th>\n",
       "      <td>I just found out before writing this review th...</td>\n",
       "      <td>11588</td>\n",
       "      <td>3</td>\n",
       "      <td>http://www.imdb.com/title/tt0202382/usercomments</td>\n",
       "      <td>tt0202382</td>\n",
       "    </tr>\n",
       "  </tbody>\n",
       "</table>\n",
       "</div>"
      ],
      "text/plain": [
       "                                              review id_review note  \\\n",
       "0  This film proves you don't need a Hollywood bu...      9235    9   \n",
       "1  I watched this film with a bunch of friends at...      7653    3   \n",
       "2  A vg Brit rom-com, one to watch if you can get...       265    9   \n",
       "3  Steven Seagal is back! Here with his third fil...      8930    2   \n",
       "4  I just found out before writing this review th...     11588    3   \n",
       "\n",
       "                                                url id_imdb_movie  \n",
       "0  http://www.imdb.com/title/tt0077699/usercomments     tt0077699  \n",
       "1  http://www.imdb.com/title/tt0463903/usercomments     tt0463903  \n",
       "2  http://www.imdb.com/title/tt0182576/usercomments     tt0182576  \n",
       "3  http://www.imdb.com/title/tt0367623/usercomments     tt0367623  \n",
       "4  http://www.imdb.com/title/tt0202382/usercomments     tt0202382  "
      ]
     },
     "execution_count": 23,
     "metadata": {},
     "output_type": "execute_result"
    }
   ],
   "source": [
    "# version shuffled ?\n",
    "test_mix = test.sample(frac=1, random_state=42).reset_index(drop=True)\n",
    "train_mix = train.sample(frac=1, random_state=42).reset_index(drop=True)\n",
    "test_mix.head()"
   ]
  },
  {
   "cell_type": "markdown",
   "id": "62c19b2a-39fc-48e9-96a6-b3b65e3126a3",
   "metadata": {},
   "source": [
    "**Observation des données**"
   ]
  },
  {
   "cell_type": "code",
   "execution_count": 47,
   "id": "83dd3038-2b4a-484b-9f2f-c140b3af1f51",
   "metadata": {},
   "outputs": [
    {
     "data": {
      "image/png": "[encoded data removed]",
      "text/plain": [
       "<Figure size 1000x600 with 1 Axes>"
      ]
     },
     "metadata": {},
     "output_type": "display_data"
    }
   ],
   "source": [
    "# Répartition des ratings\n",
    "\n",
    "plt.figure(figsize=(10, 6))\n",
    "\n",
    "# Distribution du train set\n",
    "sns.countplot(x=\"note\", data=train_mix, color=\"skyblue\", label=\"Train\", order=range(1, 11))\n",
    "\n",
    "# Distribution du test set\n",
    "sns.countplot(x=\"note\", data=test_mix, color=\"purple\", label=\"Test\", order=range(1, 11), alpha=0.6)\n",
    "\n",
    "plt.xlabel(\"Note\")\n",
    "plt.ylabel(\"Nombre d'occurrences\")\n",
    "plt.title(\"Répartition des notes dans les datasets d'entraînement et de test\")\n",
    "plt.legend()\n",
    "plt.show()"
   ]
  },
  {
   "cell_type": "code",
   "execution_count": 25,
   "id": "d81dab3e-18e2-4f10-846e-941b043a0cf6",
   "metadata": {},
   "outputs": [
    {
     "data": {
      "text/html": [
       "<div>\n",
       "<style scoped>\n",
       "    .dataframe tbody tr th:only-of-type {\n",
       "        vertical-align: middle;\n",
       "    }\n",
       "\n",
       "    .dataframe tbody tr th {\n",
       "        vertical-align: top;\n",
       "    }\n",
       "\n",
       "    .dataframe thead th {\n",
       "        text-align: right;\n",
       "    }\n",
       "</style>\n",
       "<table border=\"1\" class=\"dataframe\">\n",
       "  <thead>\n",
       "    <tr style=\"text-align: right;\">\n",
       "      <th></th>\n",
       "      <th>review</th>\n",
       "      <th>id_review</th>\n",
       "      <th>note</th>\n",
       "      <th>url</th>\n",
       "      <th>id_imdb_movie</th>\n",
       "      <th>note_bin</th>\n",
       "      <th>note_prec</th>\n",
       "    </tr>\n",
       "  </thead>\n",
       "  <tbody>\n",
       "    <tr>\n",
       "      <th>0</th>\n",
       "      <td>This film proves you don't need a Hollywood bu...</td>\n",
       "      <td>9235</td>\n",
       "      <td>9</td>\n",
       "      <td>https://www.imdb.com/title/tt0077699/</td>\n",
       "      <td>tt0077699</td>\n",
       "      <td>1</td>\n",
       "      <td>Very Positive</td>\n",
       "    </tr>\n",
       "    <tr>\n",
       "      <th>1</th>\n",
       "      <td>I watched this film with a bunch of friends at...</td>\n",
       "      <td>7653</td>\n",
       "      <td>3</td>\n",
       "      <td>https://www.imdb.com/title/tt0463903/</td>\n",
       "      <td>tt0463903</td>\n",
       "      <td>0</td>\n",
       "      <td>Negative</td>\n",
       "    </tr>\n",
       "    <tr>\n",
       "      <th>2</th>\n",
       "      <td>A vg Brit rom-com, one to watch if you can get...</td>\n",
       "      <td>265</td>\n",
       "      <td>9</td>\n",
       "      <td>https://www.imdb.com/title/tt0182576/</td>\n",
       "      <td>tt0182576</td>\n",
       "      <td>1</td>\n",
       "      <td>Very Positive</td>\n",
       "    </tr>\n",
       "    <tr>\n",
       "      <th>3</th>\n",
       "      <td>Steven Seagal is back! Here with his third fil...</td>\n",
       "      <td>8930</td>\n",
       "      <td>2</td>\n",
       "      <td>https://www.imdb.com/title/tt0367623/</td>\n",
       "      <td>tt0367623</td>\n",
       "      <td>0</td>\n",
       "      <td>Very Negative</td>\n",
       "    </tr>\n",
       "    <tr>\n",
       "      <th>4</th>\n",
       "      <td>I just found out before writing this review th...</td>\n",
       "      <td>11588</td>\n",
       "      <td>3</td>\n",
       "      <td>https://www.imdb.com/title/tt0202382/</td>\n",
       "      <td>tt0202382</td>\n",
       "      <td>0</td>\n",
       "      <td>Negative</td>\n",
       "    </tr>\n",
       "    <tr>\n",
       "      <th>5</th>\n",
       "      <td>If \"Love Me Tonight\" is \"the musical for peopl...</td>\n",
       "      <td>9755</td>\n",
       "      <td>7</td>\n",
       "      <td>https://www.imdb.com/title/tt0124901/</td>\n",
       "      <td>tt0124901</td>\n",
       "      <td>1</td>\n",
       "      <td>Positive</td>\n",
       "    </tr>\n",
       "    <tr>\n",
       "      <th>6</th>\n",
       "      <td>\"Empire Strikes Back\" director Irvin Kershner'...</td>\n",
       "      <td>8519</td>\n",
       "      <td>8</td>\n",
       "      <td>https://www.imdb.com/title/tt0902306/</td>\n",
       "      <td>tt0902306</td>\n",
       "      <td>1</td>\n",
       "      <td>Positive</td>\n",
       "    </tr>\n",
       "    <tr>\n",
       "      <th>7</th>\n",
       "      <td>Bad editing, bad production values, bad contin...</td>\n",
       "      <td>10996</td>\n",
       "      <td>1</td>\n",
       "      <td>https://www.imdb.com/title/tt0808151/</td>\n",
       "      <td>tt0808151</td>\n",
       "      <td>0</td>\n",
       "      <td>Very Negative</td>\n",
       "    </tr>\n",
       "    <tr>\n",
       "      <th>8</th>\n",
       "      <td>Well done melodrama that tells the story of Sa...</td>\n",
       "      <td>7699</td>\n",
       "      <td>9</td>\n",
       "      <td>https://www.imdb.com/title/tt0088583/</td>\n",
       "      <td>tt0088583</td>\n",
       "      <td>1</td>\n",
       "      <td>Very Positive</td>\n",
       "    </tr>\n",
       "    <tr>\n",
       "      <th>9</th>\n",
       "      <td>Four unhappy women leave dreary London to spen...</td>\n",
       "      <td>2378</td>\n",
       "      <td>10</td>\n",
       "      <td>https://www.imdb.com/title/tt0218839/</td>\n",
       "      <td>tt0218839</td>\n",
       "      <td>1</td>\n",
       "      <td>Very Positive</td>\n",
       "    </tr>\n",
       "  </tbody>\n",
       "</table>\n",
       "</div>"
      ],
      "text/plain": [
       "                                              review id_review  note  \\\n",
       "0  This film proves you don't need a Hollywood bu...      9235     9   \n",
       "1  I watched this film with a bunch of friends at...      7653     3   \n",
       "2  A vg Brit rom-com, one to watch if you can get...       265     9   \n",
       "3  Steven Seagal is back! Here with his third fil...      8930     2   \n",
       "4  I just found out before writing this review th...     11588     3   \n",
       "5  If \"Love Me Tonight\" is \"the musical for peopl...      9755     7   \n",
       "6  \"Empire Strikes Back\" director Irvin Kershner'...      8519     8   \n",
       "7  Bad editing, bad production values, bad contin...     10996     1   \n",
       "8  Well done melodrama that tells the story of Sa...      7699     9   \n",
       "9  Four unhappy women leave dreary London to spen...      2378    10   \n",
       "\n",
       "                                     url id_imdb_movie  note_bin  \\\n",
       "0  https://www.imdb.com/title/tt0077699/     tt0077699         1   \n",
       "1  https://www.imdb.com/title/tt0463903/     tt0463903         0   \n",
       "2  https://www.imdb.com/title/tt0182576/     tt0182576         1   \n",
       "3  https://www.imdb.com/title/tt0367623/     tt0367623         0   \n",
       "4  https://www.imdb.com/title/tt0202382/     tt0202382         0   \n",
       "5  https://www.imdb.com/title/tt0124901/     tt0124901         1   \n",
       "6  https://www.imdb.com/title/tt0902306/     tt0902306         1   \n",
       "7  https://www.imdb.com/title/tt0808151/     tt0808151         0   \n",
       "8  https://www.imdb.com/title/tt0088583/     tt0088583         1   \n",
       "9  https://www.imdb.com/title/tt0218839/     tt0218839         1   \n",
       "\n",
       "       note_prec  \n",
       "0  Very Positive  \n",
       "1       Negative  \n",
       "2  Very Positive  \n",
       "3  Very Negative  \n",
       "4       Negative  \n",
       "5       Positive  \n",
       "6       Positive  \n",
       "7  Very Negative  \n",
       "8  Very Positive  \n",
       "9  Very Positive  "
      ]
     },
     "execution_count": 25,
     "metadata": {},
     "output_type": "execute_result"
    }
   ],
   "source": [
    "# Recodages des labels test\n",
    "\n",
    "test_mix['note'] = test_mix['note'].astype(int)\n",
    "\n",
    "# sentiment en binaire\n",
    "test_mix['note_bin'] = test_mix['note'].apply(lambda x: 0 if x <= 4 else (1 if x >= 7 else x))\n",
    "\n",
    "# sentiment plus précis\n",
    "mapping = {\n",
    "    1: 'Very Negative', 2: 'Very Negative',\n",
    "    3: 'Negative', 4: 'Negative',\n",
    "    7: 'Positive', 8: 'Positive', \n",
    "    9: 'Very Positive', 10: 'Very Positive'\n",
    "}\n",
    "test_mix['note_prec'] = test_mix['note'].replace(mapping)\n",
    "\n",
    "# modification des urls, la terminaison 'usercomments' ne sert pas\n",
    "test_mix['url'] = test_mix['url'].str.replace('usercomments', '', regex=False)\n",
    "test_mix['url'] = test_mix['url'].str.replace('http://', 'https://', regex=False)\n",
    "\n",
    "test_mix.head(10)"
   ]
  },
  {
   "cell_type": "code",
   "execution_count": 26,
   "id": "4338b992-3cb6-49d0-a5b4-8f79724188a5",
   "metadata": {},
   "outputs": [
    {
     "data": {
      "text/html": [
       "<div>\n",
       "<style scoped>\n",
       "    .dataframe tbody tr th:only-of-type {\n",
       "        vertical-align: middle;\n",
       "    }\n",
       "\n",
       "    .dataframe tbody tr th {\n",
       "        vertical-align: top;\n",
       "    }\n",
       "\n",
       "    .dataframe thead th {\n",
       "        text-align: right;\n",
       "    }\n",
       "</style>\n",
       "<table border=\"1\" class=\"dataframe\">\n",
       "  <thead>\n",
       "    <tr style=\"text-align: right;\">\n",
       "      <th></th>\n",
       "      <th>review</th>\n",
       "      <th>id_review</th>\n",
       "      <th>note</th>\n",
       "      <th>url</th>\n",
       "      <th>id_imdb_movie</th>\n",
       "      <th>note_bin</th>\n",
       "      <th>note_prec</th>\n",
       "    </tr>\n",
       "  </thead>\n",
       "  <tbody>\n",
       "    <tr>\n",
       "      <th>0</th>\n",
       "      <td>The obvious parallels between Walt Disney's ch...</td>\n",
       "      <td>6153</td>\n",
       "      <td>7</td>\n",
       "      <td>https://www.imdb.com/title/tt0071583/</td>\n",
       "      <td>tt0071583</td>\n",
       "      <td>1</td>\n",
       "      <td>Positive</td>\n",
       "    </tr>\n",
       "    <tr>\n",
       "      <th>1</th>\n",
       "      <td>2005 gave us the very decent \"gore porn\" flick...</td>\n",
       "      <td>5725</td>\n",
       "      <td>3</td>\n",
       "      <td>https://www.imdb.com/title/tt0291502/</td>\n",
       "      <td>tt0291502</td>\n",
       "      <td>0</td>\n",
       "      <td>Negative</td>\n",
       "    </tr>\n",
       "    <tr>\n",
       "      <th>2</th>\n",
       "      <td>A really great movie and true story. Dan Janse...</td>\n",
       "      <td>5896</td>\n",
       "      <td>10</td>\n",
       "      <td>https://www.imdb.com/title/tt0284690/</td>\n",
       "      <td>tt0284690</td>\n",
       "      <td>1</td>\n",
       "      <td>Very Positive</td>\n",
       "    </tr>\n",
       "    <tr>\n",
       "      <th>3</th>\n",
       "      <td>This film is so ridiculously idiot that you ma...</td>\n",
       "      <td>12385</td>\n",
       "      <td>1</td>\n",
       "      <td>https://www.imdb.com/title/tt0066836/</td>\n",
       "      <td>tt0066836</td>\n",
       "      <td>0</td>\n",
       "      <td>Very Negative</td>\n",
       "    </tr>\n",
       "    <tr>\n",
       "      <th>4</th>\n",
       "      <td>Did Francis Ford Coppola have a brain aneurysm...</td>\n",
       "      <td>11553</td>\n",
       "      <td>4</td>\n",
       "      <td>https://www.imdb.com/title/tt0156789/</td>\n",
       "      <td>tt0156789</td>\n",
       "      <td>0</td>\n",
       "      <td>Negative</td>\n",
       "    </tr>\n",
       "    <tr>\n",
       "      <th>5</th>\n",
       "      <td>Life's going not to badly for Harry Mitchell, ...</td>\n",
       "      <td>11091</td>\n",
       "      <td>8</td>\n",
       "      <td>https://www.imdb.com/title/tt0024727/</td>\n",
       "      <td>tt0024727</td>\n",
       "      <td>1</td>\n",
       "      <td>Positive</td>\n",
       "    </tr>\n",
       "    <tr>\n",
       "      <th>6</th>\n",
       "      <td>This is indeed a funny show, done in a creepy ...</td>\n",
       "      <td>2341</td>\n",
       "      <td>8</td>\n",
       "      <td>https://www.imdb.com/title/tt0095655/</td>\n",
       "      <td>tt0095655</td>\n",
       "      <td>1</td>\n",
       "      <td>Positive</td>\n",
       "    </tr>\n",
       "    <tr>\n",
       "      <th>7</th>\n",
       "      <td>Dear dear dear dear dear...me! I had the stren...</td>\n",
       "      <td>10401</td>\n",
       "      <td>2</td>\n",
       "      <td>https://www.imdb.com/title/tt0164052/</td>\n",
       "      <td>tt0164052</td>\n",
       "      <td>0</td>\n",
       "      <td>Very Negative</td>\n",
       "    </tr>\n",
       "    <tr>\n",
       "      <th>8</th>\n",
       "      <td>James Dickey is a wonderfully descriptive auth...</td>\n",
       "      <td>9446</td>\n",
       "      <td>10</td>\n",
       "      <td>https://www.imdb.com/title/tt0070723/</td>\n",
       "      <td>tt0070723</td>\n",
       "      <td>1</td>\n",
       "      <td>Very Positive</td>\n",
       "    </tr>\n",
       "    <tr>\n",
       "      <th>9</th>\n",
       "      <td>What can be said, really... \"The Tenant\" is a ...</td>\n",
       "      <td>5616</td>\n",
       "      <td>8</td>\n",
       "      <td>https://www.imdb.com/title/tt0819765/</td>\n",
       "      <td>tt0819765</td>\n",
       "      <td>1</td>\n",
       "      <td>Positive</td>\n",
       "    </tr>\n",
       "  </tbody>\n",
       "</table>\n",
       "</div>"
      ],
      "text/plain": [
       "                                              review id_review  note  \\\n",
       "0  The obvious parallels between Walt Disney's ch...      6153     7   \n",
       "1  2005 gave us the very decent \"gore porn\" flick...      5725     3   \n",
       "2  A really great movie and true story. Dan Janse...      5896    10   \n",
       "3  This film is so ridiculously idiot that you ma...     12385     1   \n",
       "4  Did Francis Ford Coppola have a brain aneurysm...     11553     4   \n",
       "5  Life's going not to badly for Harry Mitchell, ...     11091     8   \n",
       "6  This is indeed a funny show, done in a creepy ...      2341     8   \n",
       "7  Dear dear dear dear dear...me! I had the stren...     10401     2   \n",
       "8  James Dickey is a wonderfully descriptive auth...      9446    10   \n",
       "9  What can be said, really... \"The Tenant\" is a ...      5616     8   \n",
       "\n",
       "                                     url id_imdb_movie  note_bin  \\\n",
       "0  https://www.imdb.com/title/tt0071583/     tt0071583         1   \n",
       "1  https://www.imdb.com/title/tt0291502/     tt0291502         0   \n",
       "2  https://www.imdb.com/title/tt0284690/     tt0284690         1   \n",
       "3  https://www.imdb.com/title/tt0066836/     tt0066836         0   \n",
       "4  https://www.imdb.com/title/tt0156789/     tt0156789         0   \n",
       "5  https://www.imdb.com/title/tt0024727/     tt0024727         1   \n",
       "6  https://www.imdb.com/title/tt0095655/     tt0095655         1   \n",
       "7  https://www.imdb.com/title/tt0164052/     tt0164052         0   \n",
       "8  https://www.imdb.com/title/tt0070723/     tt0070723         1   \n",
       "9  https://www.imdb.com/title/tt0819765/     tt0819765         1   \n",
       "\n",
       "       note_prec  \n",
       "0       Positive  \n",
       "1       Negative  \n",
       "2  Very Positive  \n",
       "3  Very Negative  \n",
       "4       Negative  \n",
       "5       Positive  \n",
       "6       Positive  \n",
       "7  Very Negative  \n",
       "8  Very Positive  \n",
       "9       Positive  "
      ]
     },
     "execution_count": 26,
     "metadata": {},
     "output_type": "execute_result"
    }
   ],
   "source": [
    "# Recodages des labels train\n",
    "\n",
    "train_mix['note'] = train_mix['note'].astype(int)\n",
    "\n",
    "# sentiment en binaire\n",
    "train_mix['note_bin'] = train_mix['note'].apply(lambda x: 0 if x <= 4 else (1 if x >= 7 else x))\n",
    "\n",
    "# sentiment plus précis\n",
    "mapping = {\n",
    "    1: 'Very Negative', 2: 'Very Negative',\n",
    "    3: 'Negative', 4: 'Negative',\n",
    "    7: 'Positive', 8: 'Positive', \n",
    "    9: 'Very Positive', 10: 'Very Positive'\n",
    "}\n",
    "train_mix['note_prec'] = train_mix['note'].replace(mapping)\n",
    "\n",
    "# modification des urls, la terminaison 'usercomments' ne sert pas\n",
    "train_mix['url'] = train_mix['url'].str.replace('usercomments', '', regex=False)\n",
    "train_mix['url'] = train_mix['url'].str.replace('http://', 'https://', regex=False)\n",
    "\n",
    "train_mix.head(10)"
   ]
  },
  {
   "cell_type": "code",
   "execution_count": 27,
   "id": "8e4bdf60-85be-418f-8241-42053f203653",
   "metadata": {},
   "outputs": [],
   "source": [
    "test_mix.to_csv(\"test_mix.csv\", index=True)  # enregistrement du dataset de test (shuffled)"
   ]
  },
  {
   "cell_type": "code",
   "execution_count": 28,
   "id": "cefc33e3-a613-4d0f-a2c6-565a362f8bb1",
   "metadata": {},
   "outputs": [],
   "source": [
    "train_mix.to_csv(\"train_mix.csv\", index=True)  # enregistrement du dataset de train (shuffled)"
   ]
  },
  {
   "cell_type": "code",
   "execution_count": 29,
   "id": "2e528c49-3a87-47ce-ae46-4ef7ec4b1676",
   "metadata": {},
   "outputs": [
    {
     "data": {
      "text/plain": [
       "Index(['Unnamed: 0', 'review', 'id_review', 'note', 'url', 'id_imdb_movie',\n",
       "       'note_bin', 'note_prec'],\n",
       "      dtype='object')"
      ]
     },
     "execution_count": 29,
     "metadata": {},
     "output_type": "execute_result"
    }
   ],
   "source": [
    "test_mix = pd.read_csv('test_mix.csv')\n",
    "test_mix.columns"
   ]
  },
  {
   "cell_type": "code",
   "execution_count": 30,
   "id": "a4c33bbe-94d6-489f-96bc-f79024f35a41",
   "metadata": {},
   "outputs": [
    {
     "data": {
      "text/plain": [
       "Index(['Unnamed: 0', 'review', 'id_review', 'note', 'url', 'id_imdb_movie',\n",
       "       'note_bin', 'note_prec'],\n",
       "      dtype='object')"
      ]
     },
     "execution_count": 30,
     "metadata": {},
     "output_type": "execute_result"
    }
   ],
   "source": [
    "train_mix = pd.read_csv('train_mix.csv')\n",
    "train_mix.columns"
   ]
  },
  {
   "cell_type": "code",
   "execution_count": null,
   "id": "771385be-b058-45b4-b352-6c1153a09da8",
   "metadata": {},
   "outputs": [],
   "source": [
    "# à faire :\n",
    "# 1) la moyenne des notes sur chaque film, la variance et l'écart-type => est-ce que les reviews sont très contrastées sur chaque film ?\n",
    "# 2) nombre de reviews par film en moyenne (vérifier qu'on est pas à plus de 30 pour chaque, mais c'est quoi la répartition exacte ? car il n'y a pas 30 reviews par film)\n",
    "# 3) appliquer le modèle BERT pour constater un haut niveau d'accuracy"
   ]
  },
  {
   "cell_type": "code",
   "execution_count": 39,
   "id": "7bc2f33c-8ff4-4646-a29c-7c32e76e1591",
   "metadata": {},
   "outputs": [
    {
     "name": "stdout",
     "output_type": "stream",
     "text": [
      "Average variance in ratings per movie: 4.10\n",
      "count    2793.000000\n",
      "mean        4.104416\n",
      "std         4.954545\n",
      "min         0.000000\n",
      "25%         1.000000\n",
      "50%         1.866667\n",
      "75%         5.730994\n",
      "max        40.500000\n",
      "Name: note, dtype: float64\n"
     ]
    }
   ],
   "source": [
    "# 1) contraste des notes sur chaque film\n",
    "\n",
    "# Variance per movie\n",
    "rating_variance = train_mix.groupby('id_imdb_movie')['note'].var()\n",
    "\n",
    "# Drop NaNs (movies with only one review will have NaN variance)\n",
    "#rating_variance = rating_variance.dropna()\n",
    "\n",
    "# Average variance\n",
    "avg_variance = rating_variance.mean()\n",
    "\n",
    "print(f\"Average variance in ratings per movie: {avg_variance:.2f}\")\n",
    "print(rating_variance.describe())"
   ]
  },
  {
   "cell_type": "code",
   "execution_count": 48,
   "id": "d36ad574-cc11-4556-9fde-f68725b1e007",
   "metadata": {},
   "outputs": [
    {
     "data": {
      "image/png": "[encoded data removed]",
      "text/plain": [
       "<Figure size 1000x600 with 1 Axes>"
      ]
     },
     "metadata": {},
     "output_type": "display_data"
    }
   ],
   "source": [
    "# 2) number of reviews per movie\n",
    "# Nombre de reviews par film dans chaque set\n",
    "train_review_counts = train_mix['id_imdb_movie'].value_counts().value_counts().sort_index()\n",
    "test_review_counts = test_mix['id_imdb_movie'].value_counts().value_counts().sort_index()\n",
    "\n",
    "# Tracer les deux distributions superposées\n",
    "plt.figure(figsize=(10, 6))\n",
    "sns.barplot(x=train_review_counts.index, y=train_review_counts.values, color='skyblue', label='Train')\n",
    "sns.barplot(x=test_review_counts.index, y=test_review_counts.values, color='purple', alpha=0.6, label='Test')\n",
    "\n",
    "# Mise en forme\n",
    "plt.title('Distribution du nombre de reviews par film (Train vs Test)')\n",
    "plt.xlabel('Nombre de reviews')\n",
    "plt.ylabel('Nombre de films')\n",
    "plt.legend()\n",
    "plt.show()"
   ]
  },
  {
   "cell_type": "code",
   "execution_count": 46,
   "id": "3be0deb4-75c4-4d03-8c12-dcdb916a9ee1",
   "metadata": {},
   "outputs": [
    {
     "data": {
      "image/png": "[encoded data removed]",
      "text/plain": [
       "<Figure size 1000x600 with 1 Axes>"
      ]
     },
     "metadata": {},
     "output_type": "display_data"
    }
   ],
   "source": [
    "# Distribution des variances \n",
    "plt.figure(figsize=(10, 6))\n",
    "sns.histplot(rating_variance, bins=50)\n",
    "plt.title('Distribution of Rating Variance per Movie')\n",
    "plt.xlabel('Variance')\n",
    "plt.ylabel('Number of Movies')\n",
    "plt.show()"
   ]
  }
 ],
 "metadata": {
  "kernelspec": {
   "display_name": "Python 3 (ipykernel)",
   "language": "python",
   "name": "python3"
  },
  "language_info": {
   "codemirror_mode": {
    "name": "ipython",
    "version": 3
   },
   "file_extension": ".py",
   "mimetype": "text/x-python",
   "name": "python",
   "nbconvert_exporter": "python",
   "pygments_lexer": "ipython3",
   "version": "3.12.9"
  }
 },
 "nbformat": 4,
 "nbformat_minor": 5
}

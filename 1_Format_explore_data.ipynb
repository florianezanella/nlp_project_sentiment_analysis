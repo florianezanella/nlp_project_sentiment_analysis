{
 "cells": [
  {
   "cell_type": "markdown",
   "id": "617021bb-4214-46d3-911c-bcead3eadcf8",
   "metadata": {},
   "source": [
    "# 1 - Retrieving, formating, and exploring the data\n",
    "\n",
    "Mini-project for the 'Machine learning for NLP' course at ENSAE - May 2025"
   ]
  },
  {
   "cell_type": "markdown",
   "id": "5cb90b57-f7e4-433d-832b-f9f23663ff96",
   "metadata": {},
   "source": [
    "Paul Dupire and Floriane Zanella"
   ]
  },
  {
   "cell_type": "markdown",
   "id": "539248b2-2b70-4065-847f-c0e2f7aee3f4",
   "metadata": {},
   "source": [
    "## Installing and loading the necessary packages"
   ]
  },
  {
   "cell_type": "code",
   "execution_count": null,
   "id": "e69dd6ab-4546-4258-b54a-7befbf3733de",
   "metadata": {},
   "outputs": [],
   "source": [
    "#!pip install seaborn"
   ]
  },
  {
   "cell_type": "code",
   "execution_count": 40,
   "id": "928a970d-3750-454f-9d30-6d2b0c06bbef",
   "metadata": {},
   "outputs": [],
   "source": [
    "import pandas as pd\n",
    "import numpy as np\n",
    "import seaborn as sns\n",
    "import matplotlib.pyplot as plt\n",
    "import os\n",
    "import tarfile\n",
    "import urllib.request\n",
    "import glob\n",
    "import re\n",
    "import math\n",
    "from collections import Counter"
   ]
  },
  {
   "cell_type": "markdown",
   "id": "98c82bdb-4571-446d-af3d-089ecff9739b",
   "metadata": {},
   "source": [
    "## Retrieving the data from the provided webpage"
   ]
  },
  {
   "cell_type": "code",
   "execution_count": 10,
   "id": "a22ff4d3-46df-4e10-9719-743f59158155",
   "metadata": {},
   "outputs": [
    {
     "name": "stderr",
     "output_type": "stream",
     "text": [
      "/tmp/ipykernel_929/393250052.py:9: DeprecationWarning: Python 3.14 will, by default, filter extracted tar archives and reject files or modify their metadata. Use the filter argument to control this behavior.\n",
      "  tar.extractall()\n"
     ]
    },
    {
     "name": "stdout",
     "output_type": "stream",
     "text": [
      "Dataset downloaded and extracted.\n"
     ]
    }
   ],
   "source": [
    "# Downloading and extracting the IMDb Dataset\n",
    "\n",
    "url = \"http://ai.stanford.edu/~amaas/data/sentiment/aclImdb_v1.tar.gz\"\n",
    "filename = \"aclImdb_v1.tar.gz\"\n",
    "\n",
    "if not os.path.exists(\"aclImdb\"):\n",
    "    urllib.request.urlretrieve(url, filename)\n",
    "    with tarfile.open(filename, \"r:gz\") as tar:\n",
    "        tar.extractall()\n",
    "    print(\"Dataset downloaded and extracted.\")"
   ]
  },
  {
   "cell_type": "code",
   "execution_count": 11,
   "id": "d1ae4b55-d82a-42bd-b76b-7c324e848ddb",
   "metadata": {},
   "outputs": [],
   "source": [
    "# Creating our datasets (urls are there to identify the movies, and for further analysis of movie characteristics)\n",
    "\n",
    "def create_datasets(dataset_type, polarity, base_path=\"aclImdb\"):\n",
    "    \"\"\"    \n",
    "    dataset_type: 'train' or 'test'\n",
    "    polarity: 'pos' or 'neg'\n",
    "    \"\"\"\n",
    "    review_path = os.path.join(base_path, dataset_type, polarity)\n",
    "    url_file = os.path.join(base_path, dataset_type, f\"urls_{polarity}.txt\")\n",
    "    \n",
    "    # Loading review files into a list\n",
    "    data = []\n",
    "    for filepath in sorted(glob.glob(os.path.join(review_path, \"*.txt\"))):\n",
    "        with open(filepath, \"r\", encoding=\"utf-8\") as f:\n",
    "            review_text = f.read()\n",
    "        review_id, rating = os.path.basename(filepath).replace(\".txt\", \"\").split(\"_\")\n",
    "        label = 1 if polarity == \"pos\" else 0\n",
    "        data.append((review_id, review_text, rating, label))\n",
    "    \n",
    "    # Creating a dataframe for the reviews\n",
    "    df_reviews = pd.DataFrame(data, columns=[\"id_review\", \"review\", \"rating\", \"label\"])\n",
    "\n",
    "    # Loading URL files\n",
    "    df_urls = pd.read_csv(url_file, header=None, names=['url'])\n",
    "    df_urls['id_review'] = df_urls.index\n",
    "    df_reviews['id_review'] = df_reviews['id_review'].astype(int)\n",
    "    df_urls['id_review'] = df_urls['id_review'].astype(int)\n",
    "    \n",
    "    # Merge review data with URL data\n",
    "    merged_df = pd.merge(df_reviews, df_urls, on=\"id_review\", how=\"inner\")\n",
    "    \n",
    "    return merged_df\n",
    "\n",
    "# 4 subsets, as organized in the initial file\n",
    "merged_train_neg = create_datasets(dataset_type=\"train\", polarity=\"neg\")\n",
    "merged_train_pos = create_datasets(dataset_type=\"train\", polarity=\"pos\")\n",
    "merged_test_neg = create_datasets(dataset_type=\"test\", polarity=\"neg\")\n",
    "merged_test_pos = create_datasets(dataset_type=\"test\", polarity=\"pos\")"
   ]
  },
  {
   "cell_type": "code",
   "execution_count": 12,
   "id": "f9d3d70e-8f41-4f35-9f9e-badd0bb855f2",
   "metadata": {},
   "outputs": [
    {
     "data": {
      "text/html": [
       "<div>\n",
       "<style scoped>\n",
       "    .dataframe tbody tr th:only-of-type {\n",
       "        vertical-align: middle;\n",
       "    }\n",
       "\n",
       "    .dataframe tbody tr th {\n",
       "        vertical-align: top;\n",
       "    }\n",
       "\n",
       "    .dataframe thead th {\n",
       "        text-align: right;\n",
       "    }\n",
       "</style>\n",
       "<table border=\"1\" class=\"dataframe\">\n",
       "  <thead>\n",
       "    <tr style=\"text-align: right;\">\n",
       "      <th></th>\n",
       "      <th>id_review</th>\n",
       "      <th>review</th>\n",
       "      <th>rating</th>\n",
       "      <th>label</th>\n",
       "      <th>url</th>\n",
       "    </tr>\n",
       "  </thead>\n",
       "  <tbody>\n",
       "    <tr>\n",
       "      <th>0</th>\n",
       "      <td>0</td>\n",
       "      <td>Story of a man who has unnatural feelings for ...</td>\n",
       "      <td>3</td>\n",
       "      <td>0</td>\n",
       "      <td>http://www.imdb.com/title/tt0064354/usercomments</td>\n",
       "    </tr>\n",
       "    <tr>\n",
       "      <th>1</th>\n",
       "      <td>10000</td>\n",
       "      <td>Airport '77 starts as a brand new luxury 747 p...</td>\n",
       "      <td>4</td>\n",
       "      <td>0</td>\n",
       "      <td>http://www.imdb.com/title/tt0075648/usercomments</td>\n",
       "    </tr>\n",
       "    <tr>\n",
       "      <th>2</th>\n",
       "      <td>10001</td>\n",
       "      <td>This film lacked something I couldn't put my f...</td>\n",
       "      <td>4</td>\n",
       "      <td>0</td>\n",
       "      <td>http://www.imdb.com/title/tt0117050/usercomments</td>\n",
       "    </tr>\n",
       "    <tr>\n",
       "      <th>3</th>\n",
       "      <td>10002</td>\n",
       "      <td>Sorry everyone,,, I know this is supposed to b...</td>\n",
       "      <td>1</td>\n",
       "      <td>0</td>\n",
       "      <td>http://www.imdb.com/title/tt0077742/usercomments</td>\n",
       "    </tr>\n",
       "    <tr>\n",
       "      <th>4</th>\n",
       "      <td>10003</td>\n",
       "      <td>When I was little my parents took me along to ...</td>\n",
       "      <td>1</td>\n",
       "      <td>0</td>\n",
       "      <td>http://www.imdb.com/title/tt0077742/usercomments</td>\n",
       "    </tr>\n",
       "  </tbody>\n",
       "</table>\n",
       "</div>"
      ],
      "text/plain": [
       "   id_review                                             review rating  label  \\\n",
       "0          0  Story of a man who has unnatural feelings for ...      3      0   \n",
       "1      10000  Airport '77 starts as a brand new luxury 747 p...      4      0   \n",
       "2      10001  This film lacked something I couldn't put my f...      4      0   \n",
       "3      10002  Sorry everyone,,, I know this is supposed to b...      1      0   \n",
       "4      10003  When I was little my parents took me along to ...      1      0   \n",
       "\n",
       "                                                url  \n",
       "0  http://www.imdb.com/title/tt0064354/usercomments  \n",
       "1  http://www.imdb.com/title/tt0075648/usercomments  \n",
       "2  http://www.imdb.com/title/tt0117050/usercomments  \n",
       "3  http://www.imdb.com/title/tt0077742/usercomments  \n",
       "4  http://www.imdb.com/title/tt0077742/usercomments  "
      ]
     },
     "execution_count": 12,
     "metadata": {},
     "output_type": "execute_result"
    }
   ],
   "source": [
    "merged_train_neg.head()"
   ]
  },
  {
   "cell_type": "code",
   "execution_count": 13,
   "id": "b0126441-0dcb-4d6a-b95b-221ca3145cfa",
   "metadata": {},
   "outputs": [
    {
     "name": "stdout",
     "output_type": "stream",
     "text": [
      "3016\n"
     ]
    },
    {
     "data": {
      "text/plain": [
       "12500"
      ]
     },
     "execution_count": 13,
     "metadata": {},
     "output_type": "execute_result"
    }
   ],
   "source": [
    "print(len(pd.unique(merged_test_neg['url']))) # number of movies in the negative part of the test set\n",
    "len(merged_test_neg) # number of reviews in this dataset"
   ]
  },
  {
   "cell_type": "code",
   "execution_count": 14,
   "id": "e7eebb7e-2c36-4f90-9cfe-9dcf037470b5",
   "metadata": {},
   "outputs": [],
   "source": [
    "test = pd.concat([merged_test_pos, merged_test_neg], ignore_index=True)\n",
    "train = pd.concat([merged_train_pos, merged_train_neg], ignore_index=True)"
   ]
  },
  {
   "cell_type": "code",
   "execution_count": 15,
   "id": "20881b7d-da97-4623-b2a8-157766c809b3",
   "metadata": {},
   "outputs": [
    {
     "data": {
      "text/html": [
       "<div>\n",
       "<style scoped>\n",
       "    .dataframe tbody tr th:only-of-type {\n",
       "        vertical-align: middle;\n",
       "    }\n",
       "\n",
       "    .dataframe tbody tr th {\n",
       "        vertical-align: top;\n",
       "    }\n",
       "\n",
       "    .dataframe thead th {\n",
       "        text-align: right;\n",
       "    }\n",
       "</style>\n",
       "<table border=\"1\" class=\"dataframe\">\n",
       "  <thead>\n",
       "    <tr style=\"text-align: right;\">\n",
       "      <th></th>\n",
       "      <th>id_review</th>\n",
       "      <th>review</th>\n",
       "      <th>rating</th>\n",
       "      <th>label</th>\n",
       "      <th>url</th>\n",
       "    </tr>\n",
       "  </thead>\n",
       "  <tbody>\n",
       "    <tr>\n",
       "      <th>6868</th>\n",
       "      <td>4932</td>\n",
       "      <td>When I was a kid, I loved \"Tiny Toons\". I espe...</td>\n",
       "      <td>10</td>\n",
       "      <td>1</td>\n",
       "      <td>http://www.imdb.com/title/tt0105598/usercomments</td>\n",
       "    </tr>\n",
       "    <tr>\n",
       "      <th>24016</th>\n",
       "      <td>9115</td>\n",
       "      <td>The setup for \"Nature of the Beast\" is ingenio...</td>\n",
       "      <td>3</td>\n",
       "      <td>0</td>\n",
       "      <td>http://www.imdb.com/title/tt0113939/usercomments</td>\n",
       "    </tr>\n",
       "    <tr>\n",
       "      <th>9668</th>\n",
       "      <td>7452</td>\n",
       "      <td>I do not have much to say than this is a great...</td>\n",
       "      <td>10</td>\n",
       "      <td>1</td>\n",
       "      <td>http://www.imdb.com/title/tt0385700/usercomments</td>\n",
       "    </tr>\n",
       "    <tr>\n",
       "      <th>13640</th>\n",
       "      <td>11026</td>\n",
       "      <td>Extremely formulaic with cosmic-sized logic ho...</td>\n",
       "      <td>3</td>\n",
       "      <td>0</td>\n",
       "      <td>http://www.imdb.com/title/tt0031602/usercomments</td>\n",
       "    </tr>\n",
       "    <tr>\n",
       "      <th>14018</th>\n",
       "      <td>11367</td>\n",
       "      <td>I actually liked certain things about this gam...</td>\n",
       "      <td>4</td>\n",
       "      <td>0</td>\n",
       "      <td>http://www.imdb.com/title/tt0232532/usercomments</td>\n",
       "    </tr>\n",
       "  </tbody>\n",
       "</table>\n",
       "</div>"
      ],
      "text/plain": [
       "       id_review                                             review rating  \\\n",
       "6868        4932  When I was a kid, I loved \"Tiny Toons\". I espe...     10   \n",
       "24016       9115  The setup for \"Nature of the Beast\" is ingenio...      3   \n",
       "9668        7452  I do not have much to say than this is a great...     10   \n",
       "13640      11026  Extremely formulaic with cosmic-sized logic ho...      3   \n",
       "14018      11367  I actually liked certain things about this gam...      4   \n",
       "\n",
       "       label                                               url  \n",
       "6868       1  http://www.imdb.com/title/tt0105598/usercomments  \n",
       "24016      0  http://www.imdb.com/title/tt0113939/usercomments  \n",
       "9668       1  http://www.imdb.com/title/tt0385700/usercomments  \n",
       "13640      0  http://www.imdb.com/title/tt0031602/usercomments  \n",
       "14018      0  http://www.imdb.com/title/tt0232532/usercomments  "
      ]
     },
     "execution_count": 15,
     "metadata": {},
     "output_type": "execute_result"
    }
   ],
   "source": [
    "# we shuffle the data in both datasets\n",
    "test_df = test.sample(frac=1, random_state=42)\n",
    "train_df = train.sample(frac=1, random_state=42)\n",
    "test_df.head()"
   ]
  },
  {
   "cell_type": "code",
   "execution_count": 16,
   "id": "f9849b8d-fc7b-40dc-9c0b-09261a4d218c",
   "metadata": {},
   "outputs": [],
   "source": [
    "# Dealing with HTML tags\n",
    "def remove_html_tags(text):\n",
    "    clean_text = re.sub(r'<.*?>', '', text)  # removing any HTML tag (e.g., <br>, <div>, <p>, etc.)\n",
    "    return clean_text\n",
    "\n",
    "test_df[\"review\"] = test_df[\"review\"].apply(remove_html_tags)\n",
    "train_df[\"review\"] = train_df[\"review\"].apply(remove_html_tags)"
   ]
  },
  {
   "cell_type": "code",
   "execution_count": 17,
   "id": "1356cab5-6b9b-4258-b502-24293af27b62",
   "metadata": {},
   "outputs": [],
   "source": [
    "test_df['rating'] = test_df['rating'].astype(int)\n",
    "train_df['rating'] = train_df['rating'].astype(int)"
   ]
  },
  {
   "cell_type": "code",
   "execution_count": 18,
   "id": "d81dab3e-18e2-4f10-846e-941b043a0cf6",
   "metadata": {},
   "outputs": [
    {
     "data": {
      "text/html": [
       "<div>\n",
       "<style scoped>\n",
       "    .dataframe tbody tr th:only-of-type {\n",
       "        vertical-align: middle;\n",
       "    }\n",
       "\n",
       "    .dataframe tbody tr th {\n",
       "        vertical-align: top;\n",
       "    }\n",
       "\n",
       "    .dataframe thead th {\n",
       "        text-align: right;\n",
       "    }\n",
       "</style>\n",
       "<table border=\"1\" class=\"dataframe\">\n",
       "  <thead>\n",
       "    <tr style=\"text-align: right;\">\n",
       "      <th></th>\n",
       "      <th>id_review</th>\n",
       "      <th>review</th>\n",
       "      <th>rating</th>\n",
       "      <th>label</th>\n",
       "      <th>url</th>\n",
       "      <th>id_movie</th>\n",
       "    </tr>\n",
       "  </thead>\n",
       "  <tbody>\n",
       "    <tr>\n",
       "      <th>6868</th>\n",
       "      <td>4932</td>\n",
       "      <td>When I was a kid, I loved \"Tiny Toons\". I espe...</td>\n",
       "      <td>10</td>\n",
       "      <td>1</td>\n",
       "      <td>https://www.imdb.com/title/tt0105598/</td>\n",
       "      <td>tt0105598</td>\n",
       "    </tr>\n",
       "    <tr>\n",
       "      <th>24016</th>\n",
       "      <td>9115</td>\n",
       "      <td>The setup for \"Nature of the Beast\" is ingenio...</td>\n",
       "      <td>3</td>\n",
       "      <td>0</td>\n",
       "      <td>https://www.imdb.com/title/tt0113939/</td>\n",
       "      <td>tt0113939</td>\n",
       "    </tr>\n",
       "    <tr>\n",
       "      <th>9668</th>\n",
       "      <td>7452</td>\n",
       "      <td>I do not have much to say than this is a great...</td>\n",
       "      <td>10</td>\n",
       "      <td>1</td>\n",
       "      <td>https://www.imdb.com/title/tt0385700/</td>\n",
       "      <td>tt0385700</td>\n",
       "    </tr>\n",
       "    <tr>\n",
       "      <th>13640</th>\n",
       "      <td>11026</td>\n",
       "      <td>Extremely formulaic with cosmic-sized logic ho...</td>\n",
       "      <td>3</td>\n",
       "      <td>0</td>\n",
       "      <td>https://www.imdb.com/title/tt0031602/</td>\n",
       "      <td>tt0031602</td>\n",
       "    </tr>\n",
       "    <tr>\n",
       "      <th>14018</th>\n",
       "      <td>11367</td>\n",
       "      <td>I actually liked certain things about this gam...</td>\n",
       "      <td>4</td>\n",
       "      <td>0</td>\n",
       "      <td>https://www.imdb.com/title/tt0232532/</td>\n",
       "      <td>tt0232532</td>\n",
       "    </tr>\n",
       "    <tr>\n",
       "      <th>7488</th>\n",
       "      <td>5490</td>\n",
       "      <td>I was watching the Perfect Storm, and thought ...</td>\n",
       "      <td>9</td>\n",
       "      <td>1</td>\n",
       "      <td>https://www.imdb.com/title/tt0107206/</td>\n",
       "      <td>tt0107206</td>\n",
       "    </tr>\n",
       "    <tr>\n",
       "      <th>5804</th>\n",
       "      <td>3975</td>\n",
       "      <td>The best thing from the American Pie \"bakery.\"...</td>\n",
       "      <td>10</td>\n",
       "      <td>1</td>\n",
       "      <td>https://www.imdb.com/title/tt0384793/</td>\n",
       "      <td>tt0384793</td>\n",
       "    </tr>\n",
       "    <tr>\n",
       "      <th>12909</th>\n",
       "      <td>10369</td>\n",
       "      <td>A severe backwards step for the puppets in thi...</td>\n",
       "      <td>4</td>\n",
       "      <td>0</td>\n",
       "      <td>https://www.imdb.com/title/tt0107899/</td>\n",
       "      <td>tt0107899</td>\n",
       "    </tr>\n",
       "    <tr>\n",
       "      <th>3386</th>\n",
       "      <td>1799</td>\n",
       "      <td>\"Valley Girl\" launched Nicolas Cage's career a...</td>\n",
       "      <td>9</td>\n",
       "      <td>1</td>\n",
       "      <td>https://www.imdb.com/title/tt0086525/</td>\n",
       "      <td>tt0086525</td>\n",
       "    </tr>\n",
       "    <tr>\n",
       "      <th>9567</th>\n",
       "      <td>7361</td>\n",
       "      <td>I cannot believe I enjoyed this as much as I d...</td>\n",
       "      <td>8</td>\n",
       "      <td>1</td>\n",
       "      <td>https://www.imdb.com/title/tt0115813/</td>\n",
       "      <td>tt0115813</td>\n",
       "    </tr>\n",
       "  </tbody>\n",
       "</table>\n",
       "</div>"
      ],
      "text/plain": [
       "       id_review                                             review  rating  \\\n",
       "6868        4932  When I was a kid, I loved \"Tiny Toons\". I espe...      10   \n",
       "24016       9115  The setup for \"Nature of the Beast\" is ingenio...       3   \n",
       "9668        7452  I do not have much to say than this is a great...      10   \n",
       "13640      11026  Extremely formulaic with cosmic-sized logic ho...       3   \n",
       "14018      11367  I actually liked certain things about this gam...       4   \n",
       "7488        5490  I was watching the Perfect Storm, and thought ...       9   \n",
       "5804        3975  The best thing from the American Pie \"bakery.\"...      10   \n",
       "12909      10369  A severe backwards step for the puppets in thi...       4   \n",
       "3386        1799  \"Valley Girl\" launched Nicolas Cage's career a...       9   \n",
       "9567        7361  I cannot believe I enjoyed this as much as I d...       8   \n",
       "\n",
       "       label                                    url   id_movie  \n",
       "6868       1  https://www.imdb.com/title/tt0105598/  tt0105598  \n",
       "24016      0  https://www.imdb.com/title/tt0113939/  tt0113939  \n",
       "9668       1  https://www.imdb.com/title/tt0385700/  tt0385700  \n",
       "13640      0  https://www.imdb.com/title/tt0031602/  tt0031602  \n",
       "14018      0  https://www.imdb.com/title/tt0232532/  tt0232532  \n",
       "7488       1  https://www.imdb.com/title/tt0107206/  tt0107206  \n",
       "5804       1  https://www.imdb.com/title/tt0384793/  tt0384793  \n",
       "12909      0  https://www.imdb.com/title/tt0107899/  tt0107899  \n",
       "3386       1  https://www.imdb.com/title/tt0086525/  tt0086525  \n",
       "9567       1  https://www.imdb.com/title/tt0115813/  tt0115813  "
      ]
     },
     "execution_count": 18,
     "metadata": {},
     "output_type": "execute_result"
    }
   ],
   "source": [
    "# Modification of URLs for the test set, the ending 'usercomments' is useless\n",
    "test_df['url'] = test_df['url'].str.replace('usercomments', '', regex=False)\n",
    "test_df['url'] = test_df['url'].str.replace('http://', 'https://', regex=False)\n",
    "\n",
    "# Extracting the movie id on IMDb website using the URL\n",
    "test_df['id_movie'] = test_df['url'].str.replace('https://www.imdb.com/title/', '', regex=False)\n",
    "test_df['id_movie'] = test_df['id_movie'].str.replace('/', '', regex=False)\n",
    "\n",
    "test_df.head(10)"
   ]
  },
  {
   "cell_type": "code",
   "execution_count": 19,
   "id": "4338b992-3cb6-49d0-a5b4-8f79724188a5",
   "metadata": {},
   "outputs": [
    {
     "data": {
      "text/html": [
       "<div>\n",
       "<style scoped>\n",
       "    .dataframe tbody tr th:only-of-type {\n",
       "        vertical-align: middle;\n",
       "    }\n",
       "\n",
       "    .dataframe tbody tr th {\n",
       "        vertical-align: top;\n",
       "    }\n",
       "\n",
       "    .dataframe thead th {\n",
       "        text-align: right;\n",
       "    }\n",
       "</style>\n",
       "<table border=\"1\" class=\"dataframe\">\n",
       "  <thead>\n",
       "    <tr style=\"text-align: right;\">\n",
       "      <th></th>\n",
       "      <th>id_review</th>\n",
       "      <th>review</th>\n",
       "      <th>rating</th>\n",
       "      <th>label</th>\n",
       "      <th>url</th>\n",
       "      <th>id_movie</th>\n",
       "    </tr>\n",
       "  </thead>\n",
       "  <tbody>\n",
       "    <tr>\n",
       "      <th>6868</th>\n",
       "      <td>4932</td>\n",
       "      <td>In Panic In The Streets Richard Widmark plays ...</td>\n",
       "      <td>8</td>\n",
       "      <td>1</td>\n",
       "      <td>https://www.imdb.com/title/tt0042832/</td>\n",
       "      <td>tt0042832</td>\n",
       "    </tr>\n",
       "    <tr>\n",
       "      <th>24016</th>\n",
       "      <td>9115</td>\n",
       "      <td>If you ask me the first one was really better ...</td>\n",
       "      <td>1</td>\n",
       "      <td>0</td>\n",
       "      <td>https://www.imdb.com/title/tt0196267/</td>\n",
       "      <td>tt0196267</td>\n",
       "    </tr>\n",
       "    <tr>\n",
       "      <th>9668</th>\n",
       "      <td>7452</td>\n",
       "      <td>I am a big fan a Faerie Tale Theatre and I've ...</td>\n",
       "      <td>10</td>\n",
       "      <td>1</td>\n",
       "      <td>https://www.imdb.com/title/tt0575495/</td>\n",
       "      <td>tt0575495</td>\n",
       "    </tr>\n",
       "    <tr>\n",
       "      <th>13640</th>\n",
       "      <td>11026</td>\n",
       "      <td>I just finished reading a book about Dillinger...</td>\n",
       "      <td>1</td>\n",
       "      <td>0</td>\n",
       "      <td>https://www.imdb.com/title/tt0069976/</td>\n",
       "      <td>tt0069976</td>\n",
       "    </tr>\n",
       "    <tr>\n",
       "      <th>14018</th>\n",
       "      <td>11367</td>\n",
       "      <td>Greg Davis and Bryan Daly take some crazed sta...</td>\n",
       "      <td>2</td>\n",
       "      <td>0</td>\n",
       "      <td>https://www.imdb.com/title/tt0818682/</td>\n",
       "      <td>tt0818682</td>\n",
       "    </tr>\n",
       "    <tr>\n",
       "      <th>7488</th>\n",
       "      <td>5490</td>\n",
       "      <td>This really is an incredible film. Not only do...</td>\n",
       "      <td>9</td>\n",
       "      <td>1</td>\n",
       "      <td>https://www.imdb.com/title/tt0363940/</td>\n",
       "      <td>tt0363940</td>\n",
       "    </tr>\n",
       "    <tr>\n",
       "      <th>5804</th>\n",
       "      <td>3975</td>\n",
       "      <td>If you lived through the 60s, this film can be...</td>\n",
       "      <td>10</td>\n",
       "      <td>1</td>\n",
       "      <td>https://www.imdb.com/title/tt0795102/</td>\n",
       "      <td>tt0795102</td>\n",
       "    </tr>\n",
       "    <tr>\n",
       "      <th>12909</th>\n",
       "      <td>10369</td>\n",
       "      <td>As a writer I find films this bad making it in...</td>\n",
       "      <td>1</td>\n",
       "      <td>0</td>\n",
       "      <td>https://www.imdb.com/title/tt0783501/</td>\n",
       "      <td>tt0783501</td>\n",
       "    </tr>\n",
       "    <tr>\n",
       "      <th>3386</th>\n",
       "      <td>1799</td>\n",
       "      <td>I'm 14 years old and I love this cartoon. Burt...</td>\n",
       "      <td>7</td>\n",
       "      <td>1</td>\n",
       "      <td>https://www.imdb.com/title/tt0096787/</td>\n",
       "      <td>tt0096787</td>\n",
       "    </tr>\n",
       "    <tr>\n",
       "      <th>9567</th>\n",
       "      <td>7361</td>\n",
       "      <td>This film would usually classify as the worst ...</td>\n",
       "      <td>10</td>\n",
       "      <td>1</td>\n",
       "      <td>https://www.imdb.com/title/tt0369946/</td>\n",
       "      <td>tt0369946</td>\n",
       "    </tr>\n",
       "  </tbody>\n",
       "</table>\n",
       "</div>"
      ],
      "text/plain": [
       "       id_review                                             review  rating  \\\n",
       "6868        4932  In Panic In The Streets Richard Widmark plays ...       8   \n",
       "24016       9115  If you ask me the first one was really better ...       1   \n",
       "9668        7452  I am a big fan a Faerie Tale Theatre and I've ...      10   \n",
       "13640      11026  I just finished reading a book about Dillinger...       1   \n",
       "14018      11367  Greg Davis and Bryan Daly take some crazed sta...       2   \n",
       "7488        5490  This really is an incredible film. Not only do...       9   \n",
       "5804        3975  If you lived through the 60s, this film can be...      10   \n",
       "12909      10369  As a writer I find films this bad making it in...       1   \n",
       "3386        1799  I'm 14 years old and I love this cartoon. Burt...       7   \n",
       "9567        7361  This film would usually classify as the worst ...      10   \n",
       "\n",
       "       label                                    url   id_movie  \n",
       "6868       1  https://www.imdb.com/title/tt0042832/  tt0042832  \n",
       "24016      0  https://www.imdb.com/title/tt0196267/  tt0196267  \n",
       "9668       1  https://www.imdb.com/title/tt0575495/  tt0575495  \n",
       "13640      0  https://www.imdb.com/title/tt0069976/  tt0069976  \n",
       "14018      0  https://www.imdb.com/title/tt0818682/  tt0818682  \n",
       "7488       1  https://www.imdb.com/title/tt0363940/  tt0363940  \n",
       "5804       1  https://www.imdb.com/title/tt0795102/  tt0795102  \n",
       "12909      0  https://www.imdb.com/title/tt0783501/  tt0783501  \n",
       "3386       1  https://www.imdb.com/title/tt0096787/  tt0096787  \n",
       "9567       1  https://www.imdb.com/title/tt0369946/  tt0369946  "
      ]
     },
     "execution_count": 19,
     "metadata": {},
     "output_type": "execute_result"
    }
   ],
   "source": [
    "# Modification of URLs for the train set, the ending 'usercomments' is useless\n",
    "train_df['url'] = train_df['url'].str.replace('usercomments', '', regex=False)\n",
    "train_df['url'] = train_df['url'].str.replace('http://', 'https://', regex=False)\n",
    "\n",
    "# Extracting the movie id on IMDb website using the URL\n",
    "train_df['id_movie'] = train_df['url'].str.replace('https://www.imdb.com/title/', '', regex=False)\n",
    "train_df['id_movie'] = train_df['id_movie'].str.replace('/', '', regex=False)\n",
    "train_df.head(10)"
   ]
  },
  {
   "cell_type": "code",
   "execution_count": 27,
   "id": "8e4bdf60-85be-418f-8241-42053f203653",
   "metadata": {},
   "outputs": [],
   "source": [
    "test_df.to_csv(\"test_df.csv\", index=True)  # saving the test set in the working directory\n",
    "train_df.to_csv(\"train_df.csv\", index=True)  # saving the train set in the working directory"
   ]
  },
  {
   "cell_type": "markdown",
   "id": "6d4723f2-e719-41ec-84e8-4d24e3d8594d",
   "metadata": {},
   "source": [
    "## Data exploration"
   ]
  },
  {
   "cell_type": "code",
   "execution_count": 29,
   "id": "90df44d5-0eae-4948-b26e-1d9c4bc7acb2",
   "metadata": {},
   "outputs": [],
   "source": [
    "# Combine train and test data to do some exploration of characteristics\n",
    "full_df = pd.concat([train_df, test_df]).reset_index(drop=True)"
   ]
  },
  {
   "cell_type": "code",
   "execution_count": 30,
   "id": "83dd3038-2b4a-484b-9f2f-c140b3af1f51",
   "metadata": {},
   "outputs": [
    {
     "data": {
      "image/png": "[encoded data removed]",
      "text/plain": [
       "<Figure size 1000x600 with 1 Axes>"
      ]
     },
     "metadata": {},
     "output_type": "display_data"
    }
   ],
   "source": [
    "# True ratings distribution\n",
    "plt.figure(figsize=(10, 6))\n",
    "\n",
    "# Train set\n",
    "sns.countplot(x=\"rating\", data=train_df, color=\"skyblue\", label=\"Train\", order=range(1, 11))\n",
    "\n",
    "# Test set\n",
    "sns.countplot(x=\"rating\", data=test_df, color=\"purple\", label=\"Test\", order=range(1, 11), alpha=0.6)\n",
    "\n",
    "plt.xlabel(\"Rating\")\n",
    "plt.ylabel(\"Number of reviews\")\n",
    "plt.title(\"Ratings distribution in training and test sets\")\n",
    "plt.legend()\n",
    "plt.show()"
   ]
  },
  {
   "cell_type": "code",
   "execution_count": 31,
   "id": "2e528c49-3a87-47ce-ae46-4ef7ec4b1676",
   "metadata": {},
   "outputs": [
    {
     "data": {
      "text/plain": [
       "Index(['id_review', 'review', 'rating', 'label', 'url', 'id_movie'], dtype='object')"
      ]
     },
     "execution_count": 31,
     "metadata": {},
     "output_type": "execute_result"
    }
   ],
   "source": [
    "test_df.columns"
   ]
  },
  {
   "cell_type": "code",
   "execution_count": 32,
   "id": "a4c33bbe-94d6-489f-96bc-f79024f35a41",
   "metadata": {},
   "outputs": [
    {
     "data": {
      "text/plain": [
       "Index(['id_review', 'review', 'rating', 'label', 'url', 'id_movie'], dtype='object')"
      ]
     },
     "execution_count": 32,
     "metadata": {},
     "output_type": "execute_result"
    }
   ],
   "source": [
    "full_df.columns"
   ]
  },
  {
   "cell_type": "code",
   "execution_count": 33,
   "id": "7bc2f33c-8ff4-4646-a29c-7c32e76e1591",
   "metadata": {},
   "outputs": [
    {
     "name": "stdout",
     "output_type": "stream",
     "text": [
      "Average variance in ratings per movie: 3.49\n",
      "count    5641.000000\n",
      "mean        3.491422\n",
      "std         4.662456\n",
      "min         0.000000\n",
      "25%         0.666667\n",
      "50%         1.500000\n",
      "75%         4.500000\n",
      "max        40.500000\n",
      "Name: rating, dtype: float64\n"
     ]
    }
   ],
   "source": [
    "# How are the ratings contrasted on each movie ? Some statistics on ratings variance grouped by movies\n",
    "\n",
    "# Variance of ratings per movie\n",
    "rating_variance = full_df.groupby('id_movie')['rating'].var()\n",
    "\n",
    "# Average variance\n",
    "avg_variance = rating_variance.mean()\n",
    "\n",
    "print(f\"Average variance in ratings per movie: {avg_variance:.2f}\")\n",
    "print(rating_variance.describe())"
   ]
  },
  {
   "cell_type": "code",
   "execution_count": 34,
   "id": "3be0deb4-75c4-4d03-8c12-dcdb916a9ee1",
   "metadata": {},
   "outputs": [
    {
     "data": {
      "image/png": "[encoded data removed]",
      "text/plain": [
       "<Figure size 1000x600 with 1 Axes>"
      ]
     },
     "metadata": {},
     "output_type": "display_data"
    }
   ],
   "source": [
    "# Distribution of variances of ratings per movie\n",
    "plt.figure(figsize=(10, 6))\n",
    "sns.histplot(rating_variance, bins=50)\n",
    "plt.title('Distribution of rating variance per movie in the whole dataset')\n",
    "plt.xlabel('Variance')\n",
    "plt.ylabel('Number of movies')\n",
    "plt.show()"
   ]
  },
  {
   "cell_type": "code",
   "execution_count": 35,
   "id": "d36ad574-cc11-4556-9fde-f68725b1e007",
   "metadata": {},
   "outputs": [
    {
     "data": {
      "image/png": "[encoded data removed]",
      "text/plain": [
       "<Figure size 1000x600 with 1 Axes>"
      ]
     },
     "metadata": {},
     "output_type": "display_data"
    }
   ],
   "source": [
    "# Number of reviews per movie\n",
    "# The creators of the dataset precised that there were no more than 30 reviews per movie in the whole dataset, we can verify that.\n",
    "\n",
    "# Number of reviews per movie in each set\n",
    "train_review_counts = train_df['id_movie'].value_counts().value_counts().sort_index()\n",
    "test_review_counts = test_df['id_movie'].value_counts().value_counts().sort_index()\n",
    "\n",
    "plt.figure(figsize=(10, 6))\n",
    "sns.barplot(x=train_review_counts.index, y=train_review_counts.values, color='skyblue', label='Train')\n",
    "sns.barplot(x=test_review_counts.index, y=test_review_counts.values, color='purple', alpha=0.6, label='Test')\n",
    "plt.title('Distribution of number of reviews per movie in training and test sets')\n",
    "plt.xlabel('Number of reviews')\n",
    "plt.ylabel('Number of movies')\n",
    "plt.legend()\n",
    "plt.show()"
   ]
  },
  {
   "cell_type": "code",
   "execution_count": 36,
   "id": "5b3001c6-7b30-4bc6-a621-44028645a41b",
   "metadata": {},
   "outputs": [],
   "source": [
    "# Clean and tokenize reviews\n",
    "def clean_non_letters(text):\n",
    "    text = re.sub(r\"[^a-zA-Z']\", \" \",text) # remove non-letters\n",
    "    text = text.lower()\n",
    "    return text.strip().split()\n",
    "\n",
    "# Tokenize all reviews and track lengths\n",
    "tokenized_reviews = full_df['review'].apply(clean_non_letters)\n",
    "review_lengths = tokenized_reviews.apply(len)\n"
   ]
  },
  {
   "cell_type": "code",
   "execution_count": 37,
   "id": "acf3e82a-46ae-4af8-bcb4-9b070ec1cc27",
   "metadata": {},
   "outputs": [
    {
     "name": "stdout",
     "output_type": "stream",
     "text": [
      "Total reviews: 50000\n",
      "Average review length: 229.72 words\n",
      "Standard deviation: 170.16 words\n"
     ]
    }
   ],
   "source": [
    "# Review length stats\n",
    "avg_length = review_lengths.mean()\n",
    "std_dev = review_lengths.std()\n",
    "\n",
    "print(f\"Total reviews: {len(full_df)}\")\n",
    "print(f\"Average review length: {avg_length:.2f} words\")\n",
    "print(f\"Standard deviation: {std_dev:.2f} words\")"
   ]
  },
  {
   "cell_type": "code",
   "execution_count": 38,
   "id": "a2f7a298-f2cb-4a46-a1d4-0e172b5207ab",
   "metadata": {},
   "outputs": [
    {
     "data": {
      "image/png": "[encoded data removed]",
      "text/plain": [
       "<Figure size 640x480 with 1 Axes>"
      ]
     },
     "metadata": {},
     "output_type": "display_data"
    }
   ],
   "source": [
    "# Plot histogram of review lengths\n",
    "plt.hist(review_lengths, bins=50, color='skyblue', edgecolor='black')\n",
    "plt.title(\"Review length distribution\")\n",
    "plt.xlabel(\"Words per review\")\n",
    "plt.ylabel(\"Number of reviews\")\n",
    "plt.axvline(avg_length, color='red',linestyle='dashed', linewidth=1)\n",
    "plt.grid(True)\n",
    "plt.show()"
   ]
  },
  {
   "cell_type": "code",
   "execution_count": 41,
   "id": "2fef59cb-cc9d-43cf-94d7-84829634c34d",
   "metadata": {},
   "outputs": [
    {
     "data": {
      "image/png": "[encoded data removed]",
      "text/plain": [
       "<Figure size 800x500 with 1 Axes>"
      ]
     },
     "metadata": {},
     "output_type": "display_data"
    }
   ],
   "source": [
    "# Vocabulary distribution\n",
    "vocab_counter = Counter()\n",
    "for tokens in tokenized_reviews:\n",
    "    vocab_counter.update(tokens)\n",
    "\n",
    "# Convert vocab counter to list of frequencies\n",
    "vocab_freqs = np.array(sorted(vocab_counter.values(),reverse=True))\n",
    "ranks = np.arange(1, len(vocab_freqs) + 1)\n",
    "\n",
    "# Plot log-log rank-frequency distribution\n",
    "plt.figure(figsize=(8, 5))\n",
    "plt.plot(np.log(ranks), np.log(vocab_freqs))\n",
    "plt.title(\"Log-Log plot of word frequency distribution\")\n",
    "plt.xlabel(\"Log rank\")\n",
    "plt.ylabel(\"Log frequency\")\n",
    "plt.grid(True)\n",
    "plt.show()"
   ]
  },
  {
   "cell_type": "code",
   "execution_count": 42,
   "id": "6ee27502-d9b4-420b-96ab-ec822bb2678a",
   "metadata": {},
   "outputs": [
    {
     "name": "stdout",
     "output_type": "stream",
     "text": [
      "Total unique words: 121377\n",
      "Words that appear only once: 50922 (41.95%)\n"
     ]
    }
   ],
   "source": [
    "# Analyze long tail: how many words appear only once?\n",
    "total_vocab = len(vocab_counter)\n",
    "\n",
    "hapax_legomena = sum(1 for word,freq in vocab_counter.items() if freq == 1)\n",
    "\n",
    "hapax_percent = 100 * hapax_legomena / total_vocab\n",
    "\n",
    "\n",
    "print(f\"Total unique words: {total_vocab}\")\n",
    "print(f\"Words that appear only once: {hapax_legomena} ({hapax_percent:.2f}%)\")"
   ]
  },
  {
   "cell_type": "code",
   "execution_count": 43,
   "id": "358ecac0-6fa8-4e72-8266-e6b9b0a4c0da",
   "metadata": {},
   "outputs": [
    {
     "name": "stdout",
     "output_type": "stream",
     "text": [
      "\n",
      "Top 20 most frequent words:\n",
      "the: 666552\n",
      "and: 324347\n",
      "a: 322849\n",
      "of: 289357\n",
      "to: 268040\n",
      "is: 211033\n",
      "in: 186660\n",
      "it: 156898\n",
      "i: 154894\n",
      "this: 150868\n",
      "that: 136999\n",
      "was: 95563\n",
      "as: 91734\n",
      "for: 87432\n",
      "with: 87343\n",
      "movie: 87030\n",
      "but: 83524\n",
      "film: 77671\n",
      "on: 68018\n",
      "not: 60705\n"
     ]
    }
   ],
   "source": [
    "# Look at top 20 frequent words (most are likely function words)\n",
    "print(\"\\nTop 20 most frequent words:\")\n",
    "for word, freq in vocab_counter.most_common(20):\n",
    "    print(f\"{word}: {freq}\")"
   ]
  }
 ],
 "metadata": {
  "kaggle": {
   "accelerator": "none",
   "dataSources": [],
   "dockerImageVersionId": 31012,
   "isGpuEnabled": false,
   "isInternetEnabled": true,
   "language": "python",
   "sourceType": "notebook"
  },
  "kernelspec": {
   "display_name": "Python 3 (ipykernel)",
   "language": "python",
   "name": "python3"
  },
  "language_info": {
   "codemirror_mode": {
    "name": "ipython",
    "version": 3
   },
   "file_extension": ".py",
   "mimetype": "text/x-python",
   "name": "python",
   "nbconvert_exporter": "python",
   "pygments_lexer": "ipython3",
   "version": "3.12.9"
  }
 },
 "nbformat": 4,
 "nbformat_minor": 5
}

{
 "cells": [
  {
   "cell_type": "markdown",
   "id": "f2f8923a-b270-4244-a0a1-c27407bb2f72",
   "metadata": {},
   "source": [
    "# 2 - Training and evaluating our models\n",
    "\n",
    "Mini-project for the 'Machine learning for NLP' course at ENSAE - May 2025"
   ]
  },
  {
   "cell_type": "markdown",
   "id": "fea6cb94-2a2b-4c45-a9bc-fcb5763da9c1",
   "metadata": {},
   "source": [
    "Paul Dupire and Floriane Zanella"
   ]
  },
  {
   "cell_type": "markdown",
   "id": "dfdcec65-58ba-4ecb-88f2-07ae7a8ea7cc",
   "metadata": {},
   "source": [
    "## Installing the libraries, and loading the data"
   ]
  },
  {
   "cell_type": "code",
   "execution_count": null,
   "id": "a640d03d-e87e-4713-b5af-3c23ba98db0b",
   "metadata": {},
   "outputs": [],
   "source": [
    "# Installing the required libraries\n",
    "#!pip install datasets scikit-learn pandas tqdm -q\n",
    "#!pip install seaborn\n",
    "#!pip install transformers[torch]\n",
    "#!pip install accelerate\n",
    "#!pip install wandb\n",
    "#!pip install lime\n",
    "#!pip install optuna"
   ]
  },
  {
   "cell_type": "code",
   "execution_count": 1,
   "id": "6fe81b74-f7a4-4a08-bf4a-5b8f6396adc7",
   "metadata": {
    "execution": {
     "iopub.execute_input": "2025-05-03T20:20:02.258563Z",
     "iopub.status.busy": "2025-05-03T20:20:02.258347Z",
     "iopub.status.idle": "2025-05-03T20:20:33.734684Z",
     "shell.execute_reply": "2025-05-03T20:20:33.733751Z",
     "shell.execute_reply.started": "2025-05-03T20:20:02.258545Z"
    }
   },
   "outputs": [
    {
     "name": "stderr",
     "output_type": "stream",
     "text": [
      "2025-05-03 20:20:17.983562: E external/local_xla/xla/stream_executor/cuda/cuda_fft.cc:477] Unable to register cuFFT factory: Attempting to register factory for plugin cuFFT when one has already been registered\n",
      "WARNING: All log messages before absl::InitializeLog() is called are written to STDERR\n",
      "E0000 00:00:1746303618.168406      31 cuda_dnn.cc:8310] Unable to register cuDNN factory: Attempting to register factory for plugin cuDNN when one has already been registered\n",
      "E0000 00:00:1746303618.219669      31 cuda_blas.cc:1418] Unable to register cuBLAS factory: Attempting to register factory for plugin cuBLAS when one has already been registered\n"
     ]
    }
   ],
   "source": [
    "# Necessary packages\n",
    "import pandas as pd\n",
    "import torch\n",
    "import os\n",
    "from datasets import Dataset\n",
    "from sklearn.model_selection import train_test_split\n",
    "from torch.utils.data import DataLoader\n",
    "from transformers import DistilBertTokenizer, DistilBertForSequenceClassification\n",
    "import lime\n",
    "import optuna\n",
    "from transformers import Trainer, TrainingArguments, TrainerCallback\n",
    "from sklearn.metrics import accuracy_score, precision_recall_fscore_support, confusion_matrix\n",
    "import accelerate\n",
    "import numpy as np\n",
    "import wandb\n",
    "from tqdm import tqdm\n",
    "import json\n",
    "import matplotlib.pyplot as plt\n",
    "import seaborn as sns\n",
    "from lime.lime_text import LimeTextExplainer\n",
    "import gc\n",
    "import joblib\n",
    "from collections import Counter"
   ]
  },
  {
   "cell_type": "code",
   "execution_count": 2,
   "id": "d7ec09fe-3ed3-499e-8b2c-acb44740ac50",
   "metadata": {
    "execution": {
     "iopub.execute_input": "2025-05-03T20:22:10.162641Z",
     "iopub.status.busy": "2025-05-03T20:22:10.162085Z",
     "iopub.status.idle": "2025-05-03T20:22:11.468442Z",
     "shell.execute_reply": "2025-05-03T20:22:11.467896Z",
     "shell.execute_reply.started": "2025-05-03T20:22:10.162617Z"
    }
   },
   "outputs": [],
   "source": [
    "# Loading the two datasets we created in the notebook 1 - Retrieving, formating and exploring the data\n",
    "train_df = pd.read_csv('train_df.csv', index_col=0)\n",
    "test_df = pd.read_csv('test_df.csv', index_col=0)"
   ]
  },
  {
   "cell_type": "code",
   "execution_count": 42,
   "id": "a8a4faf5-09a0-477f-b863-b314ecb124c5",
   "metadata": {
    "execution": {
     "iopub.execute_input": "2025-05-03T21:33:56.510587Z",
     "iopub.status.busy": "2025-05-03T21:33:56.510086Z",
     "iopub.status.idle": "2025-05-03T21:33:56.520504Z",
     "shell.execute_reply": "2025-05-03T21:33:56.519868Z",
     "shell.execute_reply.started": "2025-05-03T21:33:56.510563Z"
    }
   },
   "outputs": [
    {
     "data": {
      "text/html": [
       "<div>\n",
       "<style scoped>\n",
       "    .dataframe tbody tr th:only-of-type {\n",
       "        vertical-align: middle;\n",
       "    }\n",
       "\n",
       "    .dataframe tbody tr th {\n",
       "        vertical-align: top;\n",
       "    }\n",
       "\n",
       "    .dataframe thead th {\n",
       "        text-align: right;\n",
       "    }\n",
       "</style>\n",
       "<table border=\"1\" class=\"dataframe\">\n",
       "  <thead>\n",
       "    <tr style=\"text-align: right;\">\n",
       "      <th></th>\n",
       "      <th>id_review</th>\n",
       "      <th>review</th>\n",
       "      <th>rating</th>\n",
       "      <th>label</th>\n",
       "      <th>url</th>\n",
       "      <th>id_movie</th>\n",
       "    </tr>\n",
       "  </thead>\n",
       "  <tbody>\n",
       "    <tr>\n",
       "      <th>6868</th>\n",
       "      <td>4932</td>\n",
       "      <td>When I was a kid, I loved \"Tiny Toons\". I espe...</td>\n",
       "      <td>10</td>\n",
       "      <td>1</td>\n",
       "      <td>https://www.imdb.com/title/tt0105598/</td>\n",
       "      <td>tt0105598</td>\n",
       "    </tr>\n",
       "    <tr>\n",
       "      <th>24016</th>\n",
       "      <td>9115</td>\n",
       "      <td>The setup for \"Nature of the Beast\" is ingenio...</td>\n",
       "      <td>3</td>\n",
       "      <td>0</td>\n",
       "      <td>https://www.imdb.com/title/tt0113939/</td>\n",
       "      <td>tt0113939</td>\n",
       "    </tr>\n",
       "    <tr>\n",
       "      <th>9668</th>\n",
       "      <td>7452</td>\n",
       "      <td>I do not have much to say than this is a great...</td>\n",
       "      <td>10</td>\n",
       "      <td>1</td>\n",
       "      <td>https://www.imdb.com/title/tt0385700/</td>\n",
       "      <td>tt0385700</td>\n",
       "    </tr>\n",
       "    <tr>\n",
       "      <th>13640</th>\n",
       "      <td>11026</td>\n",
       "      <td>Extremely formulaic with cosmic-sized logic ho...</td>\n",
       "      <td>3</td>\n",
       "      <td>0</td>\n",
       "      <td>https://www.imdb.com/title/tt0031602/</td>\n",
       "      <td>tt0031602</td>\n",
       "    </tr>\n",
       "    <tr>\n",
       "      <th>14018</th>\n",
       "      <td>11367</td>\n",
       "      <td>I actually liked certain things about this gam...</td>\n",
       "      <td>4</td>\n",
       "      <td>0</td>\n",
       "      <td>https://www.imdb.com/title/tt0232532/</td>\n",
       "      <td>tt0232532</td>\n",
       "    </tr>\n",
       "    <tr>\n",
       "      <th>7488</th>\n",
       "      <td>5490</td>\n",
       "      <td>I was watching the Perfect Storm, and thought ...</td>\n",
       "      <td>9</td>\n",
       "      <td>1</td>\n",
       "      <td>https://www.imdb.com/title/tt0107206/</td>\n",
       "      <td>tt0107206</td>\n",
       "    </tr>\n",
       "    <tr>\n",
       "      <th>5804</th>\n",
       "      <td>3975</td>\n",
       "      <td>The best thing from the American Pie \"bakery.\"...</td>\n",
       "      <td>10</td>\n",
       "      <td>1</td>\n",
       "      <td>https://www.imdb.com/title/tt0384793/</td>\n",
       "      <td>tt0384793</td>\n",
       "    </tr>\n",
       "    <tr>\n",
       "      <th>12909</th>\n",
       "      <td>10369</td>\n",
       "      <td>A severe backwards step for the puppets in thi...</td>\n",
       "      <td>4</td>\n",
       "      <td>0</td>\n",
       "      <td>https://www.imdb.com/title/tt0107899/</td>\n",
       "      <td>tt0107899</td>\n",
       "    </tr>\n",
       "    <tr>\n",
       "      <th>3386</th>\n",
       "      <td>1799</td>\n",
       "      <td>\"Valley Girl\" launched Nicolas Cage's career a...</td>\n",
       "      <td>9</td>\n",
       "      <td>1</td>\n",
       "      <td>https://www.imdb.com/title/tt0086525/</td>\n",
       "      <td>tt0086525</td>\n",
       "    </tr>\n",
       "    <tr>\n",
       "      <th>9567</th>\n",
       "      <td>7361</td>\n",
       "      <td>I cannot believe I enjoyed this as much as I d...</td>\n",
       "      <td>8</td>\n",
       "      <td>1</td>\n",
       "      <td>https://www.imdb.com/title/tt0115813/</td>\n",
       "      <td>tt0115813</td>\n",
       "    </tr>\n",
       "  </tbody>\n",
       "</table>\n",
       "</div>"
      ],
      "text/plain": [
       "       id_review                                             review  rating  \\\n",
       "6868        4932  When I was a kid, I loved \"Tiny Toons\". I espe...      10   \n",
       "24016       9115  The setup for \"Nature of the Beast\" is ingenio...       3   \n",
       "9668        7452  I do not have much to say than this is a great...      10   \n",
       "13640      11026  Extremely formulaic with cosmic-sized logic ho...       3   \n",
       "14018      11367  I actually liked certain things about this gam...       4   \n",
       "7488        5490  I was watching the Perfect Storm, and thought ...       9   \n",
       "5804        3975  The best thing from the American Pie \"bakery.\"...      10   \n",
       "12909      10369  A severe backwards step for the puppets in thi...       4   \n",
       "3386        1799  \"Valley Girl\" launched Nicolas Cage's career a...       9   \n",
       "9567        7361  I cannot believe I enjoyed this as much as I d...       8   \n",
       "\n",
       "       label                                    url   id_movie  \n",
       "6868       1  https://www.imdb.com/title/tt0105598/  tt0105598  \n",
       "24016      0  https://www.imdb.com/title/tt0113939/  tt0113939  \n",
       "9668       1  https://www.imdb.com/title/tt0385700/  tt0385700  \n",
       "13640      0  https://www.imdb.com/title/tt0031602/  tt0031602  \n",
       "14018      0  https://www.imdb.com/title/tt0232532/  tt0232532  \n",
       "7488       1  https://www.imdb.com/title/tt0107206/  tt0107206  \n",
       "5804       1  https://www.imdb.com/title/tt0384793/  tt0384793  \n",
       "12909      0  https://www.imdb.com/title/tt0107899/  tt0107899  \n",
       "3386       1  https://www.imdb.com/title/tt0086525/  tt0086525  \n",
       "9567       1  https://www.imdb.com/title/tt0115813/  tt0115813  "
      ]
     },
     "execution_count": 42,
     "metadata": {},
     "output_type": "execute_result"
    }
   ],
   "source": [
    "test_df.head(10)"
   ]
  },
  {
   "cell_type": "code",
   "execution_count": 4,
   "id": "c5088085-364b-4140-901e-b7b90a36f079",
   "metadata": {
    "execution": {
     "iopub.execute_input": "2025-05-03T20:22:34.241589Z",
     "iopub.status.busy": "2025-05-03T20:22:34.241283Z",
     "iopub.status.idle": "2025-05-03T20:22:34.247594Z",
     "shell.execute_reply": "2025-05-03T20:22:34.246857Z",
     "shell.execute_reply.started": "2025-05-03T20:22:34.241564Z"
    }
   },
   "outputs": [],
   "source": [
    "# texts and rating/label will be integrated to our scored dataframes later\n",
    "all_texts = test_df[\"review\"].tolist()\n",
    "all_true_labels = test_df[\"label\"].tolist()\n",
    "all_ratings = test_df[\"rating\"].tolist()"
   ]
  },
  {
   "cell_type": "code",
   "execution_count": 5,
   "id": "9440e625-ad53-4c53-b3ab-13b5aacbe6d7",
   "metadata": {
    "execution": {
     "iopub.execute_input": "2025-05-03T20:22:38.321207Z",
     "iopub.status.busy": "2025-05-03T20:22:38.320939Z",
     "iopub.status.idle": "2025-05-03T20:22:43.553188Z",
     "shell.execute_reply": "2025-05-03T20:22:43.552417Z",
     "shell.execute_reply.started": "2025-05-03T20:22:38.321188Z"
    }
   },
   "outputs": [
    {
     "data": {
      "application/vnd.jupyter.widget-view+json": {
       "model_id": "5af560a1adb044c4bb866d7cbe65d853",
       "version_major": 2,
       "version_minor": 0
      },
      "text/plain": [
       "tokenizer_config.json:   0%|          | 0.00/48.0 [00:00<?, ?B/s]"
      ]
     },
     "metadata": {},
     "output_type": "display_data"
    },
    {
     "data": {
      "application/vnd.jupyter.widget-view+json": {
       "model_id": "b598813ce56e4eb6b991502b122f74b9",
       "version_major": 2,
       "version_minor": 0
      },
      "text/plain": [
       "vocab.txt:   0%|          | 0.00/232k [00:00<?, ?B/s]"
      ]
     },
     "metadata": {},
     "output_type": "display_data"
    },
    {
     "data": {
      "application/vnd.jupyter.widget-view+json": {
       "model_id": "908b61c203c34864a6323854cb5cf03c",
       "version_major": 2,
       "version_minor": 0
      },
      "text/plain": [
       "tokenizer.json:   0%|          | 0.00/466k [00:00<?, ?B/s]"
      ]
     },
     "metadata": {},
     "output_type": "display_data"
    },
    {
     "data": {
      "application/vnd.jupyter.widget-view+json": {
       "model_id": "fa10decca49a4f3383da74ee21ee8d7c",
       "version_major": 2,
       "version_minor": 0
      },
      "text/plain": [
       "config.json:   0%|          | 0.00/483 [00:00<?, ?B/s]"
      ]
     },
     "metadata": {},
     "output_type": "display_data"
    },
    {
     "name": "stderr",
     "output_type": "stream",
     "text": [
      "Xet Storage is enabled for this repo, but the 'hf_xet' package is not installed. Falling back to regular HTTP download. For better performance, install the package with: `pip install huggingface_hub[hf_xet]` or `pip install hf_xet`\n"
     ]
    },
    {
     "data": {
      "application/vnd.jupyter.widget-view+json": {
       "model_id": "3fff9839c3af4284bfbffa1dd9546849",
       "version_major": 2,
       "version_minor": 0
      },
      "text/plain": [
       "model.safetensors:   0%|          | 0.00/268M [00:00<?, ?B/s]"
      ]
     },
     "metadata": {},
     "output_type": "display_data"
    },
    {
     "name": "stderr",
     "output_type": "stream",
     "text": [
      "Some weights of DistilBertForSequenceClassification were not initialized from the model checkpoint at distilbert-base-uncased and are newly initialized: ['classifier.bias', 'classifier.weight', 'pre_classifier.bias', 'pre_classifier.weight']\n",
      "You should probably TRAIN this model on a down-stream task to be able to use it for predictions and inference.\n"
     ]
    }
   ],
   "source": [
    "# We will work with the DistilBERT model\n",
    "tokenizer = DistilBertTokenizer.from_pretrained(\"distilbert-base-uncased\")\n",
    "model = DistilBertForSequenceClassification.from_pretrained(\"distilbert-base-uncased\", num_labels=2)\n",
    "\n",
    "device = torch.device(\"cuda\" if torch.cuda.is_available() else \"cpu\")\n",
    "model = model.to(device)"
   ]
  },
  {
   "cell_type": "code",
   "execution_count": 11,
   "id": "a3a025b0-6883-45e5-b58d-d1a747ab3412",
   "metadata": {
    "execution": {
     "iopub.execute_input": "2025-05-03T20:36:20.799747Z",
     "iopub.status.busy": "2025-05-03T20:36:20.799447Z",
     "iopub.status.idle": "2025-05-03T20:36:21.354975Z",
     "shell.execute_reply": "2025-05-03T20:36:21.354426Z",
     "shell.execute_reply.started": "2025-05-03T20:36:20.799722Z"
    }
   },
   "outputs": [],
   "source": [
    "# Splitting train_df into train and eval sets, ensuring that the classes are balanced\n",
    "train_texts, eval_texts, train_labels, eval_labels = train_test_split(\n",
    "    train_df[\"review\"].tolist(),\n",
    "    train_df[\"label\"].tolist(),\n",
    "    test_size=0.1,\n",
    "    random_state=42,\n",
    "    stratify=train_df[\"label\"]\n",
    ")\n",
    "\n",
    "# Creating Dataset objects, by converting the data to HuggingFace Dataset format\n",
    "train_dataset = Dataset.from_dict({\"review\": train_texts, \"label\": train_labels})\n",
    "eval_dataset = Dataset.from_dict({\"review\": eval_texts, \"label\": eval_labels})\n",
    "test_dataset = Dataset.from_pandas(test_df)"
   ]
  },
  {
   "cell_type": "markdown",
   "id": "e754a926-2eb0-4db5-8944-2a2ffd58457b",
   "metadata": {},
   "source": [
    "# PART I : Training and evaluating a baseline DistilBERT model"
   ]
  },
  {
   "cell_type": "code",
   "execution_count": 14,
   "id": "9f4bd344-36e7-4bf1-9214-9bad932708d5",
   "metadata": {
    "execution": {
     "iopub.execute_input": "2025-05-03T20:37:33.814507Z",
     "iopub.status.busy": "2025-05-03T20:37:33.813686Z",
     "iopub.status.idle": "2025-05-03T20:37:33.818561Z",
     "shell.execute_reply": "2025-05-03T20:37:33.817748Z",
     "shell.execute_reply.started": "2025-05-03T20:37:33.814460Z"
    }
   },
   "outputs": [],
   "source": [
    "# Tokenization using DistilBERT, our baseline function\n",
    "def tokenize(batch, type_review = 'review'):\n",
    "    tokenized = tokenizer(batch[type_review], padding=\"max_length\", truncation=True, max_length=512)\n",
    "    tokenized[\"num_tokens\"] = [len(tokenizer.tokenize(t)) for t in batch[type_review]]\n",
    "    return tokenized"
   ]
  },
  {
   "cell_type": "code",
   "execution_count": 15,
   "id": "39ab8a3c-5a94-4d8a-904a-563729440e8d",
   "metadata": {
    "execution": {
     "iopub.execute_input": "2025-05-03T20:37:43.409513Z",
     "iopub.status.busy": "2025-05-03T20:37:43.409151Z",
     "iopub.status.idle": "2025-05-03T20:43:05.050182Z",
     "shell.execute_reply": "2025-05-03T20:43:05.049434Z",
     "shell.execute_reply.started": "2025-05-03T20:37:43.409460Z"
    }
   },
   "outputs": [
    {
     "data": {
      "application/vnd.jupyter.widget-view+json": {
       "model_id": "57e33e11e3fd41dda32f9ea6b4f01c01",
       "version_major": 2,
       "version_minor": 0
      },
      "text/plain": [
       "Map:   0%|          | 0/22500 [00:00<?, ? examples/s]"
      ]
     },
     "metadata": {},
     "output_type": "display_data"
    },
    {
     "data": {
      "application/vnd.jupyter.widget-view+json": {
       "model_id": "dd47af4bb98c410db4c03aa44410fbd4",
       "version_major": 2,
       "version_minor": 0
      },
      "text/plain": [
       "Map:   0%|          | 0/2500 [00:00<?, ? examples/s]"
      ]
     },
     "metadata": {},
     "output_type": "display_data"
    },
    {
     "data": {
      "application/vnd.jupyter.widget-view+json": {
       "model_id": "650f8a7edec7495f93488b287dbfbbf1",
       "version_major": 2,
       "version_minor": 0
      },
      "text/plain": [
       "Map:   0%|          | 0/25000 [00:00<?, ? examples/s]"
      ]
     },
     "metadata": {},
     "output_type": "display_data"
    }
   ],
   "source": [
    "train_tokenized = train_dataset.map(tokenize, batched=True)\n",
    "eval_tokenized = eval_dataset.map(tokenize, batched=True)\n",
    "test_tokenized = test_dataset.map(tokenize, batched=True)"
   ]
  },
  {
   "cell_type": "code",
   "execution_count": 16,
   "id": "0c3aaedc-d759-4c9b-9d94-a24d0aaa1f6f",
   "metadata": {
    "execution": {
     "iopub.execute_input": "2025-05-03T20:43:14.151056Z",
     "iopub.status.busy": "2025-05-03T20:43:14.150433Z",
     "iopub.status.idle": "2025-05-03T20:43:14.156734Z",
     "shell.execute_reply": "2025-05-03T20:43:14.156015Z",
     "shell.execute_reply.started": "2025-05-03T20:43:14.151030Z"
    }
   },
   "outputs": [],
   "source": [
    "# Setting the format for PyTorch\n",
    "train_tokenized.set_format(\"torch\", columns=[\"input_ids\", \"attention_mask\", \"label\", \"num_tokens\"])\n",
    "eval_tokenized.set_format(\"torch\", columns=[\"input_ids\", \"attention_mask\", \"label\", \"num_tokens\"])\n",
    "test_tokenized.set_format(\"torch\", columns=[\"input_ids\", \"attention_mask\", \"label\", \"num_tokens\"])"
   ]
  },
  {
   "cell_type": "markdown",
   "id": "a9346a53-bc6b-4aa9-8cdb-11e193830a59",
   "metadata": {},
   "source": [
    "### Early experimentation on hyperparameters : testing several (learning rate, batch size) configurations"
   ]
  },
  {
   "cell_type": "code",
   "execution_count": 78,
   "id": "fa1c25a0-eb3c-44b8-aefd-42f9eddd9101",
   "metadata": {
    "execution": {
     "iopub.execute_input": "2025-05-03T14:40:04.269176Z",
     "iopub.status.busy": "2025-05-03T14:40:04.268871Z",
     "iopub.status.idle": "2025-05-03T16:23:08.992523Z",
     "shell.execute_reply": "2025-05-03T16:23:08.991961Z",
     "shell.execute_reply.started": "2025-05-03T14:40:04.269155Z"
    }
   },
   "outputs": [
    {
     "name": "stderr",
     "output_type": "stream",
     "text": [
      "[I 2025-05-03 14:40:04,273] A new study created in memory with name: no-name-87fbdfa2-f1c7-4ef0-a15a-82e123730309\n",
      "Some weights of DistilBertForSequenceClassification were not initialized from the model checkpoint at distilbert-base-uncased and are newly initialized: ['classifier.bias', 'classifier.weight', 'pre_classifier.bias', 'pre_classifier.weight']\n",
      "You should probably TRAIN this model on a down-stream task to be able to use it for predictions and inference.\n",
      "/tmp/ipykernel_31/2760029119.py:8: FutureWarning: suggest_loguniform has been deprecated in v3.0.0. This feature will be removed in v6.0.0. See https://github.com/optuna/optuna/releases/tag/v3.0.0. Use suggest_float(..., log=True) instead.\n",
      "  learning_rate = trial.suggest_loguniform('learning_rate',1e-5, 5e-5)\n"
     ]
    },
    {
     "data": {
      "text/html": [
       "\n",
       "    <div>\n",
       "      \n",
       "      <progress value='1408' max='1408' style='width:300px; height:20px; vertical-align: middle;'></progress>\n",
       "      [1408/1408 25:23, Epoch 2/2]\n",
       "    </div>\n",
       "    <table border=\"1\" class=\"dataframe\">\n",
       "  <thead>\n",
       " <tr style=\"text-align: left;\">\n",
       "      <th>Step</th>\n",
       "      <th>Training Loss</th>\n",
       "      <th>Validation Loss</th>\n",
       "      <th>Accuracy</th>\n",
       "    </tr>\n",
       "  </thead>\n",
       "  <tbody>\n",
       "    <tr>\n",
       "      <td>500</td>\n",
       "      <td>0.298200</td>\n",
       "      <td>0.208641</td>\n",
       "      <td>0.916400</td>\n",
       "    </tr>\n",
       "    <tr>\n",
       "      <td>1000</td>\n",
       "      <td>0.194000</td>\n",
       "      <td>0.194577</td>\n",
       "      <td>0.928000</td>\n",
       "    </tr>\n",
       "  </tbody>\n",
       "</table><p>"
      ],
      "text/plain": [
       "<IPython.core.display.HTML object>"
      ]
     },
     "metadata": {},
     "output_type": "display_data"
    },
    {
     "data": {
      "text/html": [
       "\n",
       "    <div>\n",
       "      \n",
       "      <progress value='79' max='79' style='width:300px; height:20px; vertical-align: middle;'></progress>\n",
       "      [79/79 00:19]\n",
       "    </div>\n",
       "    "
      ],
      "text/plain": [
       "<IPython.core.display.HTML object>"
      ]
     },
     "metadata": {},
     "output_type": "display_data"
    },
    {
     "name": "stderr",
     "output_type": "stream",
     "text": [
      "[I 2025-05-03 15:05:49,632] Trial 0 finished with value: 0.19452570378780365 and parameters: {'learning_rate': 1.162024247924075e-05, 'batch_size': 32}. Best is trial 0 with value: 0.19452570378780365.\n",
      "Some weights of DistilBertForSequenceClassification were not initialized from the model checkpoint at distilbert-base-uncased and are newly initialized: ['classifier.bias', 'classifier.weight', 'pre_classifier.bias', 'pre_classifier.weight']\n",
      "You should probably TRAIN this model on a down-stream task to be able to use it for predictions and inference.\n",
      "/tmp/ipykernel_31/2760029119.py:8: FutureWarning: suggest_loguniform has been deprecated in v3.0.0. This feature will be removed in v6.0.0. See https://github.com/optuna/optuna/releases/tag/v3.0.0. Use suggest_float(..., log=True) instead.\n",
      "  learning_rate = trial.suggest_loguniform('learning_rate',1e-5, 5e-5)\n"
     ]
    },
    {
     "data": {
      "text/html": [
       "\n",
       "    <div>\n",
       "      \n",
       "      <progress value='2814' max='2814' style='width:300px; height:20px; vertical-align: middle;'></progress>\n",
       "      [2814/2814 25:25, Epoch 2/2]\n",
       "    </div>\n",
       "    <table border=\"1\" class=\"dataframe\">\n",
       "  <thead>\n",
       " <tr style=\"text-align: left;\">\n",
       "      <th>Step</th>\n",
       "      <th>Training Loss</th>\n",
       "      <th>Validation Loss</th>\n",
       "      <th>Accuracy</th>\n",
       "    </tr>\n",
       "  </thead>\n",
       "  <tbody>\n",
       "    <tr>\n",
       "      <td>500</td>\n",
       "      <td>0.331200</td>\n",
       "      <td>0.219734</td>\n",
       "      <td>0.912800</td>\n",
       "    </tr>\n",
       "    <tr>\n",
       "      <td>1000</td>\n",
       "      <td>0.254300</td>\n",
       "      <td>0.195072</td>\n",
       "      <td>0.920800</td>\n",
       "    </tr>\n",
       "    <tr>\n",
       "      <td>1500</td>\n",
       "      <td>0.200400</td>\n",
       "      <td>0.241963</td>\n",
       "      <td>0.934800</td>\n",
       "    </tr>\n",
       "    <tr>\n",
       "      <td>2000</td>\n",
       "      <td>0.136900</td>\n",
       "      <td>0.220827</td>\n",
       "      <td>0.933600</td>\n",
       "    </tr>\n",
       "    <tr>\n",
       "      <td>2500</td>\n",
       "      <td>0.138600</td>\n",
       "      <td>0.213674</td>\n",
       "      <td>0.936800</td>\n",
       "    </tr>\n",
       "  </tbody>\n",
       "</table><p>"
      ],
      "text/plain": [
       "<IPython.core.display.HTML object>"
      ]
     },
     "metadata": {},
     "output_type": "display_data"
    },
    {
     "data": {
      "text/html": [
       "\n",
       "    <div>\n",
       "      \n",
       "      <progress value='157' max='157' style='width:300px; height:20px; vertical-align: middle;'></progress>\n",
       "      [157/157 00:19]\n",
       "    </div>\n",
       "    "
      ],
      "text/plain": [
       "<IPython.core.display.HTML object>"
      ]
     },
     "metadata": {},
     "output_type": "display_data"
    },
    {
     "name": "stderr",
     "output_type": "stream",
     "text": [
      "[I 2025-05-03 15:31:36,557] Trial 1 finished with value: 0.218826025724411 and parameters: {'learning_rate': 3.356714022207949e-05, 'batch_size': 16}. Best is trial 0 with value: 0.19452570378780365.\n",
      "Some weights of DistilBertForSequenceClassification were not initialized from the model checkpoint at distilbert-base-uncased and are newly initialized: ['classifier.bias', 'classifier.weight', 'pre_classifier.bias', 'pre_classifier.weight']\n",
      "You should probably TRAIN this model on a down-stream task to be able to use it for predictions and inference.\n",
      "/tmp/ipykernel_31/2760029119.py:8: FutureWarning: suggest_loguniform has been deprecated in v3.0.0. This feature will be removed in v6.0.0. See https://github.com/optuna/optuna/releases/tag/v3.0.0. Use suggest_float(..., log=True) instead.\n",
      "  learning_rate = trial.suggest_loguniform('learning_rate',1e-5, 5e-5)\n"
     ]
    },
    {
     "data": {
      "text/html": [
       "\n",
       "    <div>\n",
       "      \n",
       "      <progress value='1408' max='1408' style='width:300px; height:20px; vertical-align: middle;'></progress>\n",
       "      [1408/1408 25:24, Epoch 2/2]\n",
       "    </div>\n",
       "    <table border=\"1\" class=\"dataframe\">\n",
       "  <thead>\n",
       " <tr style=\"text-align: left;\">\n",
       "      <th>Step</th>\n",
       "      <th>Training Loss</th>\n",
       "      <th>Validation Loss</th>\n",
       "      <th>Accuracy</th>\n",
       "    </tr>\n",
       "  </thead>\n",
       "  <tbody>\n",
       "    <tr>\n",
       "      <td>500</td>\n",
       "      <td>0.296100</td>\n",
       "      <td>0.207679</td>\n",
       "      <td>0.918400</td>\n",
       "    </tr>\n",
       "    <tr>\n",
       "      <td>1000</td>\n",
       "      <td>0.188200</td>\n",
       "      <td>0.190332</td>\n",
       "      <td>0.928000</td>\n",
       "    </tr>\n",
       "  </tbody>\n",
       "</table><p>"
      ],
      "text/plain": [
       "<IPython.core.display.HTML object>"
      ]
     },
     "metadata": {},
     "output_type": "display_data"
    },
    {
     "data": {
      "text/html": [
       "\n",
       "    <div>\n",
       "      \n",
       "      <progress value='79' max='79' style='width:300px; height:20px; vertical-align: middle;'></progress>\n",
       "      [79/79 00:19]\n",
       "    </div>\n",
       "    "
      ],
      "text/plain": [
       "<IPython.core.display.HTML object>"
      ]
     },
     "metadata": {},
     "output_type": "display_data"
    },
    {
     "name": "stderr",
     "output_type": "stream",
     "text": [
      "[I 2025-05-03 15:57:22,935] Trial 2 finished with value: 0.19224072992801666 and parameters: {'learning_rate': 1.3798589791089372e-05, 'batch_size': 32}. Best is trial 2 with value: 0.19224072992801666.\n",
      "Some weights of DistilBertForSequenceClassification were not initialized from the model checkpoint at distilbert-base-uncased and are newly initialized: ['classifier.bias', 'classifier.weight', 'pre_classifier.bias', 'pre_classifier.weight']\n",
      "You should probably TRAIN this model on a down-stream task to be able to use it for predictions and inference.\n",
      "/tmp/ipykernel_31/2760029119.py:8: FutureWarning: suggest_loguniform has been deprecated in v3.0.0. This feature will be removed in v6.0.0. See https://github.com/optuna/optuna/releases/tag/v3.0.0. Use suggest_float(..., log=True) instead.\n",
      "  learning_rate = trial.suggest_loguniform('learning_rate',1e-5, 5e-5)\n"
     ]
    },
    {
     "data": {
      "text/html": [
       "\n",
       "    <div>\n",
       "      \n",
       "      <progress value='1408' max='1408' style='width:300px; height:20px; vertical-align: middle;'></progress>\n",
       "      [1408/1408 25:24, Epoch 2/2]\n",
       "    </div>\n",
       "    <table border=\"1\" class=\"dataframe\">\n",
       "  <thead>\n",
       " <tr style=\"text-align: left;\">\n",
       "      <th>Step</th>\n",
       "      <th>Training Loss</th>\n",
       "      <th>Validation Loss</th>\n",
       "      <th>Accuracy</th>\n",
       "    </tr>\n",
       "  </thead>\n",
       "  <tbody>\n",
       "    <tr>\n",
       "      <td>500</td>\n",
       "      <td>0.282300</td>\n",
       "      <td>0.198744</td>\n",
       "      <td>0.922400</td>\n",
       "    </tr>\n",
       "    <tr>\n",
       "      <td>1000</td>\n",
       "      <td>0.162900</td>\n",
       "      <td>0.197033</td>\n",
       "      <td>0.931600</td>\n",
       "    </tr>\n",
       "  </tbody>\n",
       "</table><p>"
      ],
      "text/plain": [
       "<IPython.core.display.HTML object>"
      ]
     },
     "metadata": {},
     "output_type": "display_data"
    },
    {
     "data": {
      "text/html": [
       "\n",
       "    <div>\n",
       "      \n",
       "      <progress value='79' max='79' style='width:300px; height:20px; vertical-align: middle;'></progress>\n",
       "      [79/79 00:19]\n",
       "    </div>\n",
       "    "
      ],
      "text/plain": [
       "<IPython.core.display.HTML object>"
      ]
     },
     "metadata": {},
     "output_type": "display_data"
    },
    {
     "name": "stderr",
     "output_type": "stream",
     "text": [
      "[I 2025-05-03 16:23:08,988] Trial 3 finished with value: 0.19289347529411316 and parameters: {'learning_rate': 3.7820144850704565e-05, 'batch_size': 32}. Best is trial 2 with value: 0.19224072992801666.\n"
     ]
    },
    {
     "name": "stdout",
     "output_type": "stream",
     "text": [
      "{'learning_rate': 1.3798589791089372e-05, 'batch_size': 32}\n"
     ]
    }
   ],
   "source": [
    "# We made trials of training, to explore the effect of changing the learning rate and batch size (especially on the computation time)\n",
    "# For all the model trainings, we use the Trainer API from HuggingFace\n",
    "def objective(trial):\n",
    "    # Reinitializing the model for each trial\n",
    "    model = DistilBertForSequenceClassification.from_pretrained('distilbert-base-uncased', num_labels=2)\n",
    "    \n",
    "    # Suggesting hyperparameters\n",
    "    learning_rate = trial.suggest_loguniform('learning_rate',1e-5, 5e-5)\n",
    "    batch_size = trial.suggest_categorical('batch_size', [8,16,32])\n",
    "    \n",
    "    # Training arguments\n",
    "    training_args = TrainingArguments(\n",
    "        output_dir=\"./bert_results\",\n",
    "        learning_rate=learning_rate,\n",
    "        per_device_train_batch_size=batch_size,\n",
    "        per_device_eval_batch_size=batch_size,  \n",
    "        num_train_epochs=2,\n",
    "        eval_steps = 500,\n",
    "        logging_steps= 500, \n",
    "        logging_strategy=\"steps\",\n",
    "        eval_strategy = 'steps',\n",
    "        logging_dir=\"./logs\", \n",
    "        save_strategy=\"no\"\n",
    "    )\n",
    "    \n",
    "    # Trainer initialization\n",
    "    trainer = Trainer(\n",
    "        model=model,\n",
    "        args=training_args,\n",
    "        train_dataset=train_tokenized,\n",
    "        eval_dataset=eval_tokenized,\n",
    "        compute_metrics=compute_metrics\n",
    "    )\n",
    "    \n",
    "    # Train and return validation loss\n",
    "    trainer.train()\n",
    "    eval_results = trainer.evaluate()\n",
    "    return eval_results['eval_loss']\n",
    "\n",
    "# Optimize\n",
    "study = optuna.create_study(direction=\"minimize\")\n",
    "study.optimize(objective, n_trials=4)\n",
    "print(study.best_params)"
   ]
  },
  {
   "cell_type": "code",
   "execution_count": 17,
   "id": "ae3970b6-59bf-4af8-8f5b-9667aff6ab80",
   "metadata": {
    "execution": {
     "iopub.execute_input": "2025-05-03T20:46:14.068412Z",
     "iopub.status.busy": "2025-05-03T20:46:14.067941Z",
     "iopub.status.idle": "2025-05-03T20:46:15.015594Z",
     "shell.execute_reply": "2025-05-03T20:46:15.014892Z",
     "shell.execute_reply.started": "2025-05-03T20:46:14.068385Z"
    }
   },
   "outputs": [
    {
     "name": "stderr",
     "output_type": "stream",
     "text": [
      "Some weights of DistilBertForSequenceClassification were not initialized from the model checkpoint at distilbert-base-uncased and are newly initialized: ['classifier.bias', 'classifier.weight', 'pre_classifier.bias', 'pre_classifier.weight']\n",
      "You should probably TRAIN this model on a down-stream task to be able to use it for predictions and inference.\n"
     ]
    }
   ],
   "source": [
    "model = DistilBertForSequenceClassification.from_pretrained(\"distilbert-base-uncased\", num_labels=2)\n",
    "\n",
    "device = torch.device(\"cuda\" if torch.cuda.is_available() else \"cpu\")\n",
    "model = model.to(device)"
   ]
  },
  {
   "cell_type": "code",
   "execution_count": 18,
   "id": "e3f1b42a-2354-4c0c-becc-a7f8c53d03b0",
   "metadata": {
    "execution": {
     "iopub.execute_input": "2025-05-03T20:47:37.471237Z",
     "iopub.status.busy": "2025-05-03T20:47:37.470955Z",
     "iopub.status.idle": "2025-05-03T20:47:37.502263Z",
     "shell.execute_reply": "2025-05-03T20:47:37.501523Z",
     "shell.execute_reply.started": "2025-05-03T20:47:37.471218Z"
    }
   },
   "outputs": [],
   "source": [
    "# We use the Trainer API from HuggingFace, with our baseline parameters that will be identical for our three models\n",
    "\n",
    "# Custom compute metrics function which will return the accuracy on validation set \n",
    "def compute_metrics(eval_pred):\n",
    "    logits, labels = eval_pred\n",
    "    preds = np.argmax(logits, axis=-1)\n",
    "    acc = accuracy_score(labels, preds)\n",
    "    return {\"accuracy\": acc}\n",
    "\n",
    "\n",
    "# Training arguments\n",
    "training_args = TrainingArguments(\n",
    "    output_dir=\"./bert_results\",\n",
    "    learning_rate= 5e-5,\n",
    "    num_train_epochs=2,  \n",
    "    per_device_train_batch_size=16,  \n",
    "    per_device_eval_batch_size=16,  \n",
    "    logging_steps= 500, \n",
    "    eval_steps = 500,\n",
    "    eval_strategy = 'steps',\n",
    "    logging_strategy=\"steps\",\n",
    "    logging_dir=\"./logs\", \n",
    "    save_strategy=\"no\"\n",
    ")"
   ]
  },
  {
   "cell_type": "code",
   "execution_count": 19,
   "id": "5b7d12cc-0812-4873-b19f-9cd813c05d64",
   "metadata": {
    "execution": {
     "iopub.execute_input": "2025-05-03T20:47:50.905692Z",
     "iopub.status.busy": "2025-05-03T20:47:50.905122Z",
     "iopub.status.idle": "2025-05-03T20:47:51.184315Z",
     "shell.execute_reply": "2025-05-03T20:47:51.183787Z",
     "shell.execute_reply.started": "2025-05-03T20:47:50.905667Z"
    }
   },
   "outputs": [],
   "source": [
    "# Trainer initialization\n",
    "trainer = Trainer(\n",
    "    model=model,\n",
    "    args=training_args,\n",
    "    train_dataset=train_tokenized,\n",
    "    eval_dataset=eval_tokenized,  \n",
    "    compute_metrics=compute_metrics)"
   ]
  },
  {
   "cell_type": "code",
   "execution_count": 20,
   "id": "15297f79-47b5-4b2b-ab6a-f549ed49325d",
   "metadata": {
    "execution": {
     "iopub.execute_input": "2025-05-03T20:47:57.069687Z",
     "iopub.status.busy": "2025-05-03T20:47:57.069379Z",
     "iopub.status.idle": "2025-05-03T21:13:39.220262Z",
     "shell.execute_reply": "2025-05-03T21:13:39.219745Z",
     "shell.execute_reply.started": "2025-05-03T20:47:57.069667Z"
    }
   },
   "outputs": [
    {
     "name": "stderr",
     "output_type": "stream",
     "text": [
      "\u001b[34m\u001b[1mwandb\u001b[0m: \u001b[33mWARNING\u001b[0m If you're specifying your api key in code, ensure this code is not shared publicly.\n",
      "\u001b[34m\u001b[1mwandb\u001b[0m: \u001b[33mWARNING\u001b[0m Consider setting the WANDB_API_KEY environment variable, or running `wandb login` from the command line.\n",
      "\u001b[34m\u001b[1mwandb\u001b[0m: Appending key for api.wandb.ai to your netrc file: /root/.netrc\n",
      "\u001b[34m\u001b[1mwandb\u001b[0m: Currently logged in as: \u001b[33mpaul-d10\u001b[0m (\u001b[33mpaul-d10-ensae-alumni\u001b[0m) to \u001b[32mhttps://api.wandb.ai\u001b[0m. Use \u001b[1m`wandb login --relogin`\u001b[0m to force relogin\n",
      "\u001b[34m\u001b[1mwandb\u001b[0m: \u001b[33mWARNING\u001b[0m The `run_name` is currently set to the same value as `TrainingArguments.output_dir`. If this was not intended, please specify a different run name by setting the `TrainingArguments.run_name` parameter.\n",
      "\u001b[34m\u001b[1mwandb\u001b[0m: Using wandb-core as the SDK backend.  Please refer to https://wandb.me/wandb-core for more information.\n"
     ]
    },
    {
     "data": {
      "text/html": [
       "Tracking run with wandb version 0.19.6"
      ],
      "text/plain": [
       "<IPython.core.display.HTML object>"
      ]
     },
     "metadata": {},
     "output_type": "display_data"
    },
    {
     "data": {
      "text/html": [
       "Run data is saved locally in <code>/kaggle/working/wandb/run-20250503_204805-qi3z9jhe</code>"
      ],
      "text/plain": [
       "<IPython.core.display.HTML object>"
      ]
     },
     "metadata": {},
     "output_type": "display_data"
    },
    {
     "data": {
      "text/html": [
       "Syncing run <strong><a href='https://wandb.ai/paul-d10-ensae-alumni/huggingface/runs/qi3z9jhe' target=\"_blank\">./bert_results</a></strong> to <a href='https://wandb.ai/paul-d10-ensae-alumni/huggingface' target=\"_blank\">Weights & Biases</a> (<a href='https://wandb.me/developer-guide' target=\"_blank\">docs</a>)<br>"
      ],
      "text/plain": [
       "<IPython.core.display.HTML object>"
      ]
     },
     "metadata": {},
     "output_type": "display_data"
    },
    {
     "data": {
      "text/html": [
       " View project at <a href='https://wandb.ai/paul-d10-ensae-alumni/huggingface' target=\"_blank\">https://wandb.ai/paul-d10-ensae-alumni/huggingface</a>"
      ],
      "text/plain": [
       "<IPython.core.display.HTML object>"
      ]
     },
     "metadata": {},
     "output_type": "display_data"
    },
    {
     "data": {
      "text/html": [
       " View run at <a href='https://wandb.ai/paul-d10-ensae-alumni/huggingface/runs/qi3z9jhe' target=\"_blank\">https://wandb.ai/paul-d10-ensae-alumni/huggingface/runs/qi3z9jhe</a>"
      ],
      "text/plain": [
       "<IPython.core.display.HTML object>"
      ]
     },
     "metadata": {},
     "output_type": "display_data"
    },
    {
     "data": {
      "text/html": [
       "\n",
       "    <div>\n",
       "      \n",
       "      <progress value='2814' max='2814' style='width:300px; height:20px; vertical-align: middle;'></progress>\n",
       "      [2814/2814 25:24, Epoch 2/2]\n",
       "    </div>\n",
       "    <table border=\"1\" class=\"dataframe\">\n",
       "  <thead>\n",
       " <tr style=\"text-align: left;\">\n",
       "      <th>Step</th>\n",
       "      <th>Training Loss</th>\n",
       "      <th>Validation Loss</th>\n",
       "      <th>Accuracy</th>\n",
       "    </tr>\n",
       "  </thead>\n",
       "  <tbody>\n",
       "    <tr>\n",
       "      <td>500</td>\n",
       "      <td>0.330300</td>\n",
       "      <td>0.275693</td>\n",
       "      <td>0.882800</td>\n",
       "    </tr>\n",
       "    <tr>\n",
       "      <td>1000</td>\n",
       "      <td>0.249800</td>\n",
       "      <td>0.212204</td>\n",
       "      <td>0.916400</td>\n",
       "    </tr>\n",
       "    <tr>\n",
       "      <td>1500</td>\n",
       "      <td>0.211400</td>\n",
       "      <td>0.377359</td>\n",
       "      <td>0.910000</td>\n",
       "    </tr>\n",
       "    <tr>\n",
       "      <td>2000</td>\n",
       "      <td>0.134100</td>\n",
       "      <td>0.265565</td>\n",
       "      <td>0.926000</td>\n",
       "    </tr>\n",
       "    <tr>\n",
       "      <td>2500</td>\n",
       "      <td>0.129300</td>\n",
       "      <td>0.234068</td>\n",
       "      <td>0.931600</td>\n",
       "    </tr>\n",
       "  </tbody>\n",
       "</table><p>"
      ],
      "text/plain": [
       "<IPython.core.display.HTML object>"
      ]
     },
     "metadata": {},
     "output_type": "display_data"
    },
    {
     "data": {
      "text/plain": [
       "TrainOutput(global_step=2814, training_loss=0.1998424313131087, metrics={'train_runtime': 1534.1129, 'train_samples_per_second': 29.333, 'train_steps_per_second': 1.834, 'total_flos': 5961032939520000.0, 'train_loss': 0.1998424313131087, 'epoch': 2.0})"
      ]
     },
     "execution_count": 20,
     "metadata": {},
     "output_type": "execute_result"
    }
   ],
   "source": [
    "# Fine-Tuning our DistilBERT\n",
    "wandb.login(key=\"8fa5eaba06a066d5e025308e320f58cdf64313d4\")\n",
    "trainer.train()"
   ]
  },
  {
   "cell_type": "code",
   "execution_count": 21,
   "id": "cbf79713-dab0-4bda-8528-eaf8179e0fe9",
   "metadata": {
    "execution": {
     "iopub.execute_input": "2025-05-03T21:13:59.444769Z",
     "iopub.status.busy": "2025-05-03T21:13:59.444196Z",
     "iopub.status.idle": "2025-05-03T21:14:00.117499Z",
     "shell.execute_reply": "2025-05-03T21:14:00.116896Z",
     "shell.execute_reply.started": "2025-05-03T21:13:59.444742Z"
    }
   },
   "outputs": [
    {
     "name": "stdout",
     "output_type": "stream",
     "text": [
      "Model saved to ./imdb_sentiment_model_1\n"
     ]
    }
   ],
   "source": [
    "# Saving the model after training\n",
    "model_save_path = \"./imdb_sentiment_model_1\"\n",
    "trainer.save_model(model_save_path)\n",
    "tokenizer.save_pretrained(model_save_path)\n",
    "\n",
    "# Saving training arguments using the to_json_string method\n",
    "with open(os.path.join(model_save_path, \"training_args.json\"), 'w') as f:\n",
    "    json.dump(training_args.to_dict(), f)\n",
    "\n",
    "print(f\"Model saved to {model_save_path}\")"
   ]
  },
  {
   "cell_type": "code",
   "execution_count": 24,
   "id": "4b8e18d9-be58-42c8-9cd2-c77e5d95d545",
   "metadata": {
    "execution": {
     "iopub.execute_input": "2025-05-03T21:16:02.568055Z",
     "iopub.status.busy": "2025-05-03T21:16:02.567440Z",
     "iopub.status.idle": "2025-05-03T21:16:02.574537Z",
     "shell.execute_reply": "2025-05-03T21:16:02.573847Z",
     "shell.execute_reply.started": "2025-05-03T21:16:02.568033Z"
    }
   },
   "outputs": [],
   "source": [
    "# Function to evaluate the model on the test set and return predicted labels and positive class scores\n",
    "def test_predictions(model_used, tokenized_test_set, batch_size=16):\n",
    "\n",
    "    model.eval()\n",
    "\n",
    "    # DataLoader for batching the test data\n",
    "    test_loader = DataLoader(tokenized_test_set, batch_size=batch_size)\n",
    "\n",
    "    # Lists to store the predictions and scores\n",
    "    all_preds = []\n",
    "    all_scores = []\n",
    "    all_token_counts = []\n",
    "\n",
    "    with torch.no_grad():\n",
    "        for batch in tqdm(test_loader):\n",
    "            input_ids = batch[\"input_ids\"].to(device)\n",
    "            attention_mask = batch[\"attention_mask\"].to(device)\n",
    "            outputs = model(input_ids=input_ids, attention_mask=attention_mask)\n",
    "            probs = torch.softmax(outputs.logits, dim=1)\n",
    "            preds = torch.argmax(probs, dim=1)\n",
    "\n",
    "            # Collecting the predictions and scores\n",
    "            all_preds.extend(preds.cpu().numpy())\n",
    "            all_scores.extend(probs[:, 1].cpu().numpy())  # positive class score\n",
    "            all_token_counts.extend(batch[\"num_tokens\"].cpu().numpy())  # we get the original token count for further analysis\n",
    "\n",
    "    return all_preds, all_scores, all_token_counts"
   ]
  },
  {
   "cell_type": "code",
   "execution_count": 44,
   "id": "a83a67d0-b014-4623-a556-05ed07c360c1",
   "metadata": {
    "execution": {
     "iopub.execute_input": "2025-05-03T21:39:54.701912Z",
     "iopub.status.busy": "2025-05-03T21:39:54.701651Z",
     "iopub.status.idle": "2025-05-03T21:43:10.996204Z",
     "shell.execute_reply": "2025-05-03T21:43:10.995443Z",
     "shell.execute_reply.started": "2025-05-03T21:39:54.701897Z"
    }
   },
   "outputs": [
    {
     "name": "stderr",
     "output_type": "stream",
     "text": [
      "100%|██████████| 1563/1563 [03:15<00:00,  8.01it/s]\n"
     ]
    },
    {
     "name": "stdout",
     "output_type": "stream",
     "text": [
      "Predictions and scores saved.\n"
     ]
    }
   ],
   "source": [
    "# Creating a final scored dataframe and saving it\n",
    "all_preds, all_scores, all_token_counts = test_predictions(model, test_tokenized)\n",
    "\n",
    "scored_df1 = pd.DataFrame({\n",
    "    \"review\": all_texts,\n",
    "    \"true_label\": all_true_labels,\n",
    "    \"rating\": all_ratings,\n",
    "    \"predicted_label\": all_preds,\n",
    "    \"positive_score\": all_scores,\n",
    "    \"num_tokens\": all_token_counts\n",
    "}, index=test_df.index)\n",
    "\n",
    "scored_df1[\"rating\"] = scored_df1[\"rating\"].astype(int)\n",
    "\n",
    "# Adding a 'confidence' column\n",
    "scored_df1[\"confidence\"] = np.where(scored_df1[\"predicted_label\"] == 1, scored_df1[\"positive_score\"], 1 - scored_df1[\"positive_score\"])\n",
    "\n",
    "# We add a \"was_truncated\" column, if the original number of tokens was superior to 512 \n",
    "#scored_df1[\"was_truncated\"] = scored_df1[\"num_tokens\"] > 512\n",
    "\n",
    "scored_df1.to_csv('predictions_full_results_1.csv', index=False)\n",
    "\n",
    "np.save(\"preds1.npy\", np.array(all_preds))\n",
    "np.save(\"scores1.npy\", np.array(all_scores))\n",
    "print(f\"Predictions and scores saved.\")"
   ]
  },
  {
   "cell_type": "code",
   "execution_count": 45,
   "id": "78f1358f-8e80-43c6-9e5b-3173485d345c",
   "metadata": {
    "execution": {
     "iopub.execute_input": "2025-05-03T21:43:24.736702Z",
     "iopub.status.busy": "2025-05-03T21:43:24.736410Z",
     "iopub.status.idle": "2025-05-03T21:43:24.750418Z",
     "shell.execute_reply": "2025-05-03T21:43:24.749578Z",
     "shell.execute_reply.started": "2025-05-03T21:43:24.736682Z"
    }
   },
   "outputs": [
    {
     "name": "stdout",
     "output_type": "stream",
     "text": [
      "Accuracy: 0.9315\n",
      "Precision: 0.9265\n",
      "Recall: 0.9374\n",
      "F1 Score: 0.9319\n"
     ]
    }
   ],
   "source": [
    "# Computing metrics\n",
    "accuracy = accuracy_score(scored_df1[\"true_label\"], scored_df1[\"predicted_label\"])\n",
    "precision, recall, f1, _ = precision_recall_fscore_support(scored_df1[\"true_label\"], scored_df1[\"predicted_label\"], average='binary')\n",
    "\n",
    "print(f\"Accuracy: {accuracy:.4f}\")\n",
    "print(f\"Precision: {precision:.4f}\")\n",
    "print(f\"Recall: {recall:.4f}\")\n",
    "print(f\"F1 Score: {f1:.4f}\")"
   ]
  },
  {
   "cell_type": "code",
   "execution_count": 46,
   "id": "c00fe203-27f9-47be-bd58-26109b87f1b2",
   "metadata": {
    "execution": {
     "iopub.execute_input": "2025-05-03T21:43:36.249675Z",
     "iopub.status.busy": "2025-05-03T21:43:36.248949Z",
     "iopub.status.idle": "2025-05-03T21:43:36.404640Z",
     "shell.execute_reply": "2025-05-03T21:43:36.403867Z",
     "shell.execute_reply.started": "2025-05-03T21:43:36.249648Z"
    }
   },
   "outputs": [
    {
     "data": {
      "image/png": "[encoded data removed]",
      "text/plain": [
       "<Figure size 800x600 with 2 Axes>"
      ]
     },
     "metadata": {},
     "output_type": "display_data"
    }
   ],
   "source": [
    "# Creating a confusion matrix\n",
    "cm = confusion_matrix(scored_df1[\"true_label\"], scored_df1[\"predicted_label\"])\n",
    "plt.figure(figsize=(8, 6))\n",
    "sns.heatmap(cm, annot=True, fmt='d', cmap='Blues', annot_kws={\"size\": 19},\n",
    "            xticklabels=['Negative', 'Positive'],\n",
    "            yticklabels=['Negative', 'Positive'])\n",
    "plt.xlabel('Predicted', fontsize=18)\n",
    "plt.ylabel('True', fontsize=18)\n",
    "plt.title('Baseline', fontsize=20)\n",
    "plt.xticks(fontsize=16)\n",
    "plt.yticks(fontsize=16)\n",
    "plt.show()"
   ]
  },
  {
   "cell_type": "code",
   "execution_count": 47,
   "id": "efe4820b-b172-4388-b832-38cb3a6c98e6",
   "metadata": {
    "execution": {
     "iopub.execute_input": "2025-05-03T21:43:43.537925Z",
     "iopub.status.busy": "2025-05-03T21:43:43.537246Z",
     "iopub.status.idle": "2025-05-03T21:43:43.575167Z",
     "shell.execute_reply": "2025-05-03T21:43:43.574489Z",
     "shell.execute_reply.started": "2025-05-03T21:43:43.537894Z"
    }
   },
   "outputs": [
    {
     "name": "stdout",
     "output_type": "stream",
     "text": [
      "Index: 21119\n",
      "Review (first 200 chars): Maybe it was the excessive weight gain Seagal had put on. Or maybe it was the horrible acting of Wayans in an action flick. Or was it the total lack of chemistry between the two leading characters? Th...\n",
      "True Sentiment: Negative\n",
      "Predicted Sentiment: Negative (Confidence: 0.9978)\n",
      "Positive Score: 0.0022\n",
      "--------------------------------------------------------------------------------\n",
      "Index: 5292\n",
      "Review (first 200 chars): I've been waiting almost 25 years to see this hard to find horror thriller and I finally did since it's proper rebirth on DVD. Of course it didn't have the same impact on me as it would have if I had ...\n",
      "True Sentiment: Positive\n",
      "Predicted Sentiment: Positive (Confidence: 0.9979)\n",
      "Positive Score: 0.9979\n",
      "--------------------------------------------------------------------------------\n",
      "Index: 1813\n",
      "Review (first 200 chars): Barney is about \"IMAGINATION\" what you guys do not have if my preschooler never wanted to play pretend like they do in that show then i would be worried. What 2 or 3 year old actually gets all that an...\n",
      "True Sentiment: Positive\n",
      "Predicted Sentiment: Negative (Confidence: 0.9632)\n",
      "Positive Score: 0.0368\n",
      "--------------------------------------------------------------------------------\n",
      "Index: 5570\n",
      "Review (first 200 chars): Some said that this was a nose candy glorification flick, but short of the original Dr. Hyde's concoction, no drug has yet been developed that can provide THIS effect. If Viagra was the slime mold sta...\n",
      "True Sentiment: Positive\n",
      "Predicted Sentiment: Positive (Confidence: 0.8900)\n",
      "Positive Score: 0.8900\n",
      "--------------------------------------------------------------------------------\n",
      "Index: 18791\n",
      "Review (first 200 chars): Native Chief's son is wrongfully accused for the death of his father. The evil Witch Doctor orders to execute him. He then comes back as a murdering tree(!), Tabanga. Well, what can you say about such...\n",
      "True Sentiment: Negative\n",
      "Predicted Sentiment: Negative (Confidence: 0.9968)\n",
      "Positive Score: 0.0032\n",
      "--------------------------------------------------------------------------------\n",
      "Index: 16602\n",
      "Review (first 200 chars): Virtual Sexuality proves that Britain can produce romantic comedies as vapid as those from America. The only differences are an ending that ties up the loose bits differently than an American film wou...\n",
      "True Sentiment: Negative\n",
      "Predicted Sentiment: Positive (Confidence: 0.9634)\n",
      "Positive Score: 0.9634\n",
      "--------------------------------------------------------------------------------\n",
      "Index: 236\n",
      "Review (first 200 chars): \"Western Union\" is something of a forgotten classic western! Perhaps the reason for this lies in the fact of its unavailability on DVD in the United States. However, all is not lost as it has now appe...\n",
      "True Sentiment: Positive\n",
      "Predicted Sentiment: Negative (Confidence: 0.5667)\n",
      "Positive Score: 0.4333\n",
      "--------------------------------------------------------------------------------\n",
      "Index: 8378\n",
      "Review (first 200 chars): I didn't expect much when I decided to watch this movie, so I was surprised to find myself thoroughly enjoying it. A couple of scenes had me laughing almost uncontrollably. The characters were engagin...\n",
      "True Sentiment: Positive\n",
      "Predicted Sentiment: Positive (Confidence: 0.9570)\n",
      "Positive Score: 0.9570\n",
      "--------------------------------------------------------------------------------\n",
      "Index: 17449\n",
      "Review (first 200 chars): (SMALL SPOILERS) I just bought the DVD of this movie yesterday. I saw it with my friends and I couldn't believe what had happened.In the first 3 movies, the critters at least had a sense of humor (esp...\n",
      "True Sentiment: Negative\n",
      "Predicted Sentiment: Negative (Confidence: 0.9939)\n",
      "Positive Score: 0.0061\n",
      "--------------------------------------------------------------------------------\n",
      "Index: 14745\n",
      "Review (first 200 chars): and nothing else.One of my friends bought the Problem Child Tantrum Pack (contains the first two \"Problem Child\"s in one disc), and we decided to watch the sequel because it was \"funnier\".There were m...\n",
      "True Sentiment: Negative\n",
      "Predicted Sentiment: Negative (Confidence: 0.9970)\n",
      "Positive Score: 0.0030\n",
      "--------------------------------------------------------------------------------\n"
     ]
    }
   ],
   "source": [
    "# Plotting some examples of predictions (whole dataset)\n",
    "def show_example_predictions(df, num_examples=10, num_tokens=False):\n",
    "    indices = np.random.choice(df.index, min(num_examples, len(df)), replace=False)\n",
    "\n",
    "    for idx in indices:\n",
    "        review = df.loc[idx, \"review\"]\n",
    "        true_label = \"Positive\" if df.loc[idx, \"true_label\"] == 1 else \"Negative\"\n",
    "        pred_label = \"Positive\" if df.loc[idx, \"predicted_label\"] == 1 else \"Negative\"\n",
    "        positive_score = df.loc[idx, \"positive_score\"]\n",
    "        confidence = df.loc[idx, \"confidence\"]\n",
    "        print(f\"Index: {idx}\") \n",
    "        print(f\"Review (first 200 chars): {review[:200]}...\")\n",
    "        print(f\"True Sentiment: {true_label}\")\n",
    "        print(f\"Predicted Sentiment: {pred_label} (Confidence: {confidence:.4f})\")\n",
    "        print(f\"Positive Score: {positive_score:.4f}\")\n",
    "        if num_tokens:\n",
    "            number_tokens = df.loc[idx, \"num_tokens\"]\n",
    "            print(f\"Number of tokens: {number_tokens}\")\n",
    "        print(\"-\" * 80)\n",
    "\n",
    "show_example_predictions(scored_df1, num_examples=10)"
   ]
  },
  {
   "cell_type": "code",
   "execution_count": 51,
   "id": "7d3806a8-d465-4998-b4fc-03b0e385eb52",
   "metadata": {
    "execution": {
     "iopub.execute_input": "2025-05-03T21:46:44.394433Z",
     "iopub.status.busy": "2025-05-03T21:46:44.393768Z",
     "iopub.status.idle": "2025-05-03T21:46:44.433846Z",
     "shell.execute_reply": "2025-05-03T21:46:44.433281Z",
     "shell.execute_reply.started": "2025-05-03T21:46:44.394409Z"
    }
   },
   "outputs": [
    {
     "name": "stdout",
     "output_type": "stream",
     "text": [
      "Index: 15514\n",
      "Review (first 200 chars): It opens - and for half an hour, runs - like an educational programme on the Old Testament, although not without humour. The movie finally begins to grow wings when the biblical cant gets dropped. In ...\n",
      "True Sentiment: Negative\n",
      "Predicted Sentiment: Positive (Confidence: 0.9849)\n",
      "Positive Score: 0.9849\n",
      "Number of tokens: 307\n",
      "--------------------------------------------------------------------------------\n",
      "Index: 12843\n",
      "Review (first 200 chars): Don't worry when looking at the cover of the DVD, Sandra Bullock only appears at most 5 minutes in total in this cult classic. The entertainment value here is very high. To name but a few of the many ...\n",
      "True Sentiment: Negative\n",
      "Predicted Sentiment: Positive (Confidence: 0.9767)\n",
      "Positive Score: 0.9767\n",
      "Number of tokens: 184\n",
      "--------------------------------------------------------------------------------\n",
      "Index: 3768\n",
      "Review (first 200 chars): I've been a fan of Heaven's Gate since its first release. I've seen it at least half-a-dozen times and have long thought of it as a masterpiece. So, it was with excitement and a sense of anticipation ...\n",
      "True Sentiment: Positive\n",
      "Predicted Sentiment: Negative (Confidence: 0.5747)\n",
      "Positive Score: 0.4253\n",
      "Number of tokens: 762\n",
      "--------------------------------------------------------------------------------\n",
      "Index: 7381\n",
      "Review (first 200 chars): I'm not going to tell anyone what happens in the end, but it did not fit with the movie. The rest of Imaginary Heroes, though, portrayed a realistic family going through realistic issues, such as deat...\n",
      "True Sentiment: Positive\n",
      "Predicted Sentiment: Negative (Confidence: 0.9123)\n",
      "Positive Score: 0.0877\n",
      "Number of tokens: 143\n",
      "--------------------------------------------------------------------------------\n",
      "Index: 19525\n",
      "Review (first 200 chars): How much can you really say about a condom with teeth? The plot was really out there, but it was something campy to see on a Friday night. The story has a lot of unexpected twists, and it's a great wa...\n",
      "True Sentiment: Negative\n",
      "Predicted Sentiment: Positive (Confidence: 0.9910)\n",
      "Positive Score: 0.9910\n",
      "Number of tokens: 58\n",
      "--------------------------------------------------------------------------------\n",
      "Index: 21850\n",
      "Review (first 200 chars): I saw bits and pieces of this on TV once, and when a friend recommended it, I began looking for it even though it seemed no place nearby had it. I finally got a hold of it in an antique store, and cou...\n",
      "True Sentiment: Negative\n",
      "Predicted Sentiment: Positive (Confidence: 0.9563)\n",
      "Positive Score: 0.9563\n",
      "Number of tokens: 536\n",
      "--------------------------------------------------------------------------------\n",
      "Index: 18698\n",
      "Review (first 200 chars): Imagine watching a slide show where the projector lingers on every slide long enough for you to completely memorize it three times over. Now imagine that the images in the slide show consist entirely ...\n",
      "True Sentiment: Negative\n",
      "Predicted Sentiment: Positive (Confidence: 0.9196)\n",
      "Positive Score: 0.9196\n",
      "Number of tokens: 565\n",
      "--------------------------------------------------------------------------------\n",
      "Index: 10505\n",
      "Review (first 200 chars): This Movie is a warning to all people sat surfing the internet on a typical day at the office. My Warning is ,Do not reveal too much about yourself, 2 Be careful who you cross!! ,there are spies on th...\n",
      "True Sentiment: Positive\n",
      "Predicted Sentiment: Negative (Confidence: 0.9617)\n",
      "Positive Score: 0.0383\n",
      "Number of tokens: 222\n",
      "--------------------------------------------------------------------------------\n",
      "Index: 18978\n",
      "Review (first 200 chars): Living in Edinburgh, and have a great thirst for history, I was very put off by the \"libertys\" taken. Wrong breed of dog for a start!! Bobbys owner Old Jock was an old single man, who came to Edinburg...\n",
      "True Sentiment: Negative\n",
      "Predicted Sentiment: Positive (Confidence: 0.8792)\n",
      "Positive Score: 0.8792\n",
      "Number of tokens: 163\n",
      "--------------------------------------------------------------------------------\n",
      "Index: 10981\n",
      "Review (first 200 chars): Bud Abbott and Lou Costello always had a good following among children, but in their careers I think you could say that they only made one film that could be designated for kids. Jack and the Beanstal...\n",
      "True Sentiment: Positive\n",
      "Predicted Sentiment: Negative (Confidence: 0.9113)\n",
      "Positive Score: 0.0887\n",
      "Number of tokens: 457\n",
      "--------------------------------------------------------------------------------\n",
      "Index: 12337\n",
      "Review (first 200 chars): What a crazy film!It lasts 12(!) hours and you don't understand who these people are and what are they doing!The main plot is about a bunch of clueless actors trying to bring on scene \"Prometheus\",but...\n",
      "True Sentiment: Positive\n",
      "Predicted Sentiment: Negative (Confidence: 0.9718)\n",
      "Positive Score: 0.0282\n",
      "Number of tokens: 88\n",
      "--------------------------------------------------------------------------------\n",
      "Index: 9501\n",
      "Review (first 200 chars): A Jane Smiley novel, loosely based on Shakespeare's KING LEAR about the Cook family and its dark secrets. Director Moorhouse seems tamed in her approach, allowing the characters to step forward and ta...\n",
      "True Sentiment: Positive\n",
      "Predicted Sentiment: Negative (Confidence: 0.9644)\n",
      "Positive Score: 0.0356\n",
      "Number of tokens: 71\n",
      "--------------------------------------------------------------------------------\n",
      "Index: 4616\n",
      "Review (first 200 chars): \"The Egyptian\" is set during the reign of one of the most fascinating figures of the ancient world, the Pharaoh Akhnaton, who, thirteen centuries before Christ attempted to introduce a monotheistic re...\n",
      "True Sentiment: Positive\n",
      "Predicted Sentiment: Negative (Confidence: 0.9639)\n",
      "Positive Score: 0.0361\n",
      "Number of tokens: 1337\n",
      "--------------------------------------------------------------------------------\n",
      "Index: 842\n",
      "Review (first 200 chars): this is an adaptation of a Dirk Wittenborn book, which I did not read. young Finn Earl lives with his Mom Liz (Diane Lane) in a cramped lower East Side New York Apartment. he dreams of joining his Ant...\n",
      "True Sentiment: Positive\n",
      "Predicted Sentiment: Negative (Confidence: 0.8221)\n",
      "Positive Score: 0.1779\n",
      "Number of tokens: 685\n",
      "--------------------------------------------------------------------------------\n",
      "Index: 9870\n",
      "Review (first 200 chars): Italian soft X Exorcist clone.Woman buy statue of crucified thief. Said thief comes to life and turns out to be the Devil with rape fantasies.Ivan Rassimov plays the Devil brilliantly. Mostly due to h...\n",
      "True Sentiment: Positive\n",
      "Predicted Sentiment: Negative (Confidence: 0.8579)\n",
      "Positive Score: 0.1421\n",
      "Number of tokens: 183\n",
      "--------------------------------------------------------------------------------\n",
      "Index: 9135\n",
      "Review (first 200 chars): **SPOILERS** Simple movie about simple people who's problems are far too complex for them to handle.Natalie aka Sara Ravenna, Shirley Knight, has become overwhelmed with married life and the fact that...\n",
      "True Sentiment: Positive\n",
      "Predicted Sentiment: Negative (Confidence: 0.6183)\n",
      "Positive Score: 0.3817\n",
      "Number of tokens: 682\n",
      "--------------------------------------------------------------------------------\n",
      "Index: 1479\n",
      "Review (first 200 chars): The notion of marital fidelity portrayed in the film seems outdated today, but it is exactly the main characters' adherence to that notion which makes the entire story so touchingly tragic. It is this...\n",
      "True Sentiment: Positive\n",
      "Predicted Sentiment: Negative (Confidence: 0.9667)\n",
      "Positive Score: 0.0333\n",
      "Number of tokens: 243\n",
      "--------------------------------------------------------------------------------\n",
      "Index: 4679\n",
      "Review (first 200 chars): After seeing Meredith in \"Beyond the Prairie\" I had to buy another film with her staring. I cannot believe how she let herself into this teenage flick. It's best to watch this one with the sound off b...\n",
      "True Sentiment: Positive\n",
      "Predicted Sentiment: Negative (Confidence: 0.8874)\n",
      "Positive Score: 0.1126\n",
      "Number of tokens: 156\n",
      "--------------------------------------------------------------------------------\n",
      "Index: 13382\n",
      "Review (first 200 chars): I have seen both the MST3K version and the uncut version. I rather enjoyed it. Either way, it wasn't that bad of a movie. Sure it moved a bit slow at times. I liked it.As far as MST3K goes, they only ...\n",
      "True Sentiment: Negative\n",
      "Predicted Sentiment: Positive (Confidence: 0.9729)\n",
      "Positive Score: 0.9729\n",
      "Number of tokens: 242\n",
      "--------------------------------------------------------------------------------\n",
      "Index: 9606\n",
      "Review (first 200 chars): The problem with so many people watching this movie is the mindset they watch it in. People come looking for a B-Grade horror film, or a \"So Bad It's Good\" movie. Jack Frost 2 is neither of these.It i...\n",
      "True Sentiment: Positive\n",
      "Predicted Sentiment: Negative (Confidence: 0.9674)\n",
      "Positive Score: 0.0326\n",
      "Number of tokens: 431\n",
      "--------------------------------------------------------------------------------\n"
     ]
    }
   ],
   "source": [
    "# Focus on incorrect predictions\n",
    "incorrect_df1 = scored_df1[scored_df1[\"predicted_label\"] != scored_df1[\"true_label\"]]\n",
    "correct_df1 = scored_df1[scored_df1[\"predicted_label\"] == scored_df1[\"true_label\"]]\n",
    "\n",
    "# Showing some examples of incorrect predictions\n",
    "show_example_predictions(incorrect_df1, num_examples = 20, num_tokens = True)"
   ]
  },
  {
   "cell_type": "code",
   "execution_count": 52,
   "id": "581b0136-1648-477b-8283-41e0ad0a2405",
   "metadata": {
    "execution": {
     "iopub.execute_input": "2025-05-03T21:47:05.721736Z",
     "iopub.status.busy": "2025-05-03T21:47:05.721459Z",
     "iopub.status.idle": "2025-05-03T21:47:05.887462Z",
     "shell.execute_reply": "2025-05-03T21:47:05.886770Z",
     "shell.execute_reply.started": "2025-05-03T21:47:05.721719Z"
    }
   },
   "outputs": [
    {
     "data": {
      "image/png": "[encoded data removed]",
      "text/plain": [
       "<Figure size 800x600 with 1 Axes>"
      ]
     },
     "metadata": {},
     "output_type": "display_data"
    }
   ],
   "source": [
    "# ROC curve and AUC\n",
    "from sklearn.metrics import roc_curve, auc\n",
    "\n",
    "# Get true labels and predicted probabilities and predicted probabilities for the positive class\n",
    "labels = scored_df1[\"true_label\"].values\n",
    "probs = scored_df1[\"positive_score\"].values\n",
    "\n",
    "# Calculating ROC curve and AUC\n",
    "fpr, tpr, thresholds = roc_curve(labels, probs)\n",
    "roc_auc = auc(fpr, tpr)\n",
    "\n",
    "# Plotting ROC curve\n",
    "plt.figure(figsize=(8, 6))\n",
    "plt.plot(fpr, tpr, color='darkorange', lw=2, label=f'ROC curve (area = {roc_auc:.2f})')\n",
    "plt.plot([0, 1], [0, 1], color='navy', lw=2, linestyle='--')\n",
    "plt.xlim([0.0, 1.0])\n",
    "plt.ylim([0.0, 1.05])\n",
    "plt.xlabel('False Positive Rate')\n",
    "plt.ylabel('True Positive Rate')\n",
    "plt.title('Receiver Operating Characteristic (ROC) Curve')\n",
    "plt.legend(loc=\"lower right\")\n",
    "plt.show()"
   ]
  },
  {
   "cell_type": "markdown",
   "id": "bdf94570-9de7-4777-8cb8-a21202e7c789",
   "metadata": {},
   "source": [
    "# PART II : Conducting a LIME analysis to improve the model"
   ]
  },
  {
   "cell_type": "markdown",
   "id": "f2a4182c-c191-4c50-8190-db472c73535e",
   "metadata": {},
   "source": [
    "## LIME analysis on the results of the baseline DistilBERT model"
   ]
  },
  {
   "cell_type": "code",
   "execution_count": 53,
   "id": "98143458-e54e-421f-b7e4-87e7c4debd76",
   "metadata": {
    "execution": {
     "iopub.execute_input": "2025-05-03T21:47:13.004967Z",
     "iopub.status.busy": "2025-05-03T21:47:13.004363Z",
     "iopub.status.idle": "2025-05-03T21:47:13.011589Z",
     "shell.execute_reply": "2025-05-03T21:47:13.011038Z",
     "shell.execute_reply.started": "2025-05-03T21:47:13.004943Z"
    }
   },
   "outputs": [
    {
     "data": {
      "text/plain": [
       "DistilBertForSequenceClassification(\n",
       "  (distilbert): DistilBertModel(\n",
       "    (embeddings): Embeddings(\n",
       "      (word_embeddings): Embedding(30522, 768, padding_idx=0)\n",
       "      (position_embeddings): Embedding(512, 768)\n",
       "      (LayerNorm): LayerNorm((768,), eps=1e-12, elementwise_affine=True)\n",
       "      (dropout): Dropout(p=0.1, inplace=False)\n",
       "    )\n",
       "    (transformer): Transformer(\n",
       "      (layer): ModuleList(\n",
       "        (0-5): 6 x TransformerBlock(\n",
       "          (attention): DistilBertSdpaAttention(\n",
       "            (dropout): Dropout(p=0.1, inplace=False)\n",
       "            (q_lin): Linear(in_features=768, out_features=768, bias=True)\n",
       "            (k_lin): Linear(in_features=768, out_features=768, bias=True)\n",
       "            (v_lin): Linear(in_features=768, out_features=768, bias=True)\n",
       "            (out_lin): Linear(in_features=768, out_features=768, bias=True)\n",
       "          )\n",
       "          (sa_layer_norm): LayerNorm((768,), eps=1e-12, elementwise_affine=True)\n",
       "          (ffn): FFN(\n",
       "            (dropout): Dropout(p=0.1, inplace=False)\n",
       "            (lin1): Linear(in_features=768, out_features=3072, bias=True)\n",
       "            (lin2): Linear(in_features=3072, out_features=768, bias=True)\n",
       "            (activation): GELUActivation()\n",
       "          )\n",
       "          (output_layer_norm): LayerNorm((768,), eps=1e-12, elementwise_affine=True)\n",
       "        )\n",
       "      )\n",
       "    )\n",
       "  )\n",
       "  (pre_classifier): Linear(in_features=768, out_features=768, bias=True)\n",
       "  (classifier): Linear(in_features=768, out_features=2, bias=True)\n",
       "  (dropout): Dropout(p=0.2, inplace=False)\n",
       ")"
      ]
     },
     "execution_count": 53,
     "metadata": {},
     "output_type": "execute_result"
    }
   ],
   "source": [
    "model.eval()"
   ]
  },
  {
   "cell_type": "code",
   "execution_count": 54,
   "id": "d20b2c5e-abb0-4209-99b9-137ac7b5d474",
   "metadata": {
    "execution": {
     "iopub.execute_input": "2025-05-03T21:47:17.001058Z",
     "iopub.status.busy": "2025-05-03T21:47:17.000783Z",
     "iopub.status.idle": "2025-05-03T21:47:17.099271Z",
     "shell.execute_reply": "2025-05-03T21:47:17.098457Z",
     "shell.execute_reply.started": "2025-05-03T21:47:17.001038Z"
    }
   },
   "outputs": [
    {
     "name": "stdout",
     "output_type": "stream",
     "text": [
      "Created new LIME explanation cache\n"
     ]
    }
   ],
   "source": [
    "# Creating an empty cache\n",
    "torch.cuda.empty_cache()\n",
    "\n",
    "lime_cache_file = \"lime_cache.pkl\"\n",
    "try:\n",
    "    lime_cache = joblib.load(lime_cache_file)\n",
    "    print(f\"Loaded {len(lime_cache)} cached explanations\")\n",
    "except:\n",
    "    lime_cache = {}\n",
    "    print(\"Created new LIME explanation cache\")"
   ]
  },
  {
   "cell_type": "code",
   "execution_count": 55,
   "id": "582e7130-7d9f-490b-8212-75e30b09065f",
   "metadata": {
    "execution": {
     "iopub.execute_input": "2025-05-03T21:47:32.087005Z",
     "iopub.status.busy": "2025-05-03T21:47:32.086685Z",
     "iopub.status.idle": "2025-05-03T21:47:32.093601Z",
     "shell.execute_reply": "2025-05-03T21:47:32.092797Z",
     "shell.execute_reply.started": "2025-05-03T21:47:32.086974Z"
    }
   },
   "outputs": [],
   "source": [
    "# Function necessary in LIME explanation, to get the probabilities for the positive class\n",
    "def predict_proba_lime(texts):\n",
    "    # Ensuring the model is on CPU for LIME predictions\n",
    "    model_cpu = model.to(\"cpu\")\n",
    "    \n",
    "    # Processing inputs in smaller batches\n",
    "    batch_size = 8\n",
    "    all_probs = []\n",
    "    \n",
    "    for i in range(0, len(texts), batch_size):\n",
    "        batch_texts = texts[i:i+batch_size]\n",
    "        # reducing max_length to save memory (e.g., 256 tokens)\n",
    "        inputs = tokenizer(batch_texts, padding=True, truncation=True, \n",
    "                         return_tensors=\"pt\", max_length=256)\n",
    "        \n",
    "        with torch.no_grad():\n",
    "            outputs = model_cpu(**inputs)\n",
    "            logits = outputs.logits\n",
    "            probs = torch.softmax(logits, dim=1)\n",
    "            all_probs.append(probs.numpy())\n",
    "    \n",
    "    return np.vstack(all_probs) if len(all_probs) > 1 else all_probs[0]"
   ]
  },
  {
   "cell_type": "code",
   "execution_count": 56,
   "id": "16f5735f-1010-4333-8af2-3ba0be3c2bee",
   "metadata": {
    "execution": {
     "iopub.execute_input": "2025-05-03T21:47:42.394125Z",
     "iopub.status.busy": "2025-05-03T21:47:42.393636Z",
     "iopub.status.idle": "2025-05-03T21:47:42.400376Z",
     "shell.execute_reply": "2025-05-03T21:47:42.399723Z",
     "shell.execute_reply.started": "2025-05-03T21:47:42.394102Z"
    }
   },
   "outputs": [],
   "source": [
    "# Defining the LIME explainer\n",
    "class_names = [\"Negative\", \"Positive\"]\n",
    "explainer = LimeTextExplainer(class_names=class_names, split_expression='\\W+')\n",
    "\n",
    "# Function to get or compute LIME explanation\n",
    "def get_or_compute_explanation(idx, num_features=5):\n",
    "    cache_key = f\"{idx}_{num_features}\"\n",
    "    if cache_key in lime_cache:\n",
    "        return lime_cache[cache_key]\n",
    "    \n",
    "    # We are getting the text from the scored dataframe\n",
    "    text = scored_df1.loc[idx,'review']\n",
    "    \n",
    "    # Generating LIME explanation with reduced samples\n",
    "    explanation = explainer.explain_instance(\n",
    "        text,\n",
    "        predict_proba_lime,\n",
    "        num_features=min(num_features, len(text.split())),\n",
    "        num_samples=500,  # reduced from default 5000 to save memory\n",
    "        top_labels=2\n",
    "    )\n",
    "    \n",
    "    # Cache the result\n",
    "    lime_cache[cache_key] = explanation\n",
    "    if len(lime_cache) % 5 == 0:  # Save cache periodically\n",
    "        joblib.dump(lime_cache, lime_cache_file)\n",
    "    \n",
    "    return explanation"
   ]
  },
  {
   "cell_type": "code",
   "execution_count": 57,
   "id": "48fc6f2e-f725-4f5f-95ee-0251bc7c4ad5",
   "metadata": {
    "execution": {
     "iopub.execute_input": "2025-05-03T21:47:46.885051Z",
     "iopub.status.busy": "2025-05-03T21:47:46.884500Z",
     "iopub.status.idle": "2025-05-03T21:47:46.893817Z",
     "shell.execute_reply": "2025-05-03T21:47:46.893085Z",
     "shell.execute_reply.started": "2025-05-03T21:47:46.885027Z"
    }
   },
   "outputs": [],
   "source": [
    "# Function to analyze a specific misclassified example\n",
    "def analyze_classification(idx, num_features=5):\n",
    "    model.to(\"cpu\")\n",
    "    torch.cuda.empty_cache()\n",
    "    gc.collect()\n",
    "\n",
    "    text = scored_df1.loc[idx, 'review']\n",
    "    \n",
    "    print(f\"\\n{'='*80}\")\n",
    "    print(f\"ANALYZING THE EXAMPLE #{idx}\")\n",
    "    print(f\"{'='*80}\")\n",
    "    show_example_predictions(scored_df1.loc[[idx]], num_examples=1)\n",
    "    print(\"-\" * 80)\n",
    "   \n",
    "    # Get explanation (from cache or compute new)\n",
    "    explanation = get_or_compute_explanation(idx, num_features)\n",
    "\n",
    "    # Analyze both classes to understand why the misclassification happened\n",
    "    for label_id in [0, 1]: \n",
    "        label_name = class_names[label_id]\n",
    "        print(f\"\\nFeature importance for class: {label_name}\")\n",
    "        \n",
    "        feature_importance = explanation.as_list(label_id) # getting the words and their weights\n",
    "      \n",
    "        feature_importance.sort(key=lambda x: abs(x[1]), reverse=True) # sorting by absolute weight for better visualization\n",
    "\n",
    "        # Text-based visualization instead of matplotlib\n",
    "        print(f\"Top words driving {label_name} prediction:\")\n",
    "        for word, weight in feature_importance[:10]:\n",
    "            impact = \"increasing\" if weight > 0 else \"decreasing\"\n",
    "            print(f\"  • '{word}': {weight:.4f} ({impact} probability)\")\n",
    "\n",
    "    # Identifying words in context\n",
    "    print(\"\\nWords in context:\")\n",
    "    for word, _ in sorted(feature_importance, key=lambda x: abs(x[1]), reverse=True)[:5]:\n",
    "        # getting the context and highlighting the word in this context\n",
    "        lower_text = text.lower()\n",
    "        word_lower = word.lower()\n",
    "        start_pos = lower_text.find(word_lower)\n",
    "        if start_pos != -1:\n",
    "            context_start = max(0, start_pos - 50)\n",
    "            context_end = min(len(text), start_pos + len(word) + 50)\n",
    "            context = text[context_start:context_end]\n",
    "            \n",
    "            highlighted = context.replace(word, f\"**{word}**\")\n",
    "            print(f\"  • Context: \\\"...{highlighted}...\\\"\") \n",
    "\n",
    "    # Clearing memory again\n",
    "    torch.cuda.empty_cache()\n",
    "    gc.collect()\n",
    "    \n",
    "    return explanation"
   ]
  },
  {
   "cell_type": "code",
   "execution_count": 58,
   "id": "0aa5b064-7e6b-45a9-a3eb-b8c51075f407",
   "metadata": {
    "execution": {
     "iopub.execute_input": "2025-05-03T21:47:52.556331Z",
     "iopub.status.busy": "2025-05-03T21:47:52.555776Z",
     "iopub.status.idle": "2025-05-03T21:47:52.561865Z",
     "shell.execute_reply": "2025-05-03T21:47:52.561240Z",
     "shell.execute_reply.started": "2025-05-03T21:47:52.556308Z"
    }
   },
   "outputs": [],
   "source": [
    "# Batch processing for misclassifications\n",
    "def analyze_misclassifications_batch(num_examples=3, batch_size=2):\n",
    "    # indices are selected from the incorrect classifications dataframe\n",
    "    indices = np.random.choice(incorrect_df1.index, min(num_examples, len(incorrect_df1)), replace=False)\n",
    "\n",
    "    for i in range(0, len(indices), batch_size):\n",
    "        batch_indices = indices[i:i+batch_size]\n",
    "        for idx in batch_indices:\n",
    "            analyze_classification(idx)  # analyze the example using the previous function\n",
    "        \n",
    "        # Clear memory after each batch\n",
    "        model.to(\"cpu\")\n",
    "        torch.cuda.empty_cache()\n",
    "        gc.collect()\n",
    "        print(f\"Completed batch {i//batch_size + 1}/{(len(indices) + batch_size - 1)//batch_size}\")\n"
   ]
  },
  {
   "cell_type": "code",
   "execution_count": 59,
   "id": "0393d7f7-8607-477a-ae9e-c9757c6a4c53",
   "metadata": {
    "execution": {
     "iopub.execute_input": "2025-05-03T21:48:00.040492Z",
     "iopub.status.busy": "2025-05-03T21:48:00.040205Z",
     "iopub.status.idle": "2025-05-03T21:48:00.046705Z",
     "shell.execute_reply": "2025-05-03T21:48:00.045944Z",
     "shell.execute_reply.started": "2025-05-03T21:48:00.040453Z"
    }
   },
   "outputs": [],
   "source": [
    "def analyze_confident_misclassifications(num_examples=3, batch_size=2):\n",
    "    if incorrect_df1.empty:\n",
    "        print(\"No misclassified examples found.\")\n",
    "        return\n",
    "\n",
    "    # getting the top 100 most confident incorrect predictions and picking the most confident among them\n",
    "    top_incorrect = incorrect_df1.sort_values(by=\"confidence\", ascending=False).head(100)\n",
    "    selected_indices = top_incorrect.index[:num_examples]\n",
    "\n",
    "    # Analyzing in batches\n",
    "    print(f\"\\n{'='*80}\")\n",
    "    print(f\"ANALYZING MOST CONFIDENT MISCLASSIFICATIONS\")\n",
    "    print(f\"{'='*80}\")\n",
    "\n",
    "    for i in range(0, len(selected_indices), batch_size):\n",
    "        batch_indices = selected_indices[i:i+batch_size]\n",
    "        for idx in batch_indices:\n",
    "            analyze_classification(idx)\n",
    "        \n",
    "        # clearing memory after each batch\n",
    "        torch.cuda.empty_cache()\n",
    "        gc.collect()"
   ]
  },
  {
   "cell_type": "code",
   "execution_count": 60,
   "id": "52cc8f0c-e904-40f4-aea1-05703aaffb51",
   "metadata": {
    "execution": {
     "iopub.execute_input": "2025-05-03T21:48:04.728586Z",
     "iopub.status.busy": "2025-05-03T21:48:04.728091Z",
     "iopub.status.idle": "2025-05-03T21:48:04.736081Z",
     "shell.execute_reply": "2025-05-03T21:48:04.735378Z",
     "shell.execute_reply.started": "2025-05-03T21:48:04.728563Z"
    }
   },
   "outputs": [],
   "source": [
    "def analyze_misclassification_patterns(max_examples=20):\n",
    "    if incorrect_df1.empty:\n",
    "        print(\"No misclassified examples found.\")\n",
    "        return\n",
    "\n",
    "    word_frequency = Counter()\n",
    "\n",
    "    for idx in incorrect_df1.index[:max_examples]:\n",
    "        text = incorrect_df1.loc[idx, 'review']\n",
    "        words = set(text.lower().split())\n",
    "        word_frequency.update(words)\n",
    "\n",
    "    print(\"\\nCommon words in misclassified examples:\")\n",
    "    for word, count in word_frequency.most_common(10):\n",
    "        if len(word) > 2:\n",
    "            print(f\"'{word}': {count}\")\n",
    "\n",
    "    print(\"\\nPotentially problematic words:\")\n",
    "    for word, count in word_frequency.most_common(50):\n",
    "        if len(word) > 3 and count > max_examples / 3:\n",
    "            examples = []\n",
    "            for idx in incorrect_df1.index[:max_examples]:\n",
    "                text = incorrect_df1.loc[idx, 'review'].lower()\n",
    "                if word in text.split():\n",
    "                    true_label = \"Positive\" if incorrect_df1.loc[idx, 'true_label'] == 1 else \"Negative\"\n",
    "                    pred_label = \"Positive\" if incorrect_df1.loc[idx, 'predicted_label'] == 1 else \"Negative\"\n",
    "                    examples.append((true_label, pred_label))\n",
    "                    if len(examples) >= 3:\n",
    "                        break\n",
    "            if examples:\n",
    "                print(f\"'{word}': {count} occurrences - Examples: {examples}\")\n"
   ]
  },
  {
   "cell_type": "code",
   "execution_count": 61,
   "id": "4790432c-cb30-4288-bd89-e9e822464c6a",
   "metadata": {
    "execution": {
     "iopub.execute_input": "2025-05-03T21:48:09.840559Z",
     "iopub.status.busy": "2025-05-03T21:48:09.840278Z",
     "iopub.status.idle": "2025-05-03T21:52:47.274174Z",
     "shell.execute_reply": "2025-05-03T21:52:47.273389Z",
     "shell.execute_reply.started": "2025-05-03T21:48:09.840539Z"
    }
   },
   "outputs": [
    {
     "name": "stdout",
     "output_type": "stream",
     "text": [
      "Starting optimized LIME analysis of misclassified examples...\n",
      "\n",
      "================================================================================\n",
      "ANALYZING THE EXAMPLE #5612\n",
      "================================================================================\n",
      "Index: 5612\n",
      "Review (first 200 chars): (Some spoilers included:)Although, many commentators have called this film surreal, the term fits poorly here. To quote from Encyclopedia Britannica's, surreal means:\"Fantastic or incongruous imagery\"...\n",
      "True Sentiment: Positive\n",
      "Predicted Sentiment: Negative (Confidence: 0.9972)\n",
      "Positive Score: 0.0028\n",
      "--------------------------------------------------------------------------------\n",
      "--------------------------------------------------------------------------------\n",
      "\n",
      "Feature importance for class: Negative\n",
      "Top words driving Negative prediction:\n",
      "  • 'eateries': 0.0244 (increasing probability)\n",
      "  • 'naivete': -0.0242 (decreasing probability)\n",
      "  • 'lad': 0.0213 (increasing probability)\n",
      "  • 'have': 0.0210 (increasing probability)\n",
      "  • 'flaw': 0.0194 (increasing probability)\n",
      "\n",
      "Feature importance for class: Positive\n",
      "Top words driving Positive prediction:\n",
      "  • 'eateries': -0.0244 (decreasing probability)\n",
      "  • 'naivete': 0.0242 (increasing probability)\n",
      "  • 'lad': -0.0213 (decreasing probability)\n",
      "  • 'have': -0.0210 (decreasing probability)\n",
      "  • 'flaw': -0.0194 (decreasing probability)\n",
      "\n",
      "Words in context:\n",
      "  • Context: \"...idated billboards, filling stations, greasy-spoon **eateries**, cheap hotels, and their lowlife habitues along c...\"\n",
      "  • Context: \"...ue could only reveal, in direct proportion, one's **naivete** regarding the speech patterns of the rising Ameri...\"\n",
      "  • Context: \"...s might read James Kincaid; but if you asked said **lad** how he were incongruous behind the wheel of a spo...\"\n",
      "  • Context: \"...me spoilers included:)Although, many commentators **have** called this film surreal, the term fits poorly he...\"\n",
      "  • Context: \"...re unfair to tax Motorama in particular with this **flaw**, any plausible suspension of disbelief having fal...\"\n",
      "Completed batch 1/3\n",
      "\n",
      "================================================================================\n",
      "ANALYZING THE EXAMPLE #19975\n",
      "================================================================================\n",
      "Index: 19975\n",
      "Review (first 200 chars): This could have been the best game ever!! But the game makers just screwed up after 3 assassinations and the ending!! This is a combination of Prince Of Persia, Hit-man, GTA and Age Of Empires II (Sal...\n",
      "True Sentiment: Negative\n",
      "Predicted Sentiment: Positive (Confidence: 0.9730)\n",
      "Positive Score: 0.9730\n",
      "--------------------------------------------------------------------------------\n",
      "--------------------------------------------------------------------------------\n",
      "\n",
      "Feature importance for class: Negative\n",
      "Top words driving Negative prediction:\n",
      "  • 'the': -0.2017 (decreasing probability)\n",
      "  • 'greatest': -0.1767 (decreasing probability)\n",
      "  • 'horrible': 0.1663 (increasing probability)\n",
      "  • 'best': -0.1211 (decreasing probability)\n",
      "  • 'above': -0.1008 (decreasing probability)\n",
      "\n",
      "Feature importance for class: Positive\n",
      "Top words driving Positive prediction:\n",
      "  • 'the': 0.2017 (increasing probability)\n",
      "  • 'greatest': 0.1767 (increasing probability)\n",
      "  • 'horrible': -0.1663 (decreasing probability)\n",
      "  • 'best': 0.1211 (increasing probability)\n",
      "  • 'above': 0.1008 (increasing probability)\n",
      "\n",
      "Words in context:\n",
      "  • Context: \"...This could have been **the** best game ever!! But **the** game makers just screwed...\"\n",
      "  • Context: \"...s mentioned above are considered to be one of the **greatest** games ever made.You combine the four and you get ...\"\n",
      "  • Context: \"....I have played this on a PC and the PC version is **horrible** with glitches and the stupid side missions are se...\"\n",
      "  • Context: \"...This could have been the **best** game ever!! But the game makers just screwed up a...\"\n",
      "  • Context: \"...pires II (Saladin).Yes these four games mentioned **above** are considered to be one of the greatest games ev...\"\n",
      "Completed batch 2/3\n",
      "\n",
      "================================================================================\n",
      "ANALYZING THE EXAMPLE #22873\n",
      "================================================================================\n",
      "Index: 22873\n",
      "Review (first 200 chars): Rare and auspicious are the moments in film-making when greatness stands as a defining monument for the rest of the industry to measure themselves against and for us to immerse in that glorious moment...\n",
      "True Sentiment: Negative\n",
      "Predicted Sentiment: Positive (Confidence: 0.9960)\n",
      "Positive Score: 0.9960\n",
      "--------------------------------------------------------------------------------\n",
      "--------------------------------------------------------------------------------\n",
      "\n",
      "Feature importance for class: Negative\n",
      "Top words driving Negative prediction:\n",
      "  • 'love': -0.1379 (decreasing probability)\n",
      "  • 'this': -0.0986 (decreasing probability)\n",
      "  • 'extraordinary': -0.0959 (decreasing probability)\n",
      "  • 'greatness': -0.0812 (decreasing probability)\n",
      "  • 'atrocities': -0.0780 (decreasing probability)\n",
      "\n",
      "Feature importance for class: Positive\n",
      "Top words driving Positive prediction:\n",
      "  • 'love': 0.1379 (increasing probability)\n",
      "  • 'this': 0.0986 (increasing probability)\n",
      "  • 'extraordinary': 0.0959 (increasing probability)\n",
      "  • 'greatness': 0.0812 (increasing probability)\n",
      "  • 'atrocities': 0.0780 (increasing probability)\n",
      "\n",
      "Words in context:\n",
      "  • Context: \"...in even the most seasoned of Shakespearean/action/**love** story connoisseurs.I cannot begin to imagine wher...\"\n",
      "  • Context: \"...ere has all the originality gone?\" It is here, as **this** story and it's cast sashay through a plot and sto...\"\n",
      "  • Context: \"...egin to imagine where the writers dreamed up this **extraordinary** tale. Where do geniuses get this kind of inspirat...\"\n",
      "  • Context: \"...nd auspicious are the moments in film-making when **greatness** stands as a defining monument for the rest of the...\"\n",
      "  • Context: \"...to a cause that will put a stop to these kinds of **atrocities** that, as of late, seem to be running amuck at box...\"\n",
      "Completed batch 3/3\n",
      "\n",
      "Analyzing patterns in misclassifications...\n",
      "\n",
      "Common words in misclassified examples:\n",
      "'the': 20\n",
      "'and': 18\n",
      "'that': 18\n",
      "'this': 18\n",
      "\n",
      "Potentially problematic words:\n",
      "'that': 18 occurrences - Examples: [('Negative', 'Positive'), ('Positive', 'Negative'), ('Positive', 'Negative')]\n",
      "'this': 18 occurrences - Examples: [('Negative', 'Positive'), ('Positive', 'Negative'), ('Positive', 'Negative')]\n",
      "'have': 15 occurrences - Examples: [('Positive', 'Negative'), ('Positive', 'Negative'), ('Positive', 'Negative')]\n",
      "'with': 12 occurrences - Examples: [('Positive', 'Negative'), ('Positive', 'Negative'), ('Negative', 'Positive')]\n",
      "'from': 12 occurrences - Examples: [('Positive', 'Negative'), ('Positive', 'Negative'), ('Negative', 'Positive')]\n",
      "'film': 10 occurrences - Examples: [('Negative', 'Positive'), ('Positive', 'Negative'), ('Positive', 'Negative')]\n",
      "'more': 10 occurrences - Examples: [('Positive', 'Negative'), ('Negative', 'Positive'), ('Negative', 'Positive')]\n",
      "'movie': 10 occurrences - Examples: [('Positive', 'Negative'), ('Positive', 'Negative'), ('Negative', 'Positive')]\n",
      "'when': 9 occurrences - Examples: [('Negative', 'Positive'), ('Positive', 'Negative'), ('Positive', 'Negative')]\n",
      "'like': 8 occurrences - Examples: [('Negative', 'Positive'), ('Positive', 'Negative'), ('Positive', 'Negative')]\n",
      "'people': 8 occurrences - Examples: [('Positive', 'Negative'), ('Positive', 'Negative'), ('Negative', 'Positive')]\n",
      "'what': 8 occurrences - Examples: [('Positive', 'Negative'), ('Positive', 'Negative'), ('Negative', 'Positive')]\n",
      "'don't': 7 occurrences - Examples: [('Negative', 'Positive'), ('Positive', 'Negative'), ('Negative', 'Positive')]\n",
      "'were': 7 occurrences - Examples: [('Negative', 'Positive'), ('Positive', 'Negative'), ('Negative', 'Positive')]\n",
      "'these': 7 occurrences - Examples: [('Positive', 'Negative'), ('Positive', 'Negative'), ('Negative', 'Positive')]\n",
      "\n",
      "Analyzing the most confident misclassifications...\n",
      "\n",
      "================================================================================\n",
      "ANALYZING MOST CONFIDENT MISCLASSIFICATIONS\n",
      "================================================================================\n",
      "\n",
      "================================================================================\n",
      "ANALYZING THE EXAMPLE #24474\n",
      "================================================================================\n",
      "Index: 24474\n",
      "Review (first 200 chars): Lois Weber's film \"Hypocrites\" was and still kind of is a very bold and daring film. I enjoyed it and was very impressed by the filming and story of it. The priest sees the hypocrisy of the people in ...\n",
      "True Sentiment: Negative\n",
      "Predicted Sentiment: Positive (Confidence: 0.9983)\n",
      "Positive Score: 0.9983\n",
      "--------------------------------------------------------------------------------\n",
      "--------------------------------------------------------------------------------\n",
      "\n",
      "Feature importance for class: Negative\n",
      "Top words driving Negative prediction:\n",
      "  • 'tremendous': -0.0083 (decreasing probability)\n",
      "  • 'across': -0.0071 (decreasing probability)\n",
      "  • 'fitting': -0.0064 (decreasing probability)\n",
      "  • 'creativity': -0.0061 (decreasing probability)\n",
      "  • 'kind': -0.0060 (decreasing probability)\n",
      "\n",
      "Feature importance for class: Positive\n",
      "Top words driving Positive prediction:\n",
      "  • 'tremendous': 0.0083 (increasing probability)\n",
      "  • 'across': 0.0071 (increasing probability)\n",
      "  • 'fitting': 0.0064 (increasing probability)\n",
      "  • 'creativity': 0.0061 (increasing probability)\n",
      "  • 'kind': 0.0060 (increasing probability)\n",
      "\n",
      "Words in context:\n",
      "  • Context: \"... message across to its audience. Lois Weber has a **tremendous** way of capturing her spectators' attention with h...\"\n",
      "  • Context: \"...does a very good job of getting the moral message **across** to its audience. Lois Weber has a tremendous way ...\"\n",
      "  • Context: \"... piano throughout this film is very beautiful and **fitting** with the whole theme....\"\n",
      "  • Context: \"...woman to symbolize the naked truth shows a lot of **creativity** and art. Showing the different sins of the people...\"\n",
      "  • Context: \"...Lois Weber's film \"Hypocrites\" was and still **kind** of is a very bold and daring film. I enjoyed it a...\"\n",
      "\n",
      "================================================================================\n",
      "ANALYZING THE EXAMPLE #17016\n",
      "================================================================================\n",
      "Index: 17016\n",
      "Review (first 200 chars): I really liked this quirky movie. The characters are not the bland beautiful people that show up in so many movies and on TV. It has a realistic edge, with a captivating story line. The main title seq...\n",
      "True Sentiment: Negative\n",
      "Predicted Sentiment: Positive (Confidence: 0.9983)\n",
      "Positive Score: 0.9983\n",
      "--------------------------------------------------------------------------------\n",
      "--------------------------------------------------------------------------------\n",
      "\n",
      "Feature importance for class: Negative\n",
      "Top words driving Negative prediction:\n",
      "  • 'fun': -0.0191 (decreasing probability)\n",
      "  • 'so': -0.0158 (decreasing probability)\n",
      "  • 'liked': -0.0156 (decreasing probability)\n",
      "  • 'quirky': -0.0152 (decreasing probability)\n",
      "  • 'story': -0.0145 (decreasing probability)\n",
      "\n",
      "Feature importance for class: Positive\n",
      "Top words driving Positive prediction:\n",
      "  • 'fun': 0.0191 (increasing probability)\n",
      "  • 'so': 0.0158 (increasing probability)\n",
      "  • 'liked': 0.0156 (increasing probability)\n",
      "  • 'quirky': 0.0152 (increasing probability)\n",
      "  • 'story': 0.0145 (increasing probability)\n",
      "\n",
      "Words in context:\n",
      "  • Context: \"...e. The main title sequence alone makes this movie **fun** to watch....\"\n",
      "  • Context: \"...re not the bland beautiful people that show up in **so** many movies and on TV. It has a realistic edge, w...\"\n",
      "  • Context: \"...I really **liked** this quirky movie. The characters are not the bla...\"\n",
      "  • Context: \"...I really liked this **quirky** movie. The characters are not the bland beautiful...\"\n",
      "  • Context: \"...n TV. It has a realistic edge, with a captivating **story** line. The main title sequence alone makes this mo...\"\n",
      "\n",
      "================================================================================\n",
      "ANALYZING THE EXAMPLE #14867\n",
      "================================================================================\n",
      "Index: 14867\n",
      "Review (first 200 chars): This movie was pure genius. John Waters is brilliant. It is hilarious and I am not sick of it even after seeing it about 20 times since I bought it a few months ago. The acting is great, although Rick...\n",
      "True Sentiment: Negative\n",
      "Predicted Sentiment: Positive (Confidence: 0.9983)\n",
      "Positive Score: 0.9983\n",
      "--------------------------------------------------------------------------------\n",
      "--------------------------------------------------------------------------------\n",
      "\n",
      "Feature importance for class: Negative\n",
      "Top words driving Negative prediction:\n",
      "  • 'hilarious': -0.0084 (decreasing probability)\n",
      "  • 'favorite': -0.0079 (decreasing probability)\n",
      "  • 'great': -0.0073 (decreasing probability)\n",
      "  • 'genius': -0.0071 (decreasing probability)\n",
      "  • 'magnificent': -0.0067 (decreasing probability)\n",
      "\n",
      "Feature importance for class: Positive\n",
      "Top words driving Positive prediction:\n",
      "  • 'hilarious': 0.0084 (increasing probability)\n",
      "  • 'favorite': 0.0079 (increasing probability)\n",
      "  • 'great': 0.0073 (increasing probability)\n",
      "  • 'genius': 0.0071 (increasing probability)\n",
      "  • 'magnificent': 0.0067 (increasing probability)\n",
      "\n",
      "Words in context:\n",
      "  • Context: \"... was pure genius. John Waters is brilliant. It is **hilarious** and I am not sick of it even after seeing it abou...\"\n",
      "  • Context: \"...eing most of Johnny's movies, this is probably my **favorite**. I give it 9.5/10. Rent it today!...\"\n",
      "  • Context: \"...since I bought it a few months ago. The acting is **great**, although Ricki Lake could have been better. And ...\"\n",
      "  • Context: \"...This movie was pure **genius**. John Waters is brilliant. It is hilarious and I ...\"\n",
      "  • Context: \"...i Lake could have been better. And Johnny Depp is **magnificent**. He is such a beautiful man and a very talented a...\"\n",
      "\n",
      "Saved 6 explanations to cache\n"
     ]
    }
   ],
   "source": [
    "# Finally running the analysis\n",
    "print(\"Starting optimized LIME analysis of misclassified examples...\")\n",
    "analyze_misclassifications_batch(3, batch_size=1)  # analyzing 3 random misclassifications, 1 at a time\n",
    "\n",
    "print(\"\\nAnalyzing patterns in misclassifications...\")\n",
    "analyze_misclassification_patterns(20)\n",
    "\n",
    "print(\"\\nAnalyzing the most confident misclassifications...\")\n",
    "analyze_confident_misclassifications(3, batch_size=1)  # analyzing 3 most confident misclassifications, 1 at a time\n",
    "\n",
    "# Saving final cache\n",
    "joblib.dump(lime_cache, lime_cache_file)\n",
    "print(f\"\\nSaved {len(lime_cache)} explanations to cache\")"
   ]
  },
  {
   "cell_type": "markdown",
   "id": "a2d87940-4520-4f59-9fb2-d9e89074f805",
   "metadata": {},
   "source": [
    "## Fine-tuning our DistilBERT model with a mitigated version of our data"
   ]
  },
  {
   "cell_type": "code",
   "execution_count": 62,
   "id": "2f007c19-15d7-4e5a-8f77-9edf1d73f7be",
   "metadata": {
    "execution": {
     "iopub.execute_input": "2025-05-03T21:54:58.332924Z",
     "iopub.status.busy": "2025-05-03T21:54:58.332635Z",
     "iopub.status.idle": "2025-05-03T21:55:05.284139Z",
     "shell.execute_reply": "2025-05-03T21:55:05.283338Z",
     "shell.execute_reply.started": "2025-05-03T21:54:58.332904Z"
    }
   },
   "outputs": [
    {
     "data": {
      "application/vnd.jupyter.widget-view+json": {
       "model_id": "4220b8cfa57b4a79b32ffb129b19f8f8",
       "version_major": 2,
       "version_minor": 0
      },
      "text/plain": [
       "Map:   0%|          | 0/22500 [00:00<?, ? examples/s]"
      ]
     },
     "metadata": {},
     "output_type": "display_data"
    },
    {
     "data": {
      "application/vnd.jupyter.widget-view+json": {
       "model_id": "3993e2b5068a4b52b3c2e9b8d04b1b13",
       "version_major": 2,
       "version_minor": 0
      },
      "text/plain": [
       "Map:   0%|          | 0/2500 [00:00<?, ? examples/s]"
      ]
     },
     "metadata": {},
     "output_type": "display_data"
    },
    {
     "data": {
      "application/vnd.jupyter.widget-view+json": {
       "model_id": "773e0c2287fe437eb8da1403fee94666",
       "version_major": 2,
       "version_minor": 0
      },
      "text/plain": [
       "Map:   0%|          | 0/25000 [00:00<?, ? examples/s]"
      ]
     },
     "metadata": {},
     "output_type": "display_data"
    }
   ],
   "source": [
    "# Preparing the data : mitigated version\n",
    "# Following the LIME output, we'll try to soften strong words manually\n",
    "\n",
    "def soften_sentiment(example):\n",
    "    text = example[\"review\"]\n",
    "    softened = text\n",
    "    strong_words = {\n",
    "    # Positive → Neutral\n",
    "    \"masterpiece\": \"film\",\n",
    "    \"excellent\": \"good\",\n",
    "    \"great\": \"nice\",\n",
    "    \"amazing\": \"decent\",\n",
    "    \"incredible\": \"solid\",\n",
    "    \"fantastic\": \"well-done\",\n",
    "    \"outstanding\": \"notable\",\n",
    "    \"brilliant\": \"smart\",\n",
    "    \"phenomenal\": \"memorable\",\n",
    "    \"superb\": \"respectable\",\n",
    "    \"wonderful\": \"pleasant\",\n",
    "    \"flawless\": \"very clean\",\n",
    "    \"perfect\": \"well-executed\",\n",
    "    \"best\": \"not bad\",\n",
    "    \"terrific\": \"good\",\n",
    "    \"loved\": \"liked\",\n",
    "    \"love\": \"appreciate\",\n",
    "    \"awesome\": \"pretty good\",\n",
    "    \"must-watch\": \"worth checking out\",\n",
    "    \"beautiful\": \"visually appealing\",\n",
    "    \"touching\": \"emotionally engaging\",\n",
    "    \"heartwarming\": \"pleasant\",\n",
    "    \"enjoyed\": \"found interesting\",\n",
    "    \"delightful\": \"nice\",\n",
    "    \"spectacular\": \"visually impressive\",\n",
    "\n",
    "    # Negative → Neutral\n",
    "    \"terrible\": \"not good\",\n",
    "    \"awful\": \"subpar\",\n",
    "    \"horrible\": \"bad\",\n",
    "    \"boring\": \"slow\",\n",
    "    \"worst\": \"underwhelming\",\n",
    "    \"disgusting\": \"unpleasant\",\n",
    "    \"dreadful\": \"hard to watch\",\n",
    "    \"pathetic\": \"weak\",\n",
    "    \"hate\": \"dislike\",\n",
    "    \"hated\": \"didn't like\",\n",
    "    \"garbage\": \"poorly made\",\n",
    "    \"trash\": \"low quality\",\n",
    "    \"painful\": \"uncomfortable\",\n",
    "    \"unwatchable\": \"difficult to follow\",\n",
    "    \"nonsense\": \"confusing\",\n",
    "    \"cringe\": \"awkward\",\n",
    "    \"annoying\": \"irritating\",\n",
    "    \"mess\": \"disorganized\",\n",
    "    \"stupid\": \"not smart\",\n",
    "    \"bad\": \"not good\",\n",
    "    \"lame\": \"unimpressive\",\n",
    "    \"dull\": \"unexciting\",\n",
    "    \"forgettable\": \"not memorable\",\n",
    "    \"pointless\": \"lacking purpose\",\n",
    "    \"disappointing\": \"did not meet expectations\"\n",
    "}\n",
    "    for word, replacement in strong_words.items():\n",
    "        softened = softened.replace(word, replacement)\n",
    "    return {\"review_soft\": softened, \"review\": text} # the 'review_soft' column will be used instead to train and evaluate the model\n",
    "    \n",
    "train_dataset = train_dataset.map(soften_sentiment)\n",
    "eval_dataset = eval_dataset.map(soften_sentiment)\n",
    "test_dataset = test_dataset.map(soften_sentiment) "
   ]
  },
  {
   "cell_type": "code",
   "execution_count": 64,
   "id": "3994cd06-40c3-4c3e-bb99-563e5d4fe5b6",
   "metadata": {
    "execution": {
     "iopub.execute_input": "2025-05-03T21:57:10.867609Z",
     "iopub.status.busy": "2025-05-03T21:57:10.867044Z",
     "iopub.status.idle": "2025-05-03T21:57:11.701112Z",
     "shell.execute_reply": "2025-05-03T21:57:11.700320Z",
     "shell.execute_reply.started": "2025-05-03T21:57:10.867585Z"
    }
   },
   "outputs": [
    {
     "name": "stderr",
     "output_type": "stream",
     "text": [
      "Some weights of DistilBertForSequenceClassification were not initialized from the model checkpoint at distilbert-base-uncased and are newly initialized: ['classifier.bias', 'classifier.weight', 'pre_classifier.bias', 'pre_classifier.weight']\n",
      "You should probably TRAIN this model on a down-stream task to be able to use it for predictions and inference.\n"
     ]
    }
   ],
   "source": [
    "tokenizer = DistilBertTokenizer.from_pretrained(\"distilbert-base-uncased\")\n",
    "model = DistilBertForSequenceClassification.from_pretrained(\"distilbert-base-uncased\", num_labels=2)\n",
    "\n",
    "device = torch.device(\"cuda\" if torch.cuda.is_available() else \"cpu\")\n",
    "model = model.to(device)"
   ]
  },
  {
   "cell_type": "code",
   "execution_count": 65,
   "id": "7eee9615-ab48-4c2f-878b-f305de0d10a7",
   "metadata": {
    "execution": {
     "iopub.execute_input": "2025-05-03T21:57:17.836721Z",
     "iopub.status.busy": "2025-05-03T21:57:17.836405Z",
     "iopub.status.idle": "2025-05-03T22:02:44.326348Z",
     "shell.execute_reply": "2025-05-03T22:02:44.325787Z",
     "shell.execute_reply.started": "2025-05-03T21:57:17.836702Z"
    }
   },
   "outputs": [
    {
     "data": {
      "application/vnd.jupyter.widget-view+json": {
       "model_id": "4c5b5d502a4c4872976e432b5e66a468",
       "version_major": 2,
       "version_minor": 0
      },
      "text/plain": [
       "Map:   0%|          | 0/22500 [00:00<?, ? examples/s]"
      ]
     },
     "metadata": {},
     "output_type": "display_data"
    },
    {
     "data": {
      "application/vnd.jupyter.widget-view+json": {
       "model_id": "ab2dab9fd3e84f12928d0405098f002e",
       "version_major": 2,
       "version_minor": 0
      },
      "text/plain": [
       "Map:   0%|          | 0/2500 [00:00<?, ? examples/s]"
      ]
     },
     "metadata": {},
     "output_type": "display_data"
    },
    {
     "data": {
      "application/vnd.jupyter.widget-view+json": {
       "model_id": "a33539c0c8ad48fe81bcb959da769540",
       "version_major": 2,
       "version_minor": 0
      },
      "text/plain": [
       "Map:   0%|          | 0/25000 [00:00<?, ? examples/s]"
      ]
     },
     "metadata": {},
     "output_type": "display_data"
    }
   ],
   "source": [
    "# Tokenization using DistilBERT, with our function, but changing to review_soft column\n",
    "train_tokenized = train_dataset.map(tokenize, batched=True, fn_kwargs={\"type_review\": \"review_soft\"})\n",
    "eval_tokenized = eval_dataset.map(tokenize, batched=True, fn_kwargs={\"type_review\": \"review_soft\"})\n",
    "test_tokenized = test_dataset.map(tokenize, batched=True, fn_kwargs={\"type_review\": \"review_soft\"})"
   ]
  },
  {
   "cell_type": "code",
   "execution_count": 66,
   "id": "bf4b4a10-726b-48c5-9257-9f762df8850a",
   "metadata": {
    "execution": {
     "iopub.execute_input": "2025-05-03T22:02:50.917220Z",
     "iopub.status.busy": "2025-05-03T22:02:50.916526Z",
     "iopub.status.idle": "2025-05-03T22:02:50.923202Z",
     "shell.execute_reply": "2025-05-03T22:02:50.922676Z",
     "shell.execute_reply.started": "2025-05-03T22:02:50.917196Z"
    }
   },
   "outputs": [],
   "source": [
    "# Setting the format for PyTorch\n",
    "train_tokenized.set_format(\"torch\", columns=[\"input_ids\", \"attention_mask\", \"label\", \"num_tokens\"])\n",
    "eval_tokenized.set_format(\"torch\", columns=[\"input_ids\", \"attention_mask\", \"label\", \"num_tokens\"])\n",
    "test_tokenized.set_format(\"torch\", columns=[\"input_ids\", \"attention_mask\", \"label\", \"num_tokens\"])"
   ]
  },
  {
   "cell_type": "code",
   "execution_count": 67,
   "id": "2a9d1451-81ca-4c22-a0d6-835df59f112d",
   "metadata": {
    "execution": {
     "iopub.execute_input": "2025-05-03T22:03:12.741079Z",
     "iopub.status.busy": "2025-05-03T22:03:12.740338Z",
     "iopub.status.idle": "2025-05-03T22:03:12.752999Z",
     "shell.execute_reply": "2025-05-03T22:03:12.752345Z",
     "shell.execute_reply.started": "2025-05-03T22:03:12.741055Z"
    }
   },
   "outputs": [],
   "source": [
    "# Trainer initialization (same arguments as before)\n",
    "trainer = Trainer(\n",
    "    model=model,\n",
    "    args=training_args,\n",
    "    train_dataset=train_tokenized,\n",
    "    eval_dataset=eval_tokenized,  \n",
    "    compute_metrics=compute_metrics) "
   ]
  },
  {
   "cell_type": "code",
   "execution_count": 68,
   "id": "d006788a-5b82-45bc-9ad6-81b9232cf2e4",
   "metadata": {
    "execution": {
     "iopub.execute_input": "2025-05-03T22:03:18.631868Z",
     "iopub.status.busy": "2025-05-03T22:03:18.631587Z",
     "iopub.status.idle": "2025-05-03T22:28:44.422872Z",
     "shell.execute_reply": "2025-05-03T22:28:44.422311Z",
     "shell.execute_reply.started": "2025-05-03T22:03:18.631847Z"
    }
   },
   "outputs": [
    {
     "name": "stderr",
     "output_type": "stream",
     "text": [
      "\u001b[34m\u001b[1mwandb\u001b[0m: \u001b[33mWARNING\u001b[0m Calling wandb.login() after wandb.init() has no effect.\n"
     ]
    },
    {
     "data": {
      "text/html": [
       "\n",
       "    <div>\n",
       "      \n",
       "      <progress value='2814' max='2814' style='width:300px; height:20px; vertical-align: middle;'></progress>\n",
       "      [2814/2814 25:24, Epoch 2/2]\n",
       "    </div>\n",
       "    <table border=\"1\" class=\"dataframe\">\n",
       "  <thead>\n",
       " <tr style=\"text-align: left;\">\n",
       "      <th>Step</th>\n",
       "      <th>Training Loss</th>\n",
       "      <th>Validation Loss</th>\n",
       "      <th>Accuracy</th>\n",
       "    </tr>\n",
       "  </thead>\n",
       "  <tbody>\n",
       "    <tr>\n",
       "      <td>500</td>\n",
       "      <td>0.340500</td>\n",
       "      <td>0.250676</td>\n",
       "      <td>0.902800</td>\n",
       "    </tr>\n",
       "    <tr>\n",
       "      <td>1000</td>\n",
       "      <td>0.260200</td>\n",
       "      <td>0.204992</td>\n",
       "      <td>0.918000</td>\n",
       "    </tr>\n",
       "    <tr>\n",
       "      <td>1500</td>\n",
       "      <td>0.212400</td>\n",
       "      <td>0.329894</td>\n",
       "      <td>0.908800</td>\n",
       "    </tr>\n",
       "    <tr>\n",
       "      <td>2000</td>\n",
       "      <td>0.136900</td>\n",
       "      <td>0.259648</td>\n",
       "      <td>0.924800</td>\n",
       "    </tr>\n",
       "    <tr>\n",
       "      <td>2500</td>\n",
       "      <td>0.128500</td>\n",
       "      <td>0.241319</td>\n",
       "      <td>0.926800</td>\n",
       "    </tr>\n",
       "  </tbody>\n",
       "</table><p>"
      ],
      "text/plain": [
       "<IPython.core.display.HTML object>"
      ]
     },
     "metadata": {},
     "output_type": "display_data"
    },
    {
     "data": {
      "text/plain": [
       "TrainOutput(global_step=2814, training_loss=0.20482075900665478, metrics={'train_runtime': 1525.2931, 'train_samples_per_second': 29.503, 'train_steps_per_second': 1.845, 'total_flos': 5961032939520000.0, 'train_loss': 0.20482075900665478, 'epoch': 2.0})"
      ]
     },
     "execution_count": 68,
     "metadata": {},
     "output_type": "execute_result"
    }
   ],
   "source": [
    "# Fine-Tuning the DistilBERT\n",
    "wandb.login(key=\"8fa5eaba06a066d5e025308e320f58cdf64313d4\")\n",
    "trainer.train()"
   ]
  },
  {
   "cell_type": "code",
   "execution_count": 69,
   "id": "e78803ea-2da3-4c72-ae34-9af0d35012b9",
   "metadata": {
    "execution": {
     "iopub.execute_input": "2025-05-03T22:29:07.415959Z",
     "iopub.status.busy": "2025-05-03T22:29:07.415683Z",
     "iopub.status.idle": "2025-05-03T22:29:08.007946Z",
     "shell.execute_reply": "2025-05-03T22:29:08.007117Z",
     "shell.execute_reply.started": "2025-05-03T22:29:07.415940Z"
    }
   },
   "outputs": [
    {
     "name": "stdout",
     "output_type": "stream",
     "text": [
      "Model saved to ./imdb_sentiment_model_2\n"
     ]
    }
   ],
   "source": [
    "# Saving the model after training\n",
    "model_save_path = \"./imdb_sentiment_model_2\"\n",
    "trainer.save_model(model_save_path)\n",
    "tokenizer.save_pretrained(model_save_path)\n",
    "\n",
    "# Saving the training arguments using the to_json_string method\n",
    "import json\n",
    "with open(os.path.join(model_save_path, \"training_args.json\"), 'w') as f:\n",
    "    json.dump(training_args.to_dict(), f)\n",
    "\n",
    "print(f\"Model saved to {model_save_path}\")"
   ]
  },
  {
   "cell_type": "code",
   "execution_count": 70,
   "id": "b1d622b3-d9f6-45dd-af96-89c7750b969a",
   "metadata": {
    "execution": {
     "iopub.execute_input": "2025-05-03T22:40:25.427239Z",
     "iopub.status.busy": "2025-05-03T22:40:25.426420Z",
     "iopub.status.idle": "2025-05-03T22:43:43.289194Z",
     "shell.execute_reply": "2025-05-03T22:43:43.288434Z",
     "shell.execute_reply.started": "2025-05-03T22:40:25.427214Z"
    }
   },
   "outputs": [
    {
     "name": "stderr",
     "output_type": "stream",
     "text": [
      "100%|██████████| 1563/1563 [03:15<00:00,  7.98it/s]\n"
     ]
    },
    {
     "name": "stdout",
     "output_type": "stream",
     "text": [
      "Predictions and scores saved.\n"
     ]
    }
   ],
   "source": [
    "# Creating the final scored dataframe\n",
    "all_preds, all_scores, all_token_counts = test_predictions(model, test_tokenized)\n",
    "\n",
    "all_texts_soft = test_dataset[\"review_soft\"]\n",
    "\n",
    "scored_df2 = pd.DataFrame({\n",
    "    \"review\": all_texts,\n",
    "    \"review_soft\" : all_texts_soft,\n",
    "    \"true_label\": all_true_labels,\n",
    "    \"rating\": all_ratings,\n",
    "    \"predicted_label\": all_preds,\n",
    "    \"positive_score\": all_scores,\n",
    "    \"num_tokens\": all_token_counts, \n",
    "    }, index=test_df.index)\n",
    "\n",
    "scored_df2[\"rating\"] = scored_df2[\"rating\"].astype(int)\n",
    "\n",
    "# Adding a 'confidence' column\n",
    "scored_df2[\"confidence\"] = np.where(scored_df2[\"predicted_label\"] == 1, scored_df2[\"positive_score\"], 1 - scored_df2[\"positive_score\"])\n",
    "\n",
    "scored_df2.to_csv('predictions_full_results_2.csv', index=False)\n",
    "\n",
    "np.save(\"preds2.npy\", np.array(all_preds))\n",
    "np.save(\"scores2.npy\", np.array(all_scores))\n",
    "print(f\"Predictions and scores saved.\")"
   ]
  },
  {
   "cell_type": "code",
   "execution_count": 71,
   "id": "94cb42fe-8fe1-4ed5-bcae-dbb43da77014",
   "metadata": {
    "execution": {
     "iopub.execute_input": "2025-05-03T22:44:20.815575Z",
     "iopub.status.busy": "2025-05-03T22:44:20.814969Z",
     "iopub.status.idle": "2025-05-03T22:44:20.830379Z",
     "shell.execute_reply": "2025-05-03T22:44:20.829594Z",
     "shell.execute_reply.started": "2025-05-03T22:44:20.815550Z"
    }
   },
   "outputs": [
    {
     "name": "stdout",
     "output_type": "stream",
     "text": [
      "Accuracy: 0.9318\n",
      "Precision: 0.9243\n",
      "Recall: 0.9407\n",
      "F1 Score: 0.9324\n"
     ]
    }
   ],
   "source": [
    "# Computing metrics\n",
    "accuracy = accuracy_score(scored_df2[\"true_label\"], scored_df2[\"predicted_label\"])\n",
    "precision, recall, f1, _ = precision_recall_fscore_support(scored_df2[\"true_label\"], scored_df2[\"predicted_label\"], average='binary')\n",
    "\n",
    "print(f\"Accuracy: {accuracy:.4f}\")\n",
    "print(f\"Precision: {precision:.4f}\")\n",
    "print(f\"Recall: {recall:.4f}\")\n",
    "print(f\"F1 Score: {f1:.4f}\")"
   ]
  },
  {
   "cell_type": "code",
   "execution_count": 72,
   "id": "f9da7366-7cfc-4c59-96bf-06e406240f03",
   "metadata": {
    "execution": {
     "iopub.execute_input": "2025-05-03T22:53:46.872524Z",
     "iopub.status.busy": "2025-05-03T22:53:46.871758Z",
     "iopub.status.idle": "2025-05-03T22:53:47.029745Z",
     "shell.execute_reply": "2025-05-03T22:53:47.029077Z",
     "shell.execute_reply.started": "2025-05-03T22:53:46.872494Z"
    }
   },
   "outputs": [
    {
     "data": {
      "image/png": "[encoded data removed]",
      "text/plain": [
       "<Figure size 800x600 with 2 Axes>"
      ]
     },
     "metadata": {},
     "output_type": "display_data"
    }
   ],
   "source": [
    "# Creating a confusion matrix\n",
    "cm = confusion_matrix(scored_df2[\"true_label\"], scored_df2[\"predicted_label\"])\n",
    "plt.figure(figsize=(8, 6))\n",
    "sns.heatmap(cm, annot=True, fmt='d', cmap='Blues', annot_kws={\"size\": 19},\n",
    "            xticklabels=['Negative', 'Positive'],\n",
    "            yticklabels=['Negative', 'Positive'])\n",
    "plt.xlabel('Predicted', fontsize=18)\n",
    "plt.ylabel('True', fontsize=18)\n",
    "plt.title('Mitigated', fontsize=20)\n",
    "plt.xticks(fontsize=16)\n",
    "plt.yticks(fontsize=16)\n",
    "plt.show()"
   ]
  },
  {
   "cell_type": "code",
   "execution_count": 73,
   "id": "f185f644-cc85-4546-8dde-48592213bbe6",
   "metadata": {
    "execution": {
     "iopub.execute_input": "2025-05-03T22:54:02.292964Z",
     "iopub.status.busy": "2025-05-03T22:54:02.292680Z",
     "iopub.status.idle": "2025-05-03T22:54:02.324988Z",
     "shell.execute_reply": "2025-05-03T22:54:02.324287Z",
     "shell.execute_reply.started": "2025-05-03T22:54:02.292943Z"
    }
   },
   "outputs": [
    {
     "name": "stdout",
     "output_type": "stream",
     "text": [
      "Index: 888\n",
      "Review (first 200 chars): Easily one of the best Indian films ever. Granted, that's not saying much(I made this conclusion after a whopping 15 minutes of watching). But I can truly say that Fire is also one of the really beaut...\n",
      "True Sentiment: Positive\n",
      "Predicted Sentiment: Positive (Confidence: 0.9974)\n",
      "Positive Score: 0.9974\n",
      "--------------------------------------------------------------------------------\n",
      "Index: 16509\n",
      "Review (first 200 chars): \"The Best Movie of the 90's\" \"The Welsh Trainspotting\"....Aye, right! I went into this movie with pretty high expectations, and it was all downhill from there.This movie was supposed to be this archet...\n",
      "True Sentiment: Negative\n",
      "Predicted Sentiment: Negative (Confidence: 0.9968)\n",
      "Positive Score: 0.0032\n",
      "--------------------------------------------------------------------------------\n",
      "Index: 6443\n",
      "Review (first 200 chars): a great movie, with a rather unclear political message. it´s shot in a theatrical style, i.c. most of the action takes place inside. mayor surov and diana ashcroft seem equally suspicious of each othe...\n",
      "True Sentiment: Positive\n",
      "Predicted Sentiment: Positive (Confidence: 0.9974)\n",
      "Positive Score: 0.9974\n",
      "--------------------------------------------------------------------------------\n",
      "Index: 19059\n",
      "Review (first 200 chars): Pretty bad. This film about a grizzled(and frankly rock stupid) old prospector and his dog'Shep' i.e., Lassie, as well as an annoying kid whose name I can't recall at the moment. At the beginning of t...\n",
      "True Sentiment: Negative\n",
      "Predicted Sentiment: Negative (Confidence: 0.9976)\n",
      "Positive Score: 0.0024\n",
      "--------------------------------------------------------------------------------\n",
      "Index: 4541\n",
      "Review (first 200 chars): After a summer full of retreads and disappointments, Nurse Betty is a breath of fresh air. The film is like no other I have ever seen. Director Neil LaBute proves that he can direct more then disturbi...\n",
      "True Sentiment: Positive\n",
      "Predicted Sentiment: Positive (Confidence: 0.9975)\n",
      "Positive Score: 0.9975\n",
      "--------------------------------------------------------------------------------\n",
      "Index: 1664\n",
      "Review (first 200 chars): Some people drift through life, moving from one thing or one person to the next without batting an eye; others latch on to a cause, another person or a principle and remain adamant, committed to whate...\n",
      "True Sentiment: Positive\n",
      "Predicted Sentiment: Positive (Confidence: 0.9967)\n",
      "Positive Score: 0.9967\n",
      "--------------------------------------------------------------------------------\n",
      "Index: 24281\n",
      "Review (first 200 chars): 'Helen of Troy' follows the story of Helen and the outbreak of the Trojan War. This is more of a love story between Helen and Paris, who is shipwrecked and falls in love with Helen without knowing she...\n",
      "True Sentiment: Negative\n",
      "Predicted Sentiment: Positive (Confidence: 0.9960)\n",
      "Positive Score: 0.9960\n",
      "--------------------------------------------------------------------------------\n",
      "Index: 14701\n",
      "Review (first 200 chars): Barely came trough the whole movie... Acting is bad, dialogs are even worse. Felt kinda st00pid 4 watching it, but it was named the same as one of my favorite games, so I struggled trough. They even s...\n",
      "True Sentiment: Negative\n",
      "Predicted Sentiment: Negative (Confidence: 0.9976)\n",
      "Positive Score: 0.0024\n",
      "--------------------------------------------------------------------------------\n",
      "Index: 19804\n",
      "Review (first 200 chars): I actually saw the movie before I read the book. When I saw the movie I was upset because I wondered why Dean Koontz had made such a bad book/movie. The movie was confusing and didn't have a flow at a...\n",
      "True Sentiment: Negative\n",
      "Predicted Sentiment: Negative (Confidence: 0.9974)\n",
      "Positive Score: 0.0026\n",
      "--------------------------------------------------------------------------------\n",
      "Index: 15411\n",
      "Review (first 200 chars): This film is worth seeing since it is a classic in the sense of being the very first full length film released in the process of three demention. It was not very good in its acting or story plot, but ...\n",
      "True Sentiment: Negative\n",
      "Predicted Sentiment: Positive (Confidence: 0.9959)\n",
      "Positive Score: 0.9959\n",
      "--------------------------------------------------------------------------------\n"
     ]
    }
   ],
   "source": [
    "show_example_predictions(scored_df2, num_examples=10)"
   ]
  },
  {
   "cell_type": "code",
   "execution_count": 75,
   "id": "0581e081-bc3f-4498-918d-b8989dd682a5",
   "metadata": {
    "execution": {
     "iopub.execute_input": "2025-05-03T22:55:59.168371Z",
     "iopub.status.busy": "2025-05-03T22:55:59.167809Z",
     "iopub.status.idle": "2025-05-03T22:55:59.229213Z",
     "shell.execute_reply": "2025-05-03T22:55:59.228482Z",
     "shell.execute_reply.started": "2025-05-03T22:55:59.168349Z"
    }
   },
   "outputs": [
    {
     "name": "stdout",
     "output_type": "stream",
     "text": [
      "Index: 15355\n",
      "Review (first 200 chars): Breaking Dawn starts in a Californian college as Professor Simon (associate producer Joe Morton) tells his students that they have to perform an intensive six week study of a mental patient in Cape St...\n",
      "True Sentiment: Negative\n",
      "Predicted Sentiment: Positive (Confidence: 0.9962)\n",
      "Positive Score: 0.9962\n",
      "--------------------------------------------------------------------------------\n",
      "Index: 16721\n",
      "Review (first 200 chars): the usual disclaimer - I do not give 1 star ratings to movies which are harmless, bad, low budget and silly, although they may deserve it. These films are often funny, and get rated 2-4 based sheerly ...\n",
      "True Sentiment: Negative\n",
      "Predicted Sentiment: Positive (Confidence: 0.9424)\n",
      "Positive Score: 0.9424\n",
      "--------------------------------------------------------------------------------\n",
      "Index: 4198\n",
      "Review (first 200 chars): Film about the failure of government and the selfishness of adults. Overwhelming impossibility of dealing with life and the means the children go to to try to achieve living. Only living. Staying aliv...\n",
      "True Sentiment: Positive\n",
      "Predicted Sentiment: Negative (Confidence: 0.9929)\n",
      "Positive Score: 0.0071\n",
      "--------------------------------------------------------------------------------\n",
      "Index: 24710\n",
      "Review (first 200 chars): This is a stupid movie. When I saw it in a movie theater more than half the audience left before it was half over. I stayed to the bitter end. To show fortitude? I caught it again on television and it...\n",
      "True Sentiment: Negative\n",
      "Predicted Sentiment: Positive (Confidence: 0.7418)\n",
      "Positive Score: 0.7418\n",
      "--------------------------------------------------------------------------------\n",
      "Index: 24474\n",
      "Review (first 200 chars): Lois Weber's film \"Hypocrites\" was and still kind of is a very bold and daring film. I enjoyed it and was very impressed by the filming and story of it. The priest sees the hypocrisy of the people in ...\n",
      "True Sentiment: Negative\n",
      "Predicted Sentiment: Positive (Confidence: 0.9978)\n",
      "Positive Score: 0.9978\n",
      "--------------------------------------------------------------------------------\n",
      "Index: 14278\n",
      "Review (first 200 chars): First: a warning.I recently saw this movie on DVD in the Universal 'Hitchcock Collection' series. The source print looks to be in immaculate condition, but the image is a bit soft, suggesting it might...\n",
      "True Sentiment: Negative\n",
      "Predicted Sentiment: Positive (Confidence: 0.9498)\n",
      "Positive Score: 0.9498\n",
      "--------------------------------------------------------------------------------\n",
      "Index: 10350\n",
      "Review (first 200 chars): Mary Pickford plays Annie Rooney--the daughter of a cop that lives in the tough part of town. She is a rough and tumble young lady of indeterminate age (somewhere between 12 and 16) who loves to scrap...\n",
      "True Sentiment: Positive\n",
      "Predicted Sentiment: Negative (Confidence: 0.9865)\n",
      "Positive Score: 0.0135\n",
      "--------------------------------------------------------------------------------\n",
      "Index: 16451\n",
      "Review (first 200 chars): Even though this film was nothing special as such, I am drawn to comment on at least one factor that ruled in its favour - that of the lead female performer in the film, Dyan Cannon. In spite of the f...\n",
      "True Sentiment: Negative\n",
      "Predicted Sentiment: Positive (Confidence: 0.9648)\n",
      "Positive Score: 0.9648\n",
      "--------------------------------------------------------------------------------\n",
      "Index: 22600\n",
      "Review (first 200 chars): Though predictable and contrived, not a bad movie. It entertains, which is all Van Damme hopes to do. The omnipresent \"twin\" device is again used (as in a large number of Van Damme's movies) but it is...\n",
      "True Sentiment: Negative\n",
      "Predicted Sentiment: Positive (Confidence: 0.9693)\n",
      "Positive Score: 0.9693\n",
      "--------------------------------------------------------------------------------\n",
      "Index: 7030\n",
      "Review (first 200 chars): In this day and age in which just about every other news story involves discussions of waterboarding, images of Abu Ghraib, or tales of forced detentions at Guantanamo Bay, Gavin Hood's \"Rendition\" is...\n",
      "True Sentiment: Positive\n",
      "Predicted Sentiment: Negative (Confidence: 0.9641)\n",
      "Positive Score: 0.0359\n",
      "--------------------------------------------------------------------------------\n",
      "Index: 19433\n",
      "Review (first 200 chars): When I first became a father about 5.5 years ago, I was prepared for many of the sacrifices I'd have to make. I knew I'd have to change diapers and take them to swimming lessons and attend many a free...\n",
      "True Sentiment: Negative\n",
      "Predicted Sentiment: Positive (Confidence: 0.9917)\n",
      "Positive Score: 0.9917\n",
      "--------------------------------------------------------------------------------\n",
      "Index: 21517\n",
      "Review (first 200 chars): Idea is great, spoiled big time by the judges.Why make fun of people? if what the inventors say is true, and as most of them say, they spent their life saving on the invention, the minimum is to rejec...\n",
      "True Sentiment: Negative\n",
      "Predicted Sentiment: Positive (Confidence: 0.7773)\n",
      "Positive Score: 0.7773\n",
      "--------------------------------------------------------------------------------\n",
      "Index: 7890\n",
      "Review (first 200 chars): Sandra Bullock paints a believable picture as the troubled detective, though seeing her as a cynical man-eating victim-turned-persecutor requires a leap of faith (or two). The two creepy troubled kids...\n",
      "True Sentiment: Positive\n",
      "Predicted Sentiment: Negative (Confidence: 0.9943)\n",
      "Positive Score: 0.0057\n",
      "--------------------------------------------------------------------------------\n",
      "Index: 22451\n",
      "Review (first 200 chars): A college professor is working on creating zombies and, wouldn't you know it, things go horribly wrong. Next thing you know, the whole campus is overrun. Thank goodness there's a pair of uber-commando...\n",
      "True Sentiment: Negative\n",
      "Predicted Sentiment: Positive (Confidence: 0.9823)\n",
      "Positive Score: 0.9823\n",
      "--------------------------------------------------------------------------------\n",
      "Index: 24400\n",
      "Review (first 200 chars): One of the commenter's is wrong. This is not the only Pat Patterson film and he didn't die two years after this was made. He shot a film called the \"Electric Chair\" in Pineville, NC. He shot this a fe...\n",
      "True Sentiment: Negative\n",
      "Predicted Sentiment: Positive (Confidence: 0.9930)\n",
      "Positive Score: 0.9930\n",
      "--------------------------------------------------------------------------------\n",
      "Index: 20020\n",
      "Review (first 200 chars): The acting is excellent in this film, with some great actors. It was fun to see Fred McMurray as a young man. This is not a comedy. It's a drama and the apparently comedic instances are pitiful. This ...\n",
      "True Sentiment: Negative\n",
      "Predicted Sentiment: Positive (Confidence: 0.9889)\n",
      "Positive Score: 0.9889\n",
      "--------------------------------------------------------------------------------\n",
      "Index: 2648\n",
      "Review (first 200 chars): Seriously, I don´t really get why people here are bashing it. I mean,the idea of a killer snowman wreaking havoc on a tropical island paradise is pretty absurd. The good news is, the producers realize...\n",
      "True Sentiment: Positive\n",
      "Predicted Sentiment: Negative (Confidence: 0.9846)\n",
      "Positive Score: 0.0154\n",
      "--------------------------------------------------------------------------------\n",
      "Index: 22859\n",
      "Review (first 200 chars): The movie was a pleasure to watch if you are a fan of the Stooges. The story is told from the point of view of Moe Howard and his relationships with his brothers Shemp and Jerome (Curly) Howard, also ...\n",
      "True Sentiment: Negative\n",
      "Predicted Sentiment: Positive (Confidence: 0.9971)\n",
      "Positive Score: 0.9971\n",
      "--------------------------------------------------------------------------------\n",
      "Index: 1751\n",
      "Review (first 200 chars): Since many other users have already explained and commented the storyline, I won't do it.However, I'd like to restate that Bardem's interpretation is terrific, as also are those of the other actors an...\n",
      "True Sentiment: Positive\n",
      "Predicted Sentiment: Negative (Confidence: 0.9824)\n",
      "Positive Score: 0.0176\n",
      "--------------------------------------------------------------------------------\n",
      "Index: 2376\n",
      "Review (first 200 chars): I agree with all the strenghts mentioned in the other reviews but there are some beats missing here that keep it firmly inside the genre of crime drama or film noir and limit it from being a great dra...\n",
      "True Sentiment: Positive\n",
      "Predicted Sentiment: Negative (Confidence: 0.9773)\n",
      "Positive Score: 0.0227\n",
      "--------------------------------------------------------------------------------\n"
     ]
    }
   ],
   "source": [
    "# Focus on incorrect predictions\n",
    "incorrect_df2 = scored_df2[scored_df2[\"predicted_label\"] != scored_df2[\"true_label\"]]\n",
    "correct_df2 = scored_df2[scored_df2[\"predicted_label\"] == scored_df2[\"true_label\"]]\n",
    "\n",
    "# Showing some examples of incorrect predictions\n",
    "show_example_predictions(incorrect_df2, num_examples = 20)"
   ]
  },
  {
   "cell_type": "code",
   "execution_count": 76,
   "id": "1f4d3f06-3769-4bb5-adba-dfaf66f7d2c6",
   "metadata": {
    "execution": {
     "iopub.execute_input": "2025-05-03T22:56:08.741035Z",
     "iopub.status.busy": "2025-05-03T22:56:08.740345Z",
     "iopub.status.idle": "2025-05-03T22:56:08.902634Z",
     "shell.execute_reply": "2025-05-03T22:56:08.901896Z",
     "shell.execute_reply.started": "2025-05-03T22:56:08.741005Z"
    }
   },
   "outputs": [
    {
     "data": {
      "image/png": "[encoded data removed]",
      "text/plain": [
       "<Figure size 800x600 with 1 Axes>"
      ]
     },
     "metadata": {},
     "output_type": "display_data"
    }
   ],
   "source": [
    "# ROC curve and AUC\n",
    "from sklearn.metrics import roc_curve, auc\n",
    "\n",
    "labels = scored_df2[\"true_label\"].values\n",
    "probs = scored_df2[\"positive_score\"].values\n",
    "\n",
    "fpr, tpr, thresholds = roc_curve(labels, probs)\n",
    "roc_auc = auc(fpr, tpr)\n",
    "\n",
    "plt.figure(figsize=(8, 6))\n",
    "plt.plot(fpr, tpr, color='darkorange', lw=2, label=f'ROC curve (area = {roc_auc:.2f})')\n",
    "plt.plot([0, 1], [0, 1], color='navy', lw=2, linestyle='--')\n",
    "plt.xlim([0.0, 1.0])\n",
    "plt.ylim([0.0, 1.05])\n",
    "plt.xlabel('False Positive Rate')\n",
    "plt.ylabel('True Positive Rate')\n",
    "plt.title('Receiver Operating Characteristic (ROC) Curve')\n",
    "plt.legend(loc=\"lower right\")\n",
    "plt.show()"
   ]
  },
  {
   "cell_type": "markdown",
   "id": "c648fda4-70b9-4e36-9c01-7d3b916f9580",
   "metadata": {},
   "source": [
    "# PART III : The problem of long reviews"
   ]
  },
  {
   "cell_type": "markdown",
   "id": "67e7fc3f-034d-41ef-872e-a1c541f0d627",
   "metadata": {},
   "source": [
    "## Does truncation to the first 512 tokens during tokenization seem to lead to more misclassifications in general ?"
   ]
  },
  {
   "cell_type": "markdown",
   "id": "693224c6-1a2e-4dd2-98f0-96c344a23dc4",
   "metadata": {},
   "source": [
    "We look at the baseline model results."
   ]
  },
  {
   "cell_type": "code",
   "execution_count": 78,
   "id": "a475bc2a-68c9-48ca-9614-c0733223c387",
   "metadata": {
    "execution": {
     "iopub.execute_input": "2025-05-03T22:57:38.077313Z",
     "iopub.status.busy": "2025-05-03T22:57:38.077046Z",
     "iopub.status.idle": "2025-05-03T22:57:38.544569Z",
     "shell.execute_reply": "2025-05-03T22:57:38.543935Z",
     "shell.execute_reply.started": "2025-05-03T22:57:38.077295Z"
    }
   },
   "outputs": [
    {
     "name": "stderr",
     "output_type": "stream",
     "text": [
      "/usr/local/lib/python3.11/dist-packages/seaborn/_oldcore.py:1119: FutureWarning: use_inf_as_na option is deprecated and will be removed in a future version. Convert inf values to NaN before operating instead.\n",
      "  with pd.option_context('mode.use_inf_as_na', True):\n",
      "/usr/local/lib/python3.11/dist-packages/seaborn/_oldcore.py:1119: FutureWarning: use_inf_as_na option is deprecated and will be removed in a future version. Convert inf values to NaN before operating instead.\n",
      "  with pd.option_context('mode.use_inf_as_na', True):\n"
     ]
    },
    {
     "data": {
      "image/png": "[encoded data removed]",
      "text/plain": [
       "<Figure size 1200x600 with 1 Axes>"
      ]
     },
     "metadata": {},
     "output_type": "display_data"
    }
   ],
   "source": [
    "plt.figure(figsize=(12, 6))\n",
    "\n",
    "# Correct tokens distribution\n",
    "sns.histplot(correct_df1[\"num_tokens\"], color='green', label='Correct', kde=True, stat=\"density\", bins=20, alpha=0.6)\n",
    "# Incorrect tokens distribution\n",
    "sns.histplot(incorrect_df1[\"num_tokens\"], color='red', label='Incorrect', kde=True, stat=\"density\", bins=20, alpha=0.6)\n",
    "\n",
    "plt.title(\"Distribution of number of tokens before truncation for correct vs incorrect predictions\")\n",
    "plt.xlabel(\"Number of tokens\")\n",
    "plt.ylabel(\"Number of reviews\")\n",
    "plt.legend(title=\"Prediction status\")\n",
    "plt.show()"
   ]
  },
  {
   "cell_type": "code",
   "execution_count": 86,
   "id": "83b8285b-2e6d-4ea6-9a45-5cc4e4c27220",
   "metadata": {
    "execution": {
     "iopub.execute_input": "2025-05-03T23:17:49.363165Z",
     "iopub.status.busy": "2025-05-03T23:17:49.362505Z",
     "iopub.status.idle": "2025-05-03T23:17:49.374891Z",
     "shell.execute_reply": "2025-05-03T23:17:49.374285Z",
     "shell.execute_reply.started": "2025-05-03T23:17:49.363143Z"
    }
   },
   "outputs": [
    {
     "name": "stdout",
     "output_type": "stream",
     "text": [
      "Proportion of incorrectly classified reviews with over 510 initial tokens: 0.1011\n",
      "Proportion of incorrectly classified reviews with under 510 initial tokens: 0.0639\n"
     ]
    }
   ],
   "source": [
    "# Then we calculate the proportions of incorrectly classified reviews among the truncated or non truncated during tokenization \n",
    "incorrect_over_510_proportion = len(\n",
    "    scored_df1[(scored_df1[\"predicted_label\"] != scored_df1[\"true_label\"]) & (scored_df1[\"num_tokens\"] > 510)]\n",
    ") / len(scored_df1[scored_df1[\"num_tokens\"] > 510])\n",
    "\n",
    "incorrect_under_510_proportion = len(\n",
    "    scored_df1[(scored_df1[\"predicted_label\"] != scored_df1[\"true_label\"]) & (scored_df1[\"num_tokens\"] <= 510)]\n",
    ") / len(scored_df1[scored_df1[\"num_tokens\"] <= 510])\n",
    "\n",
    "# Print the proportions\n",
    "print(f\"Proportion of incorrectly classified reviews with over 510 initial tokens: {incorrect_over_510_proportion:.4f}\")\n",
    "print(f\"Proportion of incorrectly classified reviews with under 510 initial tokens: {incorrect_under_510_proportion:.4f}\")"
   ]
  },
  {
   "cell_type": "markdown",
   "id": "985894e2-eff9-4d72-b88a-b0806b1d48de",
   "metadata": {},
   "source": [
    "## Fine-tuning our DistilBERT model after applying a custom tokenization function to our datasets"
   ]
  },
  {
   "cell_type": "code",
   "execution_count": 87,
   "id": "1f76b55d-04bf-45e9-933b-1df115ae65bf",
   "metadata": {
    "execution": {
     "iopub.execute_input": "2025-05-03T23:19:33.574219Z",
     "iopub.status.busy": "2025-05-03T23:19:33.573529Z",
     "iopub.status.idle": "2025-05-03T23:19:34.745516Z",
     "shell.execute_reply": "2025-05-03T23:19:34.744717Z",
     "shell.execute_reply.started": "2025-05-03T23:19:33.574198Z"
    }
   },
   "outputs": [
    {
     "name": "stderr",
     "output_type": "stream",
     "text": [
      "Some weights of DistilBertForSequenceClassification were not initialized from the model checkpoint at distilbert-base-uncased and are newly initialized: ['classifier.bias', 'classifier.weight', 'pre_classifier.bias', 'pre_classifier.weight']\n",
      "You should probably TRAIN this model on a down-stream task to be able to use it for predictions and inference.\n"
     ]
    }
   ],
   "source": [
    "tokenizer = DistilBertTokenizer.from_pretrained(\"distilbert-base-uncased\")\n",
    "model = DistilBertForSequenceClassification.from_pretrained(\"distilbert-base-uncased\", num_labels=2)\n",
    "\n",
    "device = torch.device(\"cuda\" if torch.cuda.is_available() else \"cpu\")\n",
    "model = model.to(device)"
   ]
  },
  {
   "cell_type": "markdown",
   "id": "ed837279-f414-4c73-9fd2-788d3409c03f",
   "metadata": {},
   "source": [
    "We build a custom tokenisation function following the results of Chi Sun et al. (2020)(https://arxiv.org/pdf/1905.05583) , where the reviews which are tokenized into a number of tokens superior to BERT's (DistilBERT in our case) limit (512, if we account for the two special tokens) are truncated so that only the first 128 and the last 382 tokens are kept, instead of keeping only the first 510 tokens."
   ]
  },
  {
   "cell_type": "code",
   "execution_count": 88,
   "id": "d6b74079-47a5-4da8-b738-89882611fd20",
   "metadata": {
    "execution": {
     "iopub.execute_input": "2025-05-03T23:20:31.686575Z",
     "iopub.status.busy": "2025-05-03T23:20:31.685995Z",
     "iopub.status.idle": "2025-05-03T23:20:31.694326Z",
     "shell.execute_reply": "2025-05-03T23:20:31.693795Z",
     "shell.execute_reply.started": "2025-05-03T23:20:31.686552Z"
    }
   },
   "outputs": [],
   "source": [
    "# Custom tokenization function\n",
    "def tokenize_custom(batch):\n",
    "    # First we tokenize the text without padding or special tokens\n",
    "    tokenized = tokenizer(batch[\"review\"], padding=False, truncation=False, add_special_tokens=False)\n",
    "\n",
    "    # Then we compute the number of tokens for each review before truncation\n",
    "    num_tokens = [len(t) for t in tokenized[\"input_ids\"]]\n",
    "\n",
    "    truncated_input_ids = []\n",
    "    for t in tokenized[\"input_ids\"]:\n",
    "        if len(t) > 510:\n",
    "            # keeping the first 128 and last 382 tokens if the tokenized review is too long\n",
    "            truncated_input_ids.append(t[:128] + t[-382:])\n",
    "        else:\n",
    "            # or keep it identical if not\n",
    "            truncated_input_ids.append(t)\n",
    "    \n",
    "    # Manually padding to 512 tokens\n",
    "    max_length = 510\n",
    "    padded_input_ids = []\n",
    "    attention_mask = []\n",
    "    for t in truncated_input_ids:\n",
    "        padding_length = max_length - len(t)\n",
    "        padded_input_ids.append(t + [tokenizer.pad_token_id] * padding_length)\n",
    "        attention_mask.append([1] * len(t) + [0] * padding_length)\n",
    "\n",
    "    # Manually adding special tokens (for DistilBERT, the special tokens are [CLS] and [SEP] at the start and end of the sequence)\n",
    "    cls_token_id = tokenizer.cls_token_id\n",
    "    sep_token_id = tokenizer.sep_token_id\n",
    "    final_input_ids = []\n",
    "    final_attention_mask = []\n",
    "    for i in range(len(padded_input_ids)):\n",
    "        final_input_ids.append([cls_token_id] + padded_input_ids[i] + [sep_token_id])\n",
    "        final_attention_mask.append([1] + attention_mask[i] + [1])  # 1 for actual tokens and 1 for [CLS] and [SEP]\n",
    "\n",
    "    # Returning the final batch with `input_ids`, `attention_mask`, and `num_tokens`\n",
    "    final_batch = {\n",
    "        \"input_ids\": torch.tensor(final_input_ids),\n",
    "        \"attention_mask\": torch.tensor(final_attention_mask),\n",
    "        \"label\": torch.tensor(batch[\"label\"]), \n",
    "        \"num_tokens\": torch.tensor(num_tokens)\n",
    "    }\n",
    "\n",
    "    return final_batch"
   ]
  },
  {
   "cell_type": "code",
   "execution_count": 89,
   "id": "a9b9c9d5-64f7-444d-8ab4-8e2d2858865f",
   "metadata": {
    "execution": {
     "iopub.execute_input": "2025-05-03T23:21:00.741427Z",
     "iopub.status.busy": "2025-05-03T23:21:00.741184Z",
     "iopub.status.idle": "2025-05-03T23:24:02.775319Z",
     "shell.execute_reply": "2025-05-03T23:24:02.774789Z",
     "shell.execute_reply.started": "2025-05-03T23:21:00.741412Z"
    }
   },
   "outputs": [
    {
     "data": {
      "application/vnd.jupyter.widget-view+json": {
       "model_id": "576801fadccd4554a963712e47c9b67a",
       "version_major": 2,
       "version_minor": 0
      },
      "text/plain": [
       "Map:   0%|          | 0/22500 [00:00<?, ? examples/s]"
      ]
     },
     "metadata": {},
     "output_type": "display_data"
    },
    {
     "name": "stderr",
     "output_type": "stream",
     "text": [
      "Token indices sequence length is longer than the specified maximum sequence length for this model (592 > 512). Running this sequence through the model will result in indexing errors\n"
     ]
    },
    {
     "data": {
      "application/vnd.jupyter.widget-view+json": {
       "model_id": "aa62e3bd693240ae9c0baf66d08ed48d",
       "version_major": 2,
       "version_minor": 0
      },
      "text/plain": [
       "Map:   0%|          | 0/2500 [00:00<?, ? examples/s]"
      ]
     },
     "metadata": {},
     "output_type": "display_data"
    },
    {
     "data": {
      "application/vnd.jupyter.widget-view+json": {
       "model_id": "3ecb2fcbe4424d4781796af6dee5240f",
       "version_major": 2,
       "version_minor": 0
      },
      "text/plain": [
       "Map:   0%|          | 0/25000 [00:00<?, ? examples/s]"
      ]
     },
     "metadata": {},
     "output_type": "display_data"
    }
   ],
   "source": [
    "train_tokenized = train_dataset.map(tokenize_custom, batched=True)\n",
    "eval_tokenized = eval_dataset.map(tokenize_custom, batched=True)\n",
    "test_tokenized = test_dataset.map(tokenize_custom, batched=True)"
   ]
  },
  {
   "cell_type": "code",
   "execution_count": 90,
   "id": "1169031d-7bca-4491-9e16-873dbc555bbb",
   "metadata": {
    "execution": {
     "iopub.execute_input": "2025-05-03T23:24:57.134195Z",
     "iopub.status.busy": "2025-05-03T23:24:57.133928Z",
     "iopub.status.idle": "2025-05-03T23:24:57.140693Z",
     "shell.execute_reply": "2025-05-03T23:24:57.140030Z",
     "shell.execute_reply.started": "2025-05-03T23:24:57.134176Z"
    }
   },
   "outputs": [],
   "source": [
    "# Setting the format for PyTorch\n",
    "train_tokenized.set_format(\"torch\", columns=[\"input_ids\", \"attention_mask\", \"label\", \"num_tokens\"])\n",
    "eval_tokenized.set_format(\"torch\", columns=[\"input_ids\", \"attention_mask\", \"label\", \"num_tokens\"])\n",
    "test_tokenized.set_format(\"torch\", columns=[\"input_ids\", \"attention_mask\", \"label\", \"num_tokens\"])"
   ]
  },
  {
   "cell_type": "code",
   "execution_count": 92,
   "id": "ad181199-1b8a-4862-860b-36aa4260291d",
   "metadata": {
    "execution": {
     "iopub.execute_input": "2025-05-03T23:25:52.807710Z",
     "iopub.status.busy": "2025-05-03T23:25:52.807449Z",
     "iopub.status.idle": "2025-05-03T23:25:52.822926Z",
     "shell.execute_reply": "2025-05-03T23:25:52.822054Z",
     "shell.execute_reply.started": "2025-05-03T23:25:52.807693Z"
    }
   },
   "outputs": [
    {
     "name": "stderr",
     "output_type": "stream",
     "text": [
      "/tmp/ipykernel_31/1828400361.py:2: FutureWarning: `tokenizer` is deprecated and will be removed in version 5.0.0 for `Trainer.__init__`. Use `processing_class` instead.\n",
      "  trainer = Trainer(\n"
     ]
    }
   ],
   "source": [
    "# Trainer initialization\n",
    "trainer = Trainer(\n",
    "    model=model,\n",
    "    args=training_args,\n",
    "    train_dataset=train_tokenized,\n",
    "    eval_dataset=eval_tokenized,  \n",
    "    tokenizer=tokenizer,\n",
    "    compute_metrics=compute_metrics) "
   ]
  },
  {
   "cell_type": "code",
   "execution_count": 93,
   "id": "1cccba16-ac5a-41d6-a299-fc348bbfa531",
   "metadata": {
    "execution": {
     "iopub.execute_input": "2025-05-03T23:26:41.886180Z",
     "iopub.status.busy": "2025-05-03T23:26:41.885665Z",
     "iopub.status.idle": "2025-05-03T23:52:17.898068Z",
     "shell.execute_reply": "2025-05-03T23:52:17.897518Z",
     "shell.execute_reply.started": "2025-05-03T23:26:41.886155Z"
    }
   },
   "outputs": [
    {
     "name": "stderr",
     "output_type": "stream",
     "text": [
      "\u001b[34m\u001b[1mwandb\u001b[0m: \u001b[33mWARNING\u001b[0m Calling wandb.login() after wandb.init() has no effect.\n"
     ]
    },
    {
     "data": {
      "text/html": [
       "\n",
       "    <div>\n",
       "      \n",
       "      <progress value='2814' max='2814' style='width:300px; height:20px; vertical-align: middle;'></progress>\n",
       "      [2814/2814 25:34, Epoch 2/2]\n",
       "    </div>\n",
       "    <table border=\"1\" class=\"dataframe\">\n",
       "  <thead>\n",
       " <tr style=\"text-align: left;\">\n",
       "      <th>Step</th>\n",
       "      <th>Training Loss</th>\n",
       "      <th>Validation Loss</th>\n",
       "      <th>Accuracy</th>\n",
       "    </tr>\n",
       "  </thead>\n",
       "  <tbody>\n",
       "    <tr>\n",
       "      <td>500</td>\n",
       "      <td>0.321400</td>\n",
       "      <td>0.255031</td>\n",
       "      <td>0.895200</td>\n",
       "    </tr>\n",
       "    <tr>\n",
       "      <td>1000</td>\n",
       "      <td>0.252200</td>\n",
       "      <td>0.198680</td>\n",
       "      <td>0.924400</td>\n",
       "    </tr>\n",
       "    <tr>\n",
       "      <td>1500</td>\n",
       "      <td>0.199900</td>\n",
       "      <td>0.288750</td>\n",
       "      <td>0.925200</td>\n",
       "    </tr>\n",
       "    <tr>\n",
       "      <td>2000</td>\n",
       "      <td>0.126600</td>\n",
       "      <td>0.239015</td>\n",
       "      <td>0.930400</td>\n",
       "    </tr>\n",
       "    <tr>\n",
       "      <td>2500</td>\n",
       "      <td>0.115600</td>\n",
       "      <td>0.226204</td>\n",
       "      <td>0.933600</td>\n",
       "    </tr>\n",
       "  </tbody>\n",
       "</table><p>"
      ],
      "text/plain": [
       "<IPython.core.display.HTML object>"
      ]
     },
     "metadata": {},
     "output_type": "display_data"
    },
    {
     "data": {
      "text/plain": [
       "TrainOutput(global_step=2814, training_loss=0.1925737059700972, metrics={'train_runtime': 1535.4014, 'train_samples_per_second': 29.308, 'train_steps_per_second': 1.833, 'total_flos': 5961032939520000.0, 'train_loss': 0.1925737059700972, 'epoch': 2.0})"
      ]
     },
     "execution_count": 93,
     "metadata": {},
     "output_type": "execute_result"
    }
   ],
   "source": [
    "# Fine-Tuning the DistilBERT\n",
    "wandb.login(key=\"8fa5eaba06a066d5e025308e320f58cdf64313d4\")\n",
    "trainer.train()"
   ]
  },
  {
   "cell_type": "code",
   "execution_count": 94,
   "id": "931838c4-cf57-4575-9d01-3f297a875509",
   "metadata": {
    "execution": {
     "iopub.execute_input": "2025-05-03T23:52:39.179822Z",
     "iopub.status.busy": "2025-05-03T23:52:39.179522Z",
     "iopub.status.idle": "2025-05-03T23:52:39.785502Z",
     "shell.execute_reply": "2025-05-03T23:52:39.784752Z",
     "shell.execute_reply.started": "2025-05-03T23:52:39.179803Z"
    }
   },
   "outputs": [
    {
     "name": "stdout",
     "output_type": "stream",
     "text": [
      "Model saved to ./imdb_sentiment_model_3\n"
     ]
    }
   ],
   "source": [
    "# Saving the model after training\n",
    "model_save_path = \"./imdb_sentiment_model_3\"\n",
    "trainer.save_model(model_save_path)\n",
    "tokenizer.save_pretrained(model_save_path)\n",
    "\n",
    "# Saving training arguments using the to_json_string method\n",
    "import json\n",
    "with open(os.path.join(model_save_path, \"training_args.json\"), 'w') as f:\n",
    "    json.dump(training_args.to_dict(), f)\n",
    "\n",
    "print(f\"Model saved to {model_save_path}\")"
   ]
  },
  {
   "cell_type": "code",
   "execution_count": 95,
   "id": "6fe0a36d-9f61-4987-ac3c-42931aad7007",
   "metadata": {
    "execution": {
     "iopub.execute_input": "2025-05-03T23:54:22.499406Z",
     "iopub.status.busy": "2025-05-03T23:54:22.498738Z",
     "iopub.status.idle": "2025-05-03T23:57:39.977009Z",
     "shell.execute_reply": "2025-05-03T23:57:39.976360Z",
     "shell.execute_reply.started": "2025-05-03T23:54:22.499384Z"
    }
   },
   "outputs": [
    {
     "name": "stderr",
     "output_type": "stream",
     "text": [
      "100%|██████████| 1563/1563 [03:16<00:00,  7.96it/s]\n"
     ]
    },
    {
     "name": "stdout",
     "output_type": "stream",
     "text": [
      "Predictions and scores saved.\n"
     ]
    }
   ],
   "source": [
    "# Creating the final scored dataframe\n",
    "all_preds, all_scores, all_token_counts = test_predictions(model, test_tokenized)\n",
    "\n",
    "scored_df3 = pd.DataFrame({\n",
    "    \"review\": all_texts,\n",
    "    \"true_label\": all_true_labels,\n",
    "    \"rating\": all_ratings,\n",
    "    \"predicted_label\": all_preds,\n",
    "    \"positive_score\": all_scores,\n",
    "    \"num_tokens\": all_token_counts,\n",
    "    }, index=test_df.index)\n",
    "\n",
    "scored_df3[\"rating\"] = scored_df3[\"rating\"].astype(int)\n",
    "\n",
    "# Adding a 'confidence' column\n",
    "scored_df3[\"confidence\"] = np.where(scored_df3[\"predicted_label\"] == 1, scored_df3[\"positive_score\"], 1 - scored_df3[\"positive_score\"])\n",
    "\n",
    "scored_df3.to_csv('predictions_full_results_3.csv', index=False)\n",
    "\n",
    "np.save(\"preds3.npy\", np.array(all_preds))\n",
    "np.save(\"scores3.npy\", np.array(all_scores))\n",
    "print(f\"Predictions and scores saved.\")"
   ]
  },
  {
   "cell_type": "code",
   "execution_count": 97,
   "id": "74b7a15d-bd60-4912-bacb-ca738d8a6758",
   "metadata": {
    "execution": {
     "iopub.execute_input": "2025-05-03T23:58:53.948240Z",
     "iopub.status.busy": "2025-05-03T23:58:53.947596Z",
     "iopub.status.idle": "2025-05-03T23:58:53.961913Z",
     "shell.execute_reply": "2025-05-03T23:58:53.961276Z",
     "shell.execute_reply.started": "2025-05-03T23:58:53.948220Z"
    }
   },
   "outputs": [
    {
     "name": "stdout",
     "output_type": "stream",
     "text": [
      "Accuracy: 0.9375\n",
      "Precision: 0.9348\n",
      "Recall: 0.9406\n",
      "F1 Score: 0.9377\n"
     ]
    }
   ],
   "source": [
    "# Computing metrics\n",
    "accuracy = accuracy_score(scored_df3[\"true_label\"], scored_df3[\"predicted_label\"])\n",
    "precision, recall, f1, _ = precision_recall_fscore_support(scored_df3[\"true_label\"], scored_df3[\"predicted_label\"], average='binary')\n",
    "\n",
    "print(f\"Accuracy: {accuracy:.4f}\")\n",
    "print(f\"Precision: {precision:.4f}\")\n",
    "print(f\"Recall: {recall:.4f}\")\n",
    "print(f\"F1 Score: {f1:.4f}\")"
   ]
  },
  {
   "cell_type": "code",
   "execution_count": 98,
   "id": "f237fd0e-1082-41e7-8992-eca19255417b",
   "metadata": {
    "execution": {
     "iopub.execute_input": "2025-05-04T00:02:05.060854Z",
     "iopub.status.busy": "2025-05-04T00:02:05.060563Z",
     "iopub.status.idle": "2025-05-04T00:02:05.221542Z",
     "shell.execute_reply": "2025-05-04T00:02:05.220883Z",
     "shell.execute_reply.started": "2025-05-04T00:02:05.060834Z"
    }
   },
   "outputs": [
    {
     "data": {
      "image/png": "[encoded data removed]",
      "text/plain": [
       "<Figure size 800x600 with 2 Axes>"
      ]
     },
     "metadata": {},
     "output_type": "display_data"
    }
   ],
   "source": [
    "# Creating a confusion matrix\n",
    "cm = confusion_matrix(scored_df3[\"true_label\"], scored_df3[\"predicted_label\"])\n",
    "plt.figure(figsize=(8, 6))\n",
    "sns.heatmap(cm, annot=True, fmt='d', cmap='Blues', annot_kws={\"size\": 19},\n",
    "            xticklabels=['Negative', 'Positive'],\n",
    "            yticklabels=['Negative', 'Positive'])\n",
    "plt.xlabel('Predicted', fontsize=18)\n",
    "plt.ylabel('True', fontsize=18)\n",
    "plt.title('Custom tokenization', fontsize=20)\n",
    "plt.xticks(fontsize=16)\n",
    "plt.yticks(fontsize=16)\n",
    "plt.show()"
   ]
  },
  {
   "cell_type": "code",
   "execution_count": 99,
   "id": "d01da3be-8a96-45f2-a435-b5230f9d0dda",
   "metadata": {
    "execution": {
     "iopub.execute_input": "2025-05-04T00:02:29.025141Z",
     "iopub.status.busy": "2025-05-04T00:02:29.024612Z",
     "iopub.status.idle": "2025-05-04T00:02:29.063963Z",
     "shell.execute_reply": "2025-05-04T00:02:29.063323Z",
     "shell.execute_reply.started": "2025-05-04T00:02:29.025118Z"
    }
   },
   "outputs": [
    {
     "name": "stdout",
     "output_type": "stream",
     "text": [
      "Index: 19267\n",
      "Review (first 200 chars): This is said to be the first Polish western and is written and directed by Piotr Uklanski. Known in the U.S. as DEAD MAN'S BOUNTY, this film uses some strange visuals to tell a story that is short on ...\n",
      "True Sentiment: Negative\n",
      "Predicted Sentiment: Positive (Confidence: 0.9899)\n",
      "Positive Score: 0.9899\n",
      "Number of tokens: 314\n",
      "--------------------------------------------------------------------------------\n",
      "Index: 19274\n",
      "Review (first 200 chars): I saw this film while I was in France and I must say that it confused me. It is a story of a jewel thief and a young singer who each end up in Morocco at the same time, run into one another and form a...\n",
      "True Sentiment: Negative\n",
      "Predicted Sentiment: Positive (Confidence: 0.8607)\n",
      "Positive Score: 0.8607\n",
      "Number of tokens: 161\n",
      "--------------------------------------------------------------------------------\n",
      "Index: 5435\n",
      "Review (first 200 chars): The animation quality here is decidedly below par IMO, regardless of the age of the OAV. The plot itself makes sense, but the characters don't.This might sound picky, but considering that the city of ...\n",
      "True Sentiment: Positive\n",
      "Predicted Sentiment: Negative (Confidence: 0.9978)\n",
      "Positive Score: 0.0022\n",
      "Number of tokens: 349\n",
      "--------------------------------------------------------------------------------\n",
      "Index: 19551\n",
      "Review (first 200 chars): Reading through most of the other reviews, I tend to agree with most of the comments. The one thing that I would add is the disjointed way the movie has been Directed and Produced. I think that some o...\n",
      "True Sentiment: Negative\n",
      "Predicted Sentiment: Positive (Confidence: 0.9764)\n",
      "Positive Score: 0.9764\n",
      "Number of tokens: 225\n",
      "--------------------------------------------------------------------------------\n",
      "Index: 3268\n",
      "Review (first 200 chars): Krajobraz po bitwie like many films of Wajda is, perhaps, not understandable for the \"rest of the world\". Story based on the few short stories of Tadeusz Borowski, who during WWII was the prisoner of ...\n",
      "True Sentiment: Positive\n",
      "Predicted Sentiment: Negative (Confidence: 0.5372)\n",
      "Positive Score: 0.4628\n",
      "Number of tokens: 319\n",
      "--------------------------------------------------------------------------------\n",
      "Index: 23386\n",
      "Review (first 200 chars): Despite having an absolutely horrid script (more about that later), this film is still vaguely watchable just because it stars two excellent actors, Barbara Stanwyck and Henry Fonda. Aside from one or...\n",
      "True Sentiment: Negative\n",
      "Predicted Sentiment: Positive (Confidence: 0.6028)\n",
      "Positive Score: 0.6028\n",
      "Number of tokens: 738\n",
      "--------------------------------------------------------------------------------\n",
      "Index: 9560\n",
      "Review (first 200 chars): Low budget, mostly no name actors. . . this is what a campy horror flick is supposed to be all about. These are the types of movies that kept me on the edge of my seat as a kid staying up too late to ...\n",
      "True Sentiment: Positive\n",
      "Predicted Sentiment: Negative (Confidence: 0.9901)\n",
      "Positive Score: 0.0099\n",
      "Number of tokens: 67\n",
      "--------------------------------------------------------------------------------\n",
      "Index: 16345\n",
      "Review (first 200 chars): This movie is total dumbness incarnate. Yet, i've seen this movie several times already and plan to watch several more times because, despite its sheer dumbness, it's very entertaining. And it has one...\n",
      "True Sentiment: Negative\n",
      "Predicted Sentiment: Positive (Confidence: 0.7391)\n",
      "Positive Score: 0.7391\n",
      "Number of tokens: 452\n",
      "--------------------------------------------------------------------------------\n",
      "Index: 11133\n",
      "Review (first 200 chars): This is the second Hitchcock film to appear on the list and the second Hitchcock film I've seen in full, the first was Rope, which I really enjoyed. With Saboteur Hitchcock was more room to roam free,...\n",
      "True Sentiment: Positive\n",
      "Predicted Sentiment: Negative (Confidence: 0.9968)\n",
      "Positive Score: 0.0032\n",
      "Number of tokens: 383\n",
      "--------------------------------------------------------------------------------\n",
      "Index: 14049\n",
      "Review (first 200 chars): After watching this film, I thought to myself, they really glossed up Errol Flynn's life! The movie is really nice eye candy. They really got the 1930s and 1940s atmosphere of Hollywood just right. Th...\n",
      "True Sentiment: Negative\n",
      "Predicted Sentiment: Positive (Confidence: 0.9824)\n",
      "Positive Score: 0.9824\n",
      "Number of tokens: 431\n",
      "--------------------------------------------------------------------------------\n",
      "Index: 19832\n",
      "Review (first 200 chars): It's a kinder, gentler Cyborg movie with a love story. Awww. It's not as bad as it sounds. The action, when it is there, is decent and Jack Palance, Elias Koteas, and Angelina Jolie are always dependa...\n",
      "True Sentiment: Negative\n",
      "Predicted Sentiment: Positive (Confidence: 0.5663)\n",
      "Positive Score: 0.5663\n",
      "Number of tokens: 168\n",
      "--------------------------------------------------------------------------------\n",
      "Index: 13388\n",
      "Review (first 200 chars): Low budget horror movie. If you don't raise your expectations too high, you'll probably enjoy this little flick. Beginning and end are pretty good, middle drags at times and seems to go nowhere for lo...\n",
      "True Sentiment: Negative\n",
      "Predicted Sentiment: Positive (Confidence: 0.9397)\n",
      "Positive Score: 0.9397\n",
      "Number of tokens: 203\n",
      "--------------------------------------------------------------------------------\n",
      "Index: 2615\n",
      "Review (first 200 chars): Sheba Baby is always underrated most likely because it has a pg rating instead of the usual r rating that a Grier movie gets. all that the pg means is that Pam doesn't take her top off, she takes her ...\n",
      "True Sentiment: Positive\n",
      "Predicted Sentiment: Negative (Confidence: 0.9476)\n",
      "Positive Score: 0.0524\n",
      "Number of tokens: 192\n",
      "--------------------------------------------------------------------------------\n",
      "Index: 11195\n",
      "Review (first 200 chars): My main criticism is quite simply that it isn't long enough or detailed enough. I would have loved to see more of everything: the building of the vessel, the engineering, the training, the first lift ...\n",
      "True Sentiment: Positive\n",
      "Predicted Sentiment: Negative (Confidence: 0.8654)\n",
      "Positive Score: 0.1346\n",
      "Number of tokens: 400\n",
      "--------------------------------------------------------------------------------\n",
      "Index: 17016\n",
      "Review (first 200 chars): I really liked this quirky movie. The characters are not the bland beautiful people that show up in so many movies and on TV. It has a realistic edge, with a captivating story line. The main title seq...\n",
      "True Sentiment: Negative\n",
      "Predicted Sentiment: Positive (Confidence: 0.9977)\n",
      "Positive Score: 0.9977\n",
      "Number of tokens: 52\n",
      "--------------------------------------------------------------------------------\n",
      "Index: 12841\n",
      "Review (first 200 chars): I love this show. I watched every episode last year. I bought the DVDs. And I tune into to watch tonight and I see for some reason you have retooled this great show. And you have taken what made it wo...\n",
      "True Sentiment: Negative\n",
      "Predicted Sentiment: Positive (Confidence: 0.9922)\n",
      "Positive Score: 0.9922\n",
      "Number of tokens: 357\n",
      "--------------------------------------------------------------------------------\n",
      "Index: 14228\n",
      "Review (first 200 chars): Well, this movie actually did have one redeeming quality. It made up the funniest season one episode of MST3K. I wish Rhino had released this one instead of \"The Crawling Hand.\"...\n",
      "True Sentiment: Negative\n",
      "Predicted Sentiment: Positive (Confidence: 0.9909)\n",
      "Positive Score: 0.9909\n",
      "Number of tokens: 44\n",
      "--------------------------------------------------------------------------------\n",
      "Index: 23143\n",
      "Review (first 200 chars): OK, yes I know I'm a Philistine, and I have no knowledge of, nor love for opera. I readily admit that I might feel differently about this film if I did. But I don't. So, for those of you like me, skip...\n",
      "True Sentiment: Negative\n",
      "Predicted Sentiment: Positive (Confidence: 0.9633)\n",
      "Positive Score: 0.9633\n",
      "Number of tokens: 104\n",
      "--------------------------------------------------------------------------------\n",
      "Index: 17050\n",
      "Review (first 200 chars): Bridget Fonda is the sexually satisfied wife of handsome Hart Bochner. One afternoon she comes home, calls him \"honey\", and quietly fixes him a drink, only to find that he's sulking. Minutes go by whi...\n",
      "True Sentiment: Negative\n",
      "Predicted Sentiment: Positive (Confidence: 0.6641)\n",
      "Positive Score: 0.6641\n",
      "Number of tokens: 724\n",
      "--------------------------------------------------------------------------------\n",
      "Index: 16964\n",
      "Review (first 200 chars): As a young lass, beautiful Joan Woodbury (as Rita Adams) was orphaned, after her \"stool pigeon\" father was shot to death. As a young woman, Ms. Woodbury finds herself struggling to keep a job, as her ...\n",
      "True Sentiment: Negative\n",
      "Predicted Sentiment: Positive (Confidence: 0.8992)\n",
      "Positive Score: 0.8992\n",
      "Number of tokens: 326\n",
      "--------------------------------------------------------------------------------\n"
     ]
    }
   ],
   "source": [
    "# Focus on incorrect predictions\n",
    "incorrect_df3 = scored_df3[scored_df3[\"predicted_label\"] != scored_df3[\"true_label\"]]\n",
    "correct_df3 = scored_df3[scored_df3[\"predicted_label\"] == scored_df3[\"true_label\"]]\n",
    "\n",
    "# Showing some examples of incorrect predictions\n",
    "show_example_predictions(incorrect_df3, num_examples = 20, num_tokens = True)"
   ]
  },
  {
   "cell_type": "code",
   "execution_count": 100,
   "id": "17d1ad9c-3720-4da7-812f-637a5ead0e78",
   "metadata": {
    "execution": {
     "iopub.execute_input": "2025-05-04T00:04:03.675036Z",
     "iopub.status.busy": "2025-05-04T00:04:03.674757Z",
     "iopub.status.idle": "2025-05-04T00:04:04.154414Z",
     "shell.execute_reply": "2025-05-04T00:04:04.153756Z",
     "shell.execute_reply.started": "2025-05-04T00:04:03.675011Z"
    }
   },
   "outputs": [
    {
     "name": "stderr",
     "output_type": "stream",
     "text": [
      "/usr/local/lib/python3.11/dist-packages/seaborn/_oldcore.py:1119: FutureWarning: use_inf_as_na option is deprecated and will be removed in a future version. Convert inf values to NaN before operating instead.\n",
      "  with pd.option_context('mode.use_inf_as_na', True):\n",
      "/usr/local/lib/python3.11/dist-packages/seaborn/_oldcore.py:1119: FutureWarning: use_inf_as_na option is deprecated and will be removed in a future version. Convert inf values to NaN before operating instead.\n",
      "  with pd.option_context('mode.use_inf_as_na', True):\n"
     ]
    },
    {
     "data": {
      "image/png": "[encoded data removed]",
      "text/plain": [
       "<Figure size 1200x600 with 1 Axes>"
      ]
     },
     "metadata": {},
     "output_type": "display_data"
    }
   ],
   "source": [
    "plt.figure(figsize=(12, 6))\n",
    "\n",
    "# Correct tokens distribution\n",
    "sns.histplot(correct_df3[\"num_tokens\"], color='green', label='Correct', kde=True, stat=\"density\", bins=20, alpha=0.6)\n",
    "# Incorrect tokens distribution\n",
    "sns.histplot(incorrect_df3[\"num_tokens\"], color='red', label='Incorrect', kde=True, stat=\"density\", bins=20, alpha=0.6)\n",
    "\n",
    "plt.title(\"Distribution of number of tokens for correct vs incorrect predictions\")\n",
    "plt.xlabel(\"Number of tokens\")\n",
    "plt.ylabel(\"Number of reviews\")\n",
    "plt.legend(title=\"Prediction status\")\n",
    "plt.show()"
   ]
  },
  {
   "cell_type": "code",
   "execution_count": 101,
   "id": "d06169ad-26b8-4bec-b033-3c83649909a8",
   "metadata": {
    "execution": {
     "iopub.execute_input": "2025-05-04T00:07:20.476130Z",
     "iopub.status.busy": "2025-05-04T00:07:20.475545Z",
     "iopub.status.idle": "2025-05-04T00:07:20.490105Z",
     "shell.execute_reply": "2025-05-04T00:07:20.489215Z",
     "shell.execute_reply.started": "2025-05-04T00:07:20.476109Z"
    }
   },
   "outputs": [
    {
     "name": "stdout",
     "output_type": "stream",
     "text": [
      "Proportion of incorrectly classified reviews with over 510 initial tokens: 0.0706\n",
      "Proportion of incorrectly classified reviews with under 510 initial tokens: 0.0614\n"
     ]
    }
   ],
   "source": [
    "# As for the baseline results we calculate the proportions of incorrectly classified reviews among the truncated or non truncated during tokenization \n",
    "incorrect_over_510_proportion_update = len(\n",
    "    scored_df3[(scored_df3[\"predicted_label\"] != scored_df3[\"true_label\"]) & (scored_df3[\"num_tokens\"] > 510)]\n",
    ") / len(scored_df3[scored_df3[\"num_tokens\"] > 510])\n",
    "\n",
    "incorrect_under_510_proportion_update = len(\n",
    "    scored_df3[(scored_df3[\"predicted_label\"] != scored_df3[\"true_label\"]) & (scored_df3[\"num_tokens\"] <= 510)]\n",
    ") / len(scored_df3[scored_df3[\"num_tokens\"] <= 510])\n",
    "\n",
    "# Print the proportions\n",
    "print(f\"Proportion of incorrectly classified reviews with over 510 initial tokens: {incorrect_over_510_proportion_update:.4f}\")\n",
    "print(f\"Proportion of incorrectly classified reviews with under 510 initial tokens: {incorrect_under_510_proportion_update:.4f}\")"
   ]
  },
  {
   "cell_type": "markdown",
   "id": "920c611a-2350-4b57-b483-02533eb20016",
   "metadata": {},
   "source": [
    "# PART IV : Mixed model : mitigated + custom tokenization"
   ]
  },
  {
   "cell_type": "code",
   "execution_count": 111,
   "id": "b807c777-9b47-46ae-9c4b-267ed381c74c",
   "metadata": {
    "execution": {
     "iopub.execute_input": "2025-05-04T02:10:03.491550Z",
     "iopub.status.busy": "2025-05-04T02:10:03.490947Z",
     "iopub.status.idle": "2025-05-04T02:10:03.507282Z",
     "shell.execute_reply": "2025-05-04T02:10:03.506449Z",
     "shell.execute_reply.started": "2025-05-04T02:10:03.491527Z"
    }
   },
   "outputs": [],
   "source": [
    "# Rename columns in the mitigated datasets to match with the token_custom function\n",
    "train_dataset = train_dataset.rename_column(\"review\", \"pre_review\")\n",
    "train_dataset = train_dataset.rename_column(\"review_soft\", \"review\")\n",
    "\n",
    "eval_dataset = eval_dataset.rename_column(\"review\", \"pre_review\")\n",
    "eval_dataset = eval_dataset.rename_column(\"review_soft\", \"review\")\n",
    "\n",
    "test_dataset = test_dataset.rename_column(\"review\", \"pre_review\")\n",
    "test_dataset = test_dataset.rename_column(\"review_soft\", \"review\")"
   ]
  },
  {
   "cell_type": "code",
   "execution_count": 112,
   "id": "47bc8cf8-2dc0-44aa-9fe4-66b317e92f58",
   "metadata": {
    "execution": {
     "iopub.execute_input": "2025-05-04T02:10:06.768164Z",
     "iopub.status.busy": "2025-05-04T02:10:06.767894Z",
     "iopub.status.idle": "2025-05-04T02:10:07.638322Z",
     "shell.execute_reply": "2025-05-04T02:10:07.637781Z",
     "shell.execute_reply.started": "2025-05-04T02:10:06.768144Z"
    }
   },
   "outputs": [
    {
     "name": "stderr",
     "output_type": "stream",
     "text": [
      "Some weights of DistilBertForSequenceClassification were not initialized from the model checkpoint at distilbert-base-uncased and are newly initialized: ['classifier.bias', 'classifier.weight', 'pre_classifier.bias', 'pre_classifier.weight']\n",
      "You should probably TRAIN this model on a down-stream task to be able to use it for predictions and inference.\n"
     ]
    }
   ],
   "source": [
    "tokenizer = DistilBertTokenizer.from_pretrained(\"distilbert-base-uncased\")\n",
    "model = DistilBertForSequenceClassification.from_pretrained(\"distilbert-base-uncased\", num_labels=2)\n",
    "\n",
    "device = torch.device(\"cuda\" if torch.cuda.is_available() else \"cpu\")\n",
    "model = model.to(device)"
   ]
  },
  {
   "cell_type": "code",
   "execution_count": 114,
   "id": "c278d0d0-8cf9-4eb9-bec0-d11c03f0d914",
   "metadata": {
    "execution": {
     "iopub.execute_input": "2025-05-04T02:10:34.187157Z",
     "iopub.status.busy": "2025-05-04T02:10:34.186880Z",
     "iopub.status.idle": "2025-05-04T02:13:37.832245Z",
     "shell.execute_reply": "2025-05-04T02:13:37.831531Z",
     "shell.execute_reply.started": "2025-05-04T02:10:34.187137Z"
    }
   },
   "outputs": [
    {
     "data": {
      "application/vnd.jupyter.widget-view+json": {
       "model_id": "f23bfd84241e4696956d14fa9a1d954d",
       "version_major": 2,
       "version_minor": 0
      },
      "text/plain": [
       "Map:   0%|          | 0/22500 [00:00<?, ? examples/s]"
      ]
     },
     "metadata": {},
     "output_type": "display_data"
    },
    {
     "name": "stderr",
     "output_type": "stream",
     "text": [
      "Token indices sequence length is longer than the specified maximum sequence length for this model (594 > 512). Running this sequence through the model will result in indexing errors\n"
     ]
    },
    {
     "data": {
      "application/vnd.jupyter.widget-view+json": {
       "model_id": "f000b71649b74b289477266350d1807d",
       "version_major": 2,
       "version_minor": 0
      },
      "text/plain": [
       "Map:   0%|          | 0/2500 [00:00<?, ? examples/s]"
      ]
     },
     "metadata": {},
     "output_type": "display_data"
    },
    {
     "data": {
      "application/vnd.jupyter.widget-view+json": {
       "model_id": "c9fb9dd6c21a4f5a8bcb3f27cd1affc9",
       "version_major": 2,
       "version_minor": 0
      },
      "text/plain": [
       "Map:   0%|          | 0/25000 [00:00<?, ? examples/s]"
      ]
     },
     "metadata": {},
     "output_type": "display_data"
    }
   ],
   "source": [
    "train_tokenized = train_dataset.map(tokenize_custom, batched=True)\n",
    "eval_tokenized = eval_dataset.map(tokenize_custom, batched=True)\n",
    "test_tokenized = test_dataset.map(tokenize_custom, batched=True)"
   ]
  },
  {
   "cell_type": "code",
   "execution_count": 115,
   "id": "026bf33a-aa6d-4419-aa7e-a2b7bb804ad3",
   "metadata": {
    "execution": {
     "iopub.execute_input": "2025-05-04T02:13:46.266734Z",
     "iopub.status.busy": "2025-05-04T02:13:46.266102Z",
     "iopub.status.idle": "2025-05-04T02:13:46.273018Z",
     "shell.execute_reply": "2025-05-04T02:13:46.272403Z",
     "shell.execute_reply.started": "2025-05-04T02:13:46.266706Z"
    }
   },
   "outputs": [],
   "source": [
    "# Setting the format for PyTorch\n",
    "train_tokenized.set_format(\"torch\", columns=[\"input_ids\", \"attention_mask\", \"label\", \"num_tokens\"])\n",
    "eval_tokenized.set_format(\"torch\", columns=[\"input_ids\", \"attention_mask\", \"label\", \"num_tokens\"])\n",
    "test_tokenized.set_format(\"torch\", columns=[\"input_ids\", \"attention_mask\", \"label\", \"num_tokens\"])"
   ]
  },
  {
   "cell_type": "code",
   "execution_count": 116,
   "id": "3801850b-9b13-43e0-8f2b-6d96d804cdc1",
   "metadata": {
    "execution": {
     "iopub.execute_input": "2025-05-04T02:13:50.509896Z",
     "iopub.status.busy": "2025-05-04T02:13:50.509633Z",
     "iopub.status.idle": "2025-05-04T02:13:50.523947Z",
     "shell.execute_reply": "2025-05-04T02:13:50.523180Z",
     "shell.execute_reply.started": "2025-05-04T02:13:50.509876Z"
    }
   },
   "outputs": [
    {
     "name": "stderr",
     "output_type": "stream",
     "text": [
      "/tmp/ipykernel_31/1828400361.py:2: FutureWarning: `tokenizer` is deprecated and will be removed in version 5.0.0 for `Trainer.__init__`. Use `processing_class` instead.\n",
      "  trainer = Trainer(\n"
     ]
    }
   ],
   "source": [
    "# Trainer initialization\n",
    "trainer = Trainer(\n",
    "    model=model,\n",
    "    args=training_args,\n",
    "    train_dataset=train_tokenized,\n",
    "    eval_dataset=eval_tokenized,  \n",
    "    tokenizer=tokenizer,\n",
    "    compute_metrics=compute_metrics) "
   ]
  },
  {
   "cell_type": "code",
   "execution_count": 117,
   "id": "d48b7d0a-ac90-47de-bebd-179c2f14bcb0",
   "metadata": {
    "execution": {
     "iopub.execute_input": "2025-05-04T02:13:56.476844Z",
     "iopub.status.busy": "2025-05-04T02:13:56.476563Z",
     "iopub.status.idle": "2025-05-04T02:39:37.725089Z",
     "shell.execute_reply": "2025-05-04T02:39:37.724483Z",
     "shell.execute_reply.started": "2025-05-04T02:13:56.476824Z"
    }
   },
   "outputs": [
    {
     "name": "stderr",
     "output_type": "stream",
     "text": [
      "\u001b[34m\u001b[1mwandb\u001b[0m: \u001b[33mWARNING\u001b[0m Calling wandb.login() after wandb.init() has no effect.\n"
     ]
    },
    {
     "data": {
      "text/html": [
       "\n",
       "    <div>\n",
       "      \n",
       "      <progress value='2814' max='2814' style='width:300px; height:20px; vertical-align: middle;'></progress>\n",
       "      [2814/2814 25:40, Epoch 2/2]\n",
       "    </div>\n",
       "    <table border=\"1\" class=\"dataframe\">\n",
       "  <thead>\n",
       " <tr style=\"text-align: left;\">\n",
       "      <th>Step</th>\n",
       "      <th>Training Loss</th>\n",
       "      <th>Validation Loss</th>\n",
       "      <th>Accuracy</th>\n",
       "    </tr>\n",
       "  </thead>\n",
       "  <tbody>\n",
       "    <tr>\n",
       "      <td>500</td>\n",
       "      <td>0.336000</td>\n",
       "      <td>0.258300</td>\n",
       "      <td>0.898000</td>\n",
       "    </tr>\n",
       "    <tr>\n",
       "      <td>1000</td>\n",
       "      <td>0.258500</td>\n",
       "      <td>0.210601</td>\n",
       "      <td>0.921600</td>\n",
       "    </tr>\n",
       "    <tr>\n",
       "      <td>1500</td>\n",
       "      <td>0.210900</td>\n",
       "      <td>0.365697</td>\n",
       "      <td>0.920400</td>\n",
       "    </tr>\n",
       "    <tr>\n",
       "      <td>2000</td>\n",
       "      <td>0.145600</td>\n",
       "      <td>0.274149</td>\n",
       "      <td>0.928000</td>\n",
       "    </tr>\n",
       "    <tr>\n",
       "      <td>2500</td>\n",
       "      <td>0.127500</td>\n",
       "      <td>0.233701</td>\n",
       "      <td>0.936400</td>\n",
       "    </tr>\n",
       "  </tbody>\n",
       "</table><p>"
      ],
      "text/plain": [
       "<IPython.core.display.HTML object>"
      ]
     },
     "metadata": {},
     "output_type": "display_data"
    },
    {
     "data": {
      "text/plain": [
       "TrainOutput(global_step=2814, training_loss=0.20448122654896556, metrics={'train_runtime': 1540.6287, 'train_samples_per_second': 29.209, 'train_steps_per_second': 1.827, 'total_flos': 5961032939520000.0, 'train_loss': 0.20448122654896556, 'epoch': 2.0})"
      ]
     },
     "execution_count": 117,
     "metadata": {},
     "output_type": "execute_result"
    }
   ],
   "source": [
    "# Fine-Tuning the DistilBERT\n",
    "wandb.login(key=\"8fa5eaba06a066d5e025308e320f58cdf64313d4\")\n",
    "trainer.train()"
   ]
  },
  {
   "cell_type": "code",
   "execution_count": 118,
   "id": "ed95a705-4214-4ccf-94a8-40036af2443c",
   "metadata": {
    "execution": {
     "iopub.execute_input": "2025-05-04T02:40:03.895211Z",
     "iopub.status.busy": "2025-05-04T02:40:03.894707Z",
     "iopub.status.idle": "2025-05-04T02:40:04.476902Z",
     "shell.execute_reply": "2025-05-04T02:40:04.475978Z",
     "shell.execute_reply.started": "2025-05-04T02:40:03.895190Z"
    }
   },
   "outputs": [
    {
     "name": "stdout",
     "output_type": "stream",
     "text": [
      "Model saved to ./imdb_sentiment_model_4\n"
     ]
    }
   ],
   "source": [
    "# Saving the model after training\n",
    "model_save_path = \"./imdb_sentiment_model_4\"\n",
    "trainer.save_model(model_save_path)\n",
    "tokenizer.save_pretrained(model_save_path)\n",
    "\n",
    "# Saving training arguments using the to_json_string method\n",
    "import json\n",
    "with open(os.path.join(model_save_path, \"training_args.json\"), 'w') as f:\n",
    "    json.dump(training_args.to_dict(), f)\n",
    "\n",
    "print(f\"Model saved to {model_save_path}\")"
   ]
  },
  {
   "cell_type": "code",
   "execution_count": 119,
   "id": "783d01c0-8911-4562-94f9-a0d424b2d93f",
   "metadata": {
    "execution": {
     "iopub.execute_input": "2025-05-04T02:40:35.692914Z",
     "iopub.status.busy": "2025-05-04T02:40:35.692198Z",
     "iopub.status.idle": "2025-05-04T02:43:54.028962Z",
     "shell.execute_reply": "2025-05-04T02:43:54.027814Z",
     "shell.execute_reply.started": "2025-05-04T02:40:35.692885Z"
    }
   },
   "outputs": [
    {
     "name": "stderr",
     "output_type": "stream",
     "text": [
      "100%|██████████| 1563/1563 [03:16<00:00,  7.96it/s]\n"
     ]
    },
    {
     "name": "stdout",
     "output_type": "stream",
     "text": [
      "Predictions and scores saved.\n"
     ]
    }
   ],
   "source": [
    "# Creating the final scored dataframe\n",
    "all_preds, all_scores, all_token_counts = test_predictions(model, test_tokenized)\n",
    "\n",
    "scored_df4 = pd.DataFrame({\n",
    "    \"review\": all_texts,\n",
    "    \"review_soft\" : all_texts_soft,\n",
    "    \"true_label\": all_true_labels,\n",
    "    \"rating\": all_ratings,\n",
    "    \"predicted_label\": all_preds,\n",
    "    \"positive_score\": all_scores,\n",
    "    \"num_tokens\": all_token_counts,\n",
    "    }, index=test_df.index)\n",
    "\n",
    "scored_df4[\"rating\"] = scored_df4[\"rating\"].astype(int)\n",
    "\n",
    "# Adding a 'confidence' column\n",
    "scored_df4[\"confidence\"] = np.where(scored_df4[\"predicted_label\"] == 1, scored_df4[\"positive_score\"], 1 - scored_df4[\"positive_score\"])\n",
    "\n",
    "scored_df4.to_csv('predictions_full_results_4.csv', index=False)\n",
    "\n",
    "np.save(\"preds4.npy\", np.array(all_preds))\n",
    "np.save(\"scores4.npy\", np.array(all_scores))\n",
    "print(f\"Predictions and scores saved.\")"
   ]
  },
  {
   "cell_type": "code",
   "execution_count": 120,
   "id": "fedddb53-b38b-43e6-9423-57f90520b8ab",
   "metadata": {
    "execution": {
     "iopub.execute_input": "2025-05-04T02:52:18.971224Z",
     "iopub.status.busy": "2025-05-04T02:52:18.970940Z",
     "iopub.status.idle": "2025-05-04T02:52:18.986018Z",
     "shell.execute_reply": "2025-05-04T02:52:18.985358Z",
     "shell.execute_reply.started": "2025-05-04T02:52:18.971206Z"
    }
   },
   "outputs": [
    {
     "name": "stdout",
     "output_type": "stream",
     "text": [
      "Accuracy: 0.9342\n",
      "Precision: 0.9229\n",
      "Recall: 0.9476\n",
      "F1 Score: 0.9351\n"
     ]
    }
   ],
   "source": [
    "# Computing metrics\n",
    "accuracy = accuracy_score(scored_df4[\"true_label\"], scored_df4[\"predicted_label\"])\n",
    "precision, recall, f1, _ = precision_recall_fscore_support(scored_df4[\"true_label\"], scored_df4[\"predicted_label\"], average='binary')\n",
    "\n",
    "print(f\"Accuracy: {accuracy:.4f}\")\n",
    "print(f\"Precision: {precision:.4f}\")\n",
    "print(f\"Recall: {recall:.4f}\")\n",
    "print(f\"F1 Score: {f1:.4f}\")"
   ]
  },
  {
   "cell_type": "code",
   "execution_count": 121,
   "id": "ba801644-787a-4158-a0c8-340ee2b4ff10",
   "metadata": {
    "execution": {
     "iopub.execute_input": "2025-05-04T02:53:47.481690Z",
     "iopub.status.busy": "2025-05-04T02:53:47.481392Z",
     "iopub.status.idle": "2025-05-04T02:53:47.637194Z",
     "shell.execute_reply": "2025-05-04T02:53:47.636507Z",
     "shell.execute_reply.started": "2025-05-04T02:53:47.481672Z"
    }
   },
   "outputs": [
    {
     "data": {
      "image/png": "[encoded data removed]",
      "text/plain": [
       "<Figure size 800x600 with 2 Axes>"
      ]
     },
     "metadata": {},
     "output_type": "display_data"
    }
   ],
   "source": [
    "# Creating a confusion matrix\n",
    "cm = confusion_matrix(scored_df4[\"true_label\"], scored_df4[\"predicted_label\"])\n",
    "plt.figure(figsize=(8, 6))\n",
    "sns.heatmap(cm, annot=True, fmt='d', cmap='Blues', annot_kws={\"size\": 19},\n",
    "            xticklabels=['Negative', 'Positive'],\n",
    "            yticklabels=['Negative', 'Positive'])\n",
    "plt.xlabel('Predicted', fontsize=18)\n",
    "plt.ylabel('True', fontsize=18)\n",
    "plt.title('Mixed model', fontsize=20)\n",
    "plt.xticks(fontsize=16)\n",
    "plt.yticks(fontsize=16)\n",
    "plt.show()"
   ]
  },
  {
   "cell_type": "code",
   "execution_count": 122,
   "id": "89355eaf-5890-4470-8b99-59e38167053b",
   "metadata": {
    "execution": {
     "iopub.execute_input": "2025-05-04T02:54:28.085788Z",
     "iopub.status.busy": "2025-05-04T02:54:28.085503Z",
     "iopub.status.idle": "2025-05-04T02:54:28.127920Z",
     "shell.execute_reply": "2025-05-04T02:54:28.127053Z",
     "shell.execute_reply.started": "2025-05-04T02:54:28.085768Z"
    }
   },
   "outputs": [
    {
     "name": "stdout",
     "output_type": "stream",
     "text": [
      "Index: 11423\n",
      "Review (first 200 chars): It's too bad iameracing wants to deny the reality of Faulkner's and Clarence Brown's purpose in the creating of the story and film of \"Intruder In The Dust\". I suppose the burden of a history of racis...\n",
      "True Sentiment: Positive\n",
      "Predicted Sentiment: Negative (Confidence: 0.9954)\n",
      "Positive Score: 0.0046\n",
      "Number of tokens: 795\n",
      "--------------------------------------------------------------------------------\n",
      "Index: 10789\n",
      "Review (first 200 chars): Christine Lahti (Sandy Dunlap) and Mary Tyler Moore (Holly Davis) worked well with soapish material, Ted Danson did his best with a thankless role of Chip Davis The premise of this that the two ladies...\n",
      "True Sentiment: Positive\n",
      "Predicted Sentiment: Negative (Confidence: 0.9888)\n",
      "Positive Score: 0.0112\n",
      "Number of tokens: 229\n",
      "--------------------------------------------------------------------------------\n",
      "Index: 23158\n",
      "Review (first 200 chars): This film is all right, fairly silly and to be taken lightly. But what I can't stand are the numerous heroes and that boy's ILLEGALY SENTIMENTAL comment near the end: \"look, they all look the same\". I...\n",
      "True Sentiment: Negative\n",
      "Predicted Sentiment: Positive (Confidence: 0.9298)\n",
      "Positive Score: 0.9298\n",
      "Number of tokens: 114\n",
      "--------------------------------------------------------------------------------\n",
      "Index: 18508\n",
      "Review (first 200 chars): There is nothing worse than science fiction crafted by folks who don't have a feel for it. Grasping at a concept which wouldn't be so terrible by itself (a future where cloning is common enough that i...\n",
      "True Sentiment: Negative\n",
      "Predicted Sentiment: Positive (Confidence: 0.8959)\n",
      "Positive Score: 0.8959\n",
      "Number of tokens: 805\n",
      "--------------------------------------------------------------------------------\n",
      "Index: 12450\n",
      "Review (first 200 chars): There were at least a half dozen silent-film versions of Shakespeare's \"The Merchant of Venice,\" and there have been several television productions. But no one has ever gotten around to making a big-b...\n",
      "True Sentiment: Positive\n",
      "Predicted Sentiment: Negative (Confidence: 0.9833)\n",
      "Positive Score: 0.0167\n",
      "Number of tokens: 365\n",
      "--------------------------------------------------------------------------------\n",
      "Index: 17656\n",
      "Review (first 200 chars): Some of the greatest and most loved horror movies have a wicked sense of humour, but when a film comes along that isn't as original as the \"classics\" but just goes at it for laughs then a bunch of po-...\n",
      "True Sentiment: Negative\n",
      "Predicted Sentiment: Positive (Confidence: 0.9971)\n",
      "Positive Score: 0.9971\n",
      "Number of tokens: 326\n",
      "--------------------------------------------------------------------------------\n",
      "Index: 24152\n",
      "Review (first 200 chars): ****Probably will contain spoilers****After a successful attempt to get attention (I would not call making sure that you get help before you die a \"failed suicide attempt\"), Joey finds out that she is...\n",
      "True Sentiment: Negative\n",
      "Predicted Sentiment: Positive (Confidence: 0.9852)\n",
      "Positive Score: 0.9852\n",
      "Number of tokens: 375\n",
      "--------------------------------------------------------------------------------\n",
      "Index: 22522\n",
      "Review (first 200 chars): In 1970, feminists invaded the 'Miss World' beauty contest in London and brought the occasion to a halt by pelting the stage with flour and eggs. Why? Because, rightly or wrongly, they felt the event ...\n",
      "True Sentiment: Negative\n",
      "Predicted Sentiment: Positive (Confidence: 0.7459)\n",
      "Positive Score: 0.7459\n",
      "Number of tokens: 371\n",
      "--------------------------------------------------------------------------------\n",
      "Index: 3786\n",
      "Review (first 200 chars): Yes, indeed we have a winner- a winner in best dumb-action-movie!The only reason I chose to vote a 10 for this movie is because it's so incredibly bad-made that it actually becomes funny.\"Night Hunter...\n",
      "True Sentiment: Positive\n",
      "Predicted Sentiment: Negative (Confidence: 0.9972)\n",
      "Positive Score: 0.0028\n",
      "Number of tokens: 420\n",
      "--------------------------------------------------------------------------------\n",
      "Index: 11642\n",
      "Review (first 200 chars): I wasn't even born when this series was released in the USA. It took about another decade before British TV networks laid hold of it.In fact, I was fortunate enough to see the very first episode, in w...\n",
      "True Sentiment: Positive\n",
      "Predicted Sentiment: Negative (Confidence: 0.9798)\n",
      "Positive Score: 0.0202\n",
      "Number of tokens: 413\n",
      "--------------------------------------------------------------------------------\n",
      "Index: 426\n",
      "Review (first 200 chars): \"Beyond the Clouds\" is an over-the-top artsy group of four vignettes each a offering a glimpse into a man-woman relationship from the tenuous to the turbulent. Although the film offers superb cinemato...\n",
      "True Sentiment: Positive\n",
      "Predicted Sentiment: Negative (Confidence: 0.9589)\n",
      "Positive Score: 0.0411\n",
      "Number of tokens: 140\n",
      "--------------------------------------------------------------------------------\n",
      "Index: 24098\n",
      "Review (first 200 chars): This experimental silent film, made in Switzerland by an independent British film company, is chiefly remembered as Paul Robeson's first film. It's very artistic, with shots often seeming meaningless ...\n",
      "True Sentiment: Negative\n",
      "Predicted Sentiment: Positive (Confidence: 0.9853)\n",
      "Positive Score: 0.9853\n",
      "Number of tokens: 341\n",
      "--------------------------------------------------------------------------------\n",
      "Index: 18559\n",
      "Review (first 200 chars): I bought this Chuck Norris DVD knowing that it was one of his earliest films, and it shows. We all know that he will never win an Oscar for his acting, but that's not what we watch him for. Although t...\n",
      "True Sentiment: Negative\n",
      "Predicted Sentiment: Positive (Confidence: 0.9838)\n",
      "Positive Score: 0.9838\n",
      "Number of tokens: 176\n",
      "--------------------------------------------------------------------------------\n",
      "Index: 16964\n",
      "Review (first 200 chars): As a young lass, beautiful Joan Woodbury (as Rita Adams) was orphaned, after her \"stool pigeon\" father was shot to death. As a young woman, Ms. Woodbury finds herself struggling to keep a job, as her ...\n",
      "True Sentiment: Negative\n",
      "Predicted Sentiment: Positive (Confidence: 0.7773)\n",
      "Positive Score: 0.7773\n",
      "Number of tokens: 328\n",
      "--------------------------------------------------------------------------------\n",
      "Index: 24227\n",
      "Review (first 200 chars): I know everyone said this movie was utter crap and I agree with them. I spent a few years after seeing it telling other people it was crap. I recommended they not see it. But when it came on TV, we sa...\n",
      "True Sentiment: Negative\n",
      "Predicted Sentiment: Positive (Confidence: 0.8493)\n",
      "Positive Score: 0.8493\n",
      "Number of tokens: 227\n",
      "--------------------------------------------------------------------------------\n",
      "Index: 6207\n",
      "Review (first 200 chars): Death Wish 3 is exactly what a bad movie should be. Terrible acting! Implausible scenerios! Ridiculous death scenes! Creepy, evil-for-no-reason villains! The last 30 minutes of this movie just might b...\n",
      "True Sentiment: Positive\n",
      "Predicted Sentiment: Negative (Confidence: 0.9930)\n",
      "Positive Score: 0.0070\n",
      "Number of tokens: 451\n",
      "--------------------------------------------------------------------------------\n",
      "Index: 12593\n",
      "Review (first 200 chars): Tyra & the rest of the modeling world needs to know that real women like myself and my daughter don't care to see all the ridiculous modeling to sell something. Weird locations, too much makeup & too ...\n",
      "True Sentiment: Negative\n",
      "Predicted Sentiment: Positive (Confidence: 0.9497)\n",
      "Positive Score: 0.9497\n",
      "Number of tokens: 186\n",
      "--------------------------------------------------------------------------------\n",
      "Index: 19585\n",
      "Review (first 200 chars): Flashdance is one of those awful, stupid movies that you actually kind-of enjoy, just because they're so crap. I just watched it on TV & my friend and I were amazed at how dopey it was. It's true that...\n",
      "True Sentiment: Negative\n",
      "Predicted Sentiment: Positive (Confidence: 0.5683)\n",
      "Positive Score: 0.5683\n",
      "Number of tokens: 422\n",
      "--------------------------------------------------------------------------------\n",
      "Index: 2122\n",
      "Review (first 200 chars): I don't understand how people could not like this movie. You have Gossit Jr., the kid who played the main character in Stand By Me, Sean Astin, and many other great actors. Lots of action and fun that...\n",
      "True Sentiment: Positive\n",
      "Predicted Sentiment: Negative (Confidence: 0.9178)\n",
      "Positive Score: 0.0822\n",
      "Number of tokens: 155\n",
      "--------------------------------------------------------------------------------\n",
      "Index: 3564\n",
      "Review (first 200 chars): I can remember a college professor commenting as to how disturbing this film was, reflecting the apathy of adolescents (this was before Generation \"X\").In a way, most of us are products of the same co...\n",
      "True Sentiment: Positive\n",
      "Predicted Sentiment: Negative (Confidence: 0.9616)\n",
      "Positive Score: 0.0384\n",
      "Number of tokens: 195\n",
      "--------------------------------------------------------------------------------\n"
     ]
    }
   ],
   "source": [
    "# Focus on incorrect predictions\n",
    "incorrect_df4 = scored_df4[scored_df4[\"predicted_label\"] != scored_df4[\"true_label\"]]\n",
    "correct_df4 = scored_df4[scored_df4[\"predicted_label\"] == scored_df4[\"true_label\"]]\n",
    "\n",
    "# Showing some examples of incorrect predictions\n",
    "show_example_predictions(incorrect_df4, num_examples = 20, num_tokens = True)"
   ]
  },
  {
   "cell_type": "code",
   "execution_count": 123,
   "id": "d4d04e03-687c-4836-aab3-e36f97e135cf",
   "metadata": {
    "execution": {
     "iopub.execute_input": "2025-05-04T02:59:32.813270Z",
     "iopub.status.busy": "2025-05-04T02:59:32.812699Z",
     "iopub.status.idle": "2025-05-04T02:59:32.828162Z",
     "shell.execute_reply": "2025-05-04T02:59:32.827249Z",
     "shell.execute_reply.started": "2025-05-04T02:59:32.813247Z"
    }
   },
   "outputs": [
    {
     "name": "stdout",
     "output_type": "stream",
     "text": [
      "Proportion of incorrectly classified reviews with over 510 initial tokens: 0.0819\n",
      "Proportion of incorrectly classified reviews with under 510 initial tokens: 0.0635\n"
     ]
    }
   ],
   "source": [
    "# As for the baseline results we calculate the proportions of incorrectly classified reviews among the truncated or non truncated during tokenization \n",
    "incorrect_over_510_proportion_update_mix = len(\n",
    "    scored_df4[(scored_df4[\"predicted_label\"] != scored_df4[\"true_label\"]) & (scored_df4[\"num_tokens\"] > 510)]\n",
    ") / len(scored_df4[scored_df4[\"num_tokens\"] > 510])\n",
    "\n",
    "incorrect_under_510_proportion_update_mix = len(\n",
    "    scored_df4[(scored_df4[\"predicted_label\"] != scored_df4[\"true_label\"]) & (scored_df4[\"num_tokens\"] <= 510)]\n",
    ") / len(scored_df4[scored_df4[\"num_tokens\"] <= 510])\n",
    "\n",
    "# Print the proportions\n",
    "print(f\"Proportion of incorrectly classified reviews with over 510 initial tokens: {incorrect_over_510_proportion_update_mix:.4f}\")\n",
    "print(f\"Proportion of incorrectly classified reviews with under 510 initial tokens: {incorrect_under_510_proportion_update_mix:.4f}\")"
   ]
  },
  {
   "cell_type": "markdown",
   "id": "54376502-6658-4f9f-b825-d7abc16ab9b3",
   "metadata": {},
   "source": [
    "# Complements on results for discussion\n",
    "We look at the corresponding ratings for each review (III - Custom tokenization model results), correctly or incorrectly classified, and show that misclassified reviews are more often the ones associated with the most neutral ratings (4 or 7)."
   ]
  },
  {
   "cell_type": "code",
   "execution_count": 103,
   "id": "33337be8-3d64-48f3-a26d-a2827cadff18",
   "metadata": {
    "execution": {
     "iopub.execute_input": "2025-05-04T00:19:33.517185Z",
     "iopub.status.busy": "2025-05-04T00:19:33.516824Z",
     "iopub.status.idle": "2025-05-04T00:19:33.762489Z",
     "shell.execute_reply": "2025-05-04T00:19:33.761823Z",
     "shell.execute_reply.started": "2025-05-04T00:19:33.517164Z"
    }
   },
   "outputs": [
    {
     "data": {
      "image/png": "[encoded data removed]",
      "text/plain": [
       "<Figure size 1000x600 with 1 Axes>"
      ]
     },
     "metadata": {},
     "output_type": "display_data"
    }
   ],
   "source": [
    "# Distribution of review ratings for correctly and incorrectly classified reviews\n",
    "\n",
    "correct_counts = correct_df3[\"rating\"].value_counts(normalize=True).sort_index()\n",
    "incorrect_counts = incorrect_df3[\"rating\"].value_counts(normalize=True).sort_index()\n",
    "\n",
    "plot_df = pd.DataFrame({\n",
    "    \"rating\": range(1, 11),\n",
    "    \"Correct\": correct_counts.reindex(range(1, 11), fill_value=0),\n",
    "    \"Incorrect\": incorrect_counts.reindex(range(1, 11), fill_value=0)\n",
    "})\n",
    "\n",
    "plot_df = plot_df.melt(id_vars=\"rating\", value_vars=[\"Correct\", \"Incorrect\"], var_name=\"Prediction\", value_name=\"Proportion\")\n",
    "\n",
    "plt.figure(figsize=(10, 6))\n",
    "sns.barplot(\n",
    "    data=plot_df,\n",
    "    x=\"rating\",\n",
    "    y=\"Proportion\",\n",
    "    hue=\"Prediction\",\n",
    "    alpha=0.7\n",
    ")\n",
    "\n",
    "plt.xlabel(\"Rating\")\n",
    "plt.ylabel(\"Proportion (in each group)\")\n",
    "plt.title(\"Distribution of ratings among the predictions, in proportion\")\n",
    "plt.xticks(ticks=range(1, 11))\n",
    "plt.grid(axis=\"y\", linestyle=\"--\", alpha=0.7)\n",
    "plt.legend(title=\"Prediction\")\n",
    "plt.show()\n"
   ]
  },
  {
   "cell_type": "code",
   "execution_count": 108,
   "id": "b63c86d0-653d-4554-b02c-200b1f0f27b1",
   "metadata": {
    "execution": {
     "iopub.execute_input": "2025-05-04T00:33:04.856458Z",
     "iopub.status.busy": "2025-05-04T00:33:04.856179Z",
     "iopub.status.idle": "2025-05-04T00:33:04.867909Z",
     "shell.execute_reply": "2025-05-04T00:33:04.867218Z",
     "shell.execute_reply.started": "2025-05-04T00:33:04.856439Z"
    }
   },
   "outputs": [
    {
     "data": {
      "text/html": [
       "<div>\n",
       "<style scoped>\n",
       "    .dataframe tbody tr th:only-of-type {\n",
       "        vertical-align: middle;\n",
       "    }\n",
       "\n",
       "    .dataframe tbody tr th {\n",
       "        vertical-align: top;\n",
       "    }\n",
       "\n",
       "    .dataframe thead th {\n",
       "        text-align: right;\n",
       "    }\n",
       "</style>\n",
       "<table border=\"1\" class=\"dataframe\">\n",
       "  <thead>\n",
       "    <tr style=\"text-align: right;\">\n",
       "      <th></th>\n",
       "      <th>review</th>\n",
       "      <th>true_label</th>\n",
       "      <th>rating</th>\n",
       "      <th>predicted_label</th>\n",
       "      <th>positive_score</th>\n",
       "      <th>num_tokens</th>\n",
       "      <th>confidence</th>\n",
       "    </tr>\n",
       "  </thead>\n",
       "  <tbody>\n",
       "    <tr>\n",
       "      <th>8614</th>\n",
       "      <td>This film is essentially for those who have had little or no introduction to hip-hop, specifically turntableism, as was the case with the director before he started this film. It was cool to have it focus on the bay more than expected, because NY is always getting all the credit, but comin from the bay the Q-Bert worship is a little out of control. This film didn't introduce anything new to me, but it did change my opinion in that going into it I was sketchy about the prospect of giving the tables the distinction of being a bona fide instrument. This film ought to convince anyone that it's right up there with the viola and clavichord.</td>\n",
       "      <td>1</td>\n",
       "      <td>7</td>\n",
       "      <td>0</td>\n",
       "      <td>0.320756</td>\n",
       "      <td>142</td>\n",
       "      <td>0.679244</td>\n",
       "    </tr>\n",
       "    <tr>\n",
       "      <th>13338</th>\n",
       "      <td>What we know of Caravaggio suggests a strutting brawler with a healthy sense of entitlement who lived amongst whores and thieves and hustlers and put them on canvas. His works' themes were sex, death, redemption, above all, finding the sacred within the profane. He lived at a time where homosexuality carried a death sentence and political intrigue normally involved fatalities in a society defined by the maxim \"strangling the boy for the purity of his scream\".You can't fault Derek Jarman for his cinematography, nor his recreations of Caravaggio's paintings and you certainly can't accuse the man of shying away from the homosexuality. But frankly, Jarman never strays beyond 80s caricature. Italian patronage becomes the 80s London art scene complete with pretty waiters and calculators. Sean Bean is a sexy bit of Northern rough oiling his motorbike. Tilda Swinton performs a transformation worthy of a Mills and Boons (\"Why, Miss Lena, without that gypsy headscarf, you're beautiful...\"). Jarman provides Caravaggio with a particularly trite motive for the murder which left him exiled.This could have been a visually stunning treatment of a man whose life was dangerous, exciting, violent and decadent but who nonetheless elevated the lives of ordinary people to the status of Renaissance masterpieces, looked on by Emperors and Kings. Instead, what you get is Pierre et Gilles do Italy. The pretty bodies of young boys are shown to perfection, but never the men who inhabit them. Jarman appears to satirise the London art scene, showing it shallow and pretentious. To use Caravaggio and Renaissance Italy to make the point is to use a silk purse to make a pig's ear. In fairness, this film remains visually stunning, but ultimately as two dimensional as the paintings it describes.</td>\n",
       "      <td>0</td>\n",
       "      <td>4</td>\n",
       "      <td>1</td>\n",
       "      <td>0.976478</td>\n",
       "      <td>389</td>\n",
       "      <td>0.976478</td>\n",
       "    </tr>\n",
       "    <tr>\n",
       "      <th>14415</th>\n",
       "      <td>Don't get me wrong. I've got a considerable soft spot for the works of Charles Band, both as producer and director. But you've got to raise an eyebrow when the man who was willing to put his name to \"Dollman Vs The Demonic Toys\" sticks a pseudonym on anything. As a bit of bad-movie fun, \"Head Of The Family\" is rather lacking, although it is better acted than you might expect. Jacqueline Lovell is a definite talent who deserves better than these kinds of movies. J.W. Perra is also quite funny as the titular monster, though for such a superintelligent being he does get hoodwinked quite easily. Y'know, I'm nitpicking because the rest of the movie is so sharp and witty of course....And having a lead character called Lance Bogan? Nice one guys. We didn't know you Americans knew that piece of slang!</td>\n",
       "      <td>0</td>\n",
       "      <td>4</td>\n",
       "      <td>1</td>\n",
       "      <td>0.844880</td>\n",
       "      <td>195</td>\n",
       "      <td>0.844880</td>\n",
       "    </tr>\n",
       "    <tr>\n",
       "      <th>15465</th>\n",
       "      <td>Saw this movie at a Saturday matinée with a friend. Theater was about 70% full.Although there are quite a few funny lines, it is more of a drama/suspense with humor sprinkled on top. Robin Williams gives a decent performance as does Laura Linney. Being a Daily Show fan, Lewis Black is pretty good in this. Christopher Walken gives a good performance also. The movie starts out slow and remains that way for about the first thirty minutes, then the suspense part kicks in and starts keeping you a little on edge throughout the rest of the movie. Suspense in a supposed comedy movie? I know that I, as well as everybody else in the place, was struggling a bit with this. A character would crack a joke during suspense sequence and you would hear just one or two laughs in the theater. In all fairness, after the movie was over there was smattering of applause. So, definitely, some people enjoyed this movie.I gave this movie a four out of ten, because I believe the comedy aspect doesn't work very well in a suspense/drama movie and the actors performances, while not bad, were just decent. Again, this movie isn't what was advertised.</td>\n",
       "      <td>0</td>\n",
       "      <td>4</td>\n",
       "      <td>1</td>\n",
       "      <td>0.977866</td>\n",
       "      <td>246</td>\n",
       "      <td>0.977866</td>\n",
       "    </tr>\n",
       "    <tr>\n",
       "      <th>16451</th>\n",
       "      <td>Even though this film was nothing special as such, I am drawn to comment on at least one factor that ruled in its favour - that of the lead female performer in the film, Dyan Cannon. In spite of the film's ridiculous storyline and what she goes through here, hers was the best acting job in the film, making the unbelievable seem more plausible. Her raucous scene with the gay photographer David Hemmings has to be seen to be believed. Good work, Dyan.</td>\n",
       "      <td>0</td>\n",
       "      <td>4</td>\n",
       "      <td>1</td>\n",
       "      <td>0.974021</td>\n",
       "      <td>100</td>\n",
       "      <td>0.974021</td>\n",
       "    </tr>\n",
       "  </tbody>\n",
       "</table>\n",
       "</div>"
      ],
      "text/plain": [
       "                                                                                                                                                                                                                                                                                                                                                                                                                                                                                                                                                                                                                                                                                                                                                                                                                                                                                                                                                                                                                                                                                                                                                                                                                                                                                                                                                                                                                                                                                                                                                                                                                                                                                                                                                                                                                                                               review  \\\n",
       "8614                                                                                                                                                                                                                                                                                                                                                                                                                                                                                                                                                                                                                                                                                                                                                                                                                                                                                                                                                                                                                                                                                                                                                                                               This film is essentially for those who have had little or no introduction to hip-hop, specifically turntableism, as was the case with the director before he started this film. It was cool to have it focus on the bay more than expected, because NY is always getting all the credit, but comin from the bay the Q-Bert worship is a little out of control. This film didn't introduce anything new to me, but it did change my opinion in that going into it I was sketchy about the prospect of giving the tables the distinction of being a bona fide instrument. This film ought to convince anyone that it's right up there with the viola and clavichord.   \n",
       "13338  What we know of Caravaggio suggests a strutting brawler with a healthy sense of entitlement who lived amongst whores and thieves and hustlers and put them on canvas. His works' themes were sex, death, redemption, above all, finding the sacred within the profane. He lived at a time where homosexuality carried a death sentence and political intrigue normally involved fatalities in a society defined by the maxim \"strangling the boy for the purity of his scream\".You can't fault Derek Jarman for his cinematography, nor his recreations of Caravaggio's paintings and you certainly can't accuse the man of shying away from the homosexuality. But frankly, Jarman never strays beyond 80s caricature. Italian patronage becomes the 80s London art scene complete with pretty waiters and calculators. Sean Bean is a sexy bit of Northern rough oiling his motorbike. Tilda Swinton performs a transformation worthy of a Mills and Boons (\"Why, Miss Lena, without that gypsy headscarf, you're beautiful...\"). Jarman provides Caravaggio with a particularly trite motive for the murder which left him exiled.This could have been a visually stunning treatment of a man whose life was dangerous, exciting, violent and decadent but who nonetheless elevated the lives of ordinary people to the status of Renaissance masterpieces, looked on by Emperors and Kings. Instead, what you get is Pierre et Gilles do Italy. The pretty bodies of young boys are shown to perfection, but never the men who inhabit them. Jarman appears to satirise the London art scene, showing it shallow and pretentious. To use Caravaggio and Renaissance Italy to make the point is to use a silk purse to make a pig's ear. In fairness, this film remains visually stunning, but ultimately as two dimensional as the paintings it describes.   \n",
       "14415                                                                                                                                                                                                                                                                                                                                                                                                                                                                                                                                                                                                                                                                                                                                                                                                                                                                                                                                                                                                                            Don't get me wrong. I've got a considerable soft spot for the works of Charles Band, both as producer and director. But you've got to raise an eyebrow when the man who was willing to put his name to \"Dollman Vs The Demonic Toys\" sticks a pseudonym on anything. As a bit of bad-movie fun, \"Head Of The Family\" is rather lacking, although it is better acted than you might expect. Jacqueline Lovell is a definite talent who deserves better than these kinds of movies. J.W. Perra is also quite funny as the titular monster, though for such a superintelligent being he does get hoodwinked quite easily. Y'know, I'm nitpicking because the rest of the movie is so sharp and witty of course....And having a lead character called Lance Bogan? Nice one guys. We didn't know you Americans knew that piece of slang!   \n",
       "15465                                                                                                                                                                                                                                                                                                                                                                                                                                                                                                                                                                                                                                                                                 Saw this movie at a Saturday matinée with a friend. Theater was about 70% full.Although there are quite a few funny lines, it is more of a drama/suspense with humor sprinkled on top. Robin Williams gives a decent performance as does Laura Linney. Being a Daily Show fan, Lewis Black is pretty good in this. Christopher Walken gives a good performance also. The movie starts out slow and remains that way for about the first thirty minutes, then the suspense part kicks in and starts keeping you a little on edge throughout the rest of the movie. Suspense in a supposed comedy movie? I know that I, as well as everybody else in the place, was struggling a bit with this. A character would crack a joke during suspense sequence and you would hear just one or two laughs in the theater. In all fairness, after the movie was over there was smattering of applause. So, definitely, some people enjoyed this movie.I gave this movie a four out of ten, because I believe the comedy aspect doesn't work very well in a suspense/drama movie and the actors performances, while not bad, were just decent. Again, this movie isn't what was advertised.   \n",
       "16451                                                                                                                                                                                                                                                                                                                                                                                                                                                                                                                                                                                                                                                                                                                                                                                                                                                                                                                                                                                                                                                                                                                                                                                                                                                                                                                                                                                            Even though this film was nothing special as such, I am drawn to comment on at least one factor that ruled in its favour - that of the lead female performer in the film, Dyan Cannon. In spite of the film's ridiculous storyline and what she goes through here, hers was the best acting job in the film, making the unbelievable seem more plausible. Her raucous scene with the gay photographer David Hemmings has to be seen to be believed. Good work, Dyan.   \n",
       "\n",
       "       true_label  rating  predicted_label  positive_score  num_tokens  \\\n",
       "8614            1       7                0        0.320756         142   \n",
       "13338           0       4                1        0.976478         389   \n",
       "14415           0       4                1        0.844880         195   \n",
       "15465           0       4                1        0.977866         246   \n",
       "16451           0       4                1        0.974021         100   \n",
       "\n",
       "       confidence  \n",
       "8614     0.679244  \n",
       "13338    0.976478  \n",
       "14415    0.844880  \n",
       "15465    0.977866  \n",
       "16451    0.974021  "
      ]
     },
     "execution_count": 108,
     "metadata": {},
     "output_type": "execute_result"
    }
   ],
   "source": [
    "# to ensure full reviews are shown\n",
    "pd.set_option('display.max_colwidth', None)\n",
    "\n",
    "# We print some misclassified full reviews with rating 4 or 7\n",
    "examples = incorrect_df3[incorrect_df3[\"rating\"].isin([4, 7])]\n",
    "examples.head()"
   ]
  }
 ],
 "metadata": {
  "kaggle": {
   "accelerator": "gpu",
   "dataSources": [
    {
     "datasetId": 7321026,
     "sourceId": 11665202,
     "sourceType": "datasetVersion"
    }
   ],
   "dockerImageVersionId": 31011,
   "isGpuEnabled": true,
   "isInternetEnabled": true,
   "language": "python",
   "sourceType": "notebook"
  },
  "kernelspec": {
   "display_name": "Python 3 (ipykernel)",
   "language": "python",
   "name": "python3"
  },
  "language_info": {
   "codemirror_mode": {
    "name": "ipython",
    "version": 3
   },
   "file_extension": ".py",
   "mimetype": "text/x-python",
   "name": "python",
   "nbconvert_exporter": "python",
   "pygments_lexer": "ipython3",
   "version": "3.12.9"
  }
 },
 "nbformat": 4,
 "nbformat_minor": 5
}

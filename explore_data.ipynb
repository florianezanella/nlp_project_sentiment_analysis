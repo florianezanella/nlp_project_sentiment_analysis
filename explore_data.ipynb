{
 "cells": [
  {
   "cell_type": "markdown",
   "id": "539248b2-2b70-4065-847f-c0e2f7aee3f4",
   "metadata": {},
   "source": [
    "**Extraction des données**"
   ]
  },
  {
   "cell_type": "code",
   "execution_count": 2,
   "id": "23fb4b82-e794-4645-be4a-ecb1331bca06",
   "metadata": {},
   "outputs": [
    {
     "name": "stderr",
     "output_type": "stream",
     "text": [
      "/tmp/ipykernel_875/1433914472.py:5: DeprecationWarning: Python 3.14 will, by default, filter extracted tar archives and reject files or modify their metadata. Use the filter argument to control this behavior.\n",
      "  archive.extractall(\"dossier_de_sortie\")  # Décompresse tous les fichiers dans \"dossier_de_sortie\"\n",
      "IOPub data rate exceeded.\n",
      "The Jupyter server will temporarily stop sending output\n",
      "to the client in order to avoid crashing it.\n",
      "To change this limit, set the config variable\n",
      "`--ServerApp.iopub_data_rate_limit`.\n",
      "\n",
      "Current values:\n",
      "ServerApp.iopub_data_rate_limit=1000000.0 (bytes/sec)\n",
      "ServerApp.rate_limit_window=3.0 (secs)\n",
      "\n"
     ]
    }
   ],
   "source": [
    "# extraction des données du dossier compressé :\n",
    "# import tarfile\n",
    "\n",
    "# remplace \"fichier.tar.gz\" par le chemin de ton fichier\n",
    "# with tarfile.open(\"aclImdb_v1.tar.gz\", \"r:gz\") as archive:\n",
    "#     archive.extractall(\"dossier_de_sortie\")  # décompresse tous les fichiers dans \"dossier_de_sortie\"\n",
    "#     print(archive.getnames())  # Liste des fichiers extraits"
   ]
  },
  {
   "cell_type": "markdown",
   "id": "c9a6e75d-2adf-4b53-811f-26a332877fe2",
   "metadata": {},
   "source": [
    "**Imports nécessaires**"
   ]
  },
  {
   "cell_type": "code",
   "execution_count": 32,
   "id": "77d0d3f2-5f19-46db-ab30-a47d6e66bcb8",
   "metadata": {},
   "outputs": [],
   "source": [
    "import os\n",
    "import pandas as pd\n",
    "import seaborn as sns\n",
    "import matplotlib.pyplot as plt"
   ]
  },
  {
   "cell_type": "markdown",
   "id": "6d4723f2-e719-41ec-84e8-4d24e3d8594d",
   "metadata": {},
   "source": [
    "**Création des datasets de train et test**"
   ]
  },
  {
   "cell_type": "code",
   "execution_count": 42,
   "id": "752b88a9-5132-49f4-84f3-8aca7d5b66a6",
   "metadata": {},
   "outputs": [],
   "source": [
    "# version fonction\n",
    "\n",
    "def create_datasets(dataset_type, polarity, base_path=\"dossier_de_sortie/aclImdb\"):\n",
    "    \"\"\"\n",
    "    Charge les reviews et les URLs correspondantes à partir des fichiers.\n",
    "    \n",
    "    :param dataset_type: 'train' ou 'test'\n",
    "    :param polarity: 'pos' ou 'neg'\n",
    "    :param base_path: Chemin de base vers les données (par défaut: \"dossier_de_sortie/aclImdb\")\n",
    "    :return: DataFrame fusionné contenant les avis, les notes et les URLs associées\n",
    "    \"\"\"\n",
    "    # chemins d'accès\n",
    "    review_path = os.path.join(base_path, dataset_type, polarity)\n",
    "    url_file = os.path.join(base_path, dataset_type, f\"urls_{polarity}.txt\")\n",
    "\n",
    "    # chargement des fichiers texte et stockage dans une liste\n",
    "    data = []\n",
    "    for fichier in os.listdir(review_path):\n",
    "        if fichier.endswith(\".txt\"):  \n",
    "            chemin_fichier = os.path.join(review_path, fichier)\n",
    "            with open(chemin_fichier, \"r\", encoding=\"utf-8\") as f:\n",
    "                contenu = f.read()\n",
    "            data.append((fichier, contenu))\n",
    "\n",
    "    # conversion en dataframe\n",
    "    df_reviews = pd.DataFrame(data, columns=[\"fichier\", \"review\"])\n",
    "    df_reviews[[\"id_review\", \"note\"]] = df_reviews[\"fichier\"].str.replace(\".txt\", \"\", regex=False).str.split(\"_\", expand=True)\n",
    "    df_reviews = df_reviews.drop(\"fichier\", axis=1)\n",
    "\n",
    "    # ajout des urls pour chaque review\n",
    "    df_urls = pd.read_csv(url_file, header=None, names=['url'])\n",
    "    df_urls['id_imdb_movie'] = df_urls['url'].str.extract(r'(tt\\d+)')\n",
    "    merged_df = pd.concat([df_reviews, df_urls], axis=1)\n",
    "\n",
    "    return merged_df\n",
    "\n",
    "\n",
    "merged_test_neg = create_datasets(dataset_type=\"test\", polarity=\"neg\")\n",
    "merged_test_pos = create_datasets(dataset_type=\"test\", polarity=\"pos\")\n",
    "merged_train_neg = create_datasets(dataset_type=\"train\", polarity=\"neg\")\n",
    "merged_train_pos = create_datasets(dataset_type=\"train\", polarity=\"pos\")"
   ]
  },
  {
   "cell_type": "code",
   "execution_count": 43,
   "id": "5ff7c971-ac53-4f42-a5ef-ba52a028a3b9",
   "metadata": {},
   "outputs": [
    {
     "name": "stdout",
     "output_type": "stream",
     "text": [
      "3016\n"
     ]
    },
    {
     "data": {
      "text/plain": [
       "12500"
      ]
     },
     "execution_count": 43,
     "metadata": {},
     "output_type": "execute_result"
    }
   ],
   "source": [
    "print(len(pd.unique(merged_test_neg['id_imdb_movie']))) # nombre de films dans la moitié négative de la base test\n",
    "len(merged_test_neg) # nombre de reviews"
   ]
  },
  {
   "cell_type": "code",
   "execution_count": 44,
   "id": "b95661ba-1998-4ad8-b1fb-46e266cce7ca",
   "metadata": {},
   "outputs": [],
   "source": [
    "# Création des datasets de test et train complets par merge des datasets de test/train pos et neg\n",
    "test = pd.concat([merged_test_pos, merged_test_neg], ignore_index=True)\n",
    "train = pd.concat([merged_train_pos, merged_train_neg], ignore_index=True)"
   ]
  },
  {
   "cell_type": "code",
   "execution_count": 36,
   "id": "853873dc-c392-445f-9d8a-ef0fb96544f7",
   "metadata": {},
   "outputs": [
    {
     "name": "stdout",
     "output_type": "stream",
     "text": [
      "3581\n"
     ]
    },
    {
     "data": {
      "text/plain": [
       "25000"
      ]
     },
     "execution_count": 36,
     "metadata": {},
     "output_type": "execute_result"
    }
   ],
   "source": [
    "print(len(pd.unique(test['id_imdb_movie']))) # nombre de films dans la base test\n",
    "len(test) # nombre de reviews"
   ]
  },
  {
   "cell_type": "code",
   "execution_count": 45,
   "id": "406667b4-9f2f-48de-9e0c-b430cf22678a",
   "metadata": {},
   "outputs": [
    {
     "data": {
      "text/html": [
       "<div>\n",
       "<style scoped>\n",
       "    .dataframe tbody tr th:only-of-type {\n",
       "        vertical-align: middle;\n",
       "    }\n",
       "\n",
       "    .dataframe tbody tr th {\n",
       "        vertical-align: top;\n",
       "    }\n",
       "\n",
       "    .dataframe thead th {\n",
       "        text-align: right;\n",
       "    }\n",
       "</style>\n",
       "<table border=\"1\" class=\"dataframe\">\n",
       "  <thead>\n",
       "    <tr style=\"text-align: right;\">\n",
       "      <th></th>\n",
       "      <th>review</th>\n",
       "      <th>id_review</th>\n",
       "      <th>note</th>\n",
       "      <th>url</th>\n",
       "      <th>id_imdb_movie</th>\n",
       "    </tr>\n",
       "  </thead>\n",
       "  <tbody>\n",
       "    <tr>\n",
       "      <th>0</th>\n",
       "      <td>This is without a doubt one of Neil Simon's be...</td>\n",
       "      <td>6742</td>\n",
       "      <td>10</td>\n",
       "      <td>http://www.imdb.com/title/tt0077699/usercomments</td>\n",
       "      <td>tt0077699</td>\n",
       "    </tr>\n",
       "    <tr>\n",
       "      <th>1</th>\n",
       "      <td>This show drives me crazy. It goes against eve...</td>\n",
       "      <td>3293</td>\n",
       "      <td>3</td>\n",
       "      <td>http://www.imdb.com/title/tt0463903/usercomments</td>\n",
       "      <td>tt0463903</td>\n",
       "    </tr>\n",
       "    <tr>\n",
       "      <th>2</th>\n",
       "      <td>I found the film Don't Look In The Basement to...</td>\n",
       "      <td>749</td>\n",
       "      <td>7</td>\n",
       "      <td>http://www.imdb.com/title/tt0182576/usercomments</td>\n",
       "      <td>tt0182576</td>\n",
       "    </tr>\n",
       "    <tr>\n",
       "      <th>3</th>\n",
       "      <td>I have been a huge Lynn Peterson fan ever sinc...</td>\n",
       "      <td>1790</td>\n",
       "      <td>2</td>\n",
       "      <td>http://www.imdb.com/title/tt0367623/usercomments</td>\n",
       "      <td>tt0367623</td>\n",
       "    </tr>\n",
       "    <tr>\n",
       "      <th>4</th>\n",
       "      <td>It's hard to decide what to say about this one...</td>\n",
       "      <td>1459</td>\n",
       "      <td>4</td>\n",
       "      <td>http://www.imdb.com/title/tt0202382/usercomments</td>\n",
       "      <td>tt0202382</td>\n",
       "    </tr>\n",
       "  </tbody>\n",
       "</table>\n",
       "</div>"
      ],
      "text/plain": [
       "                                              review id_review note  \\\n",
       "0  This is without a doubt one of Neil Simon's be...      6742   10   \n",
       "1  This show drives me crazy. It goes against eve...      3293    3   \n",
       "2  I found the film Don't Look In The Basement to...       749    7   \n",
       "3  I have been a huge Lynn Peterson fan ever sinc...      1790    2   \n",
       "4  It's hard to decide what to say about this one...      1459    4   \n",
       "\n",
       "                                                url id_imdb_movie  \n",
       "0  http://www.imdb.com/title/tt0077699/usercomments     tt0077699  \n",
       "1  http://www.imdb.com/title/tt0463903/usercomments     tt0463903  \n",
       "2  http://www.imdb.com/title/tt0182576/usercomments     tt0182576  \n",
       "3  http://www.imdb.com/title/tt0367623/usercomments     tt0367623  \n",
       "4  http://www.imdb.com/title/tt0202382/usercomments     tt0202382  "
      ]
     },
     "execution_count": 45,
     "metadata": {},
     "output_type": "execute_result"
    }
   ],
   "source": [
    "# version shuffled ?\n",
    "test_mix = test.sample(frac=1, random_state=42).reset_index(drop=True)\n",
    "train_mix = train.sample(frac=1, random_state=42).reset_index(drop=True)\n",
    "test_mix.head()"
   ]
  },
  {
   "cell_type": "markdown",
   "id": "62c19b2a-39fc-48e9-96a6-b3b65e3126a3",
   "metadata": {},
   "source": [
    "**Observation des données**"
   ]
  },
  {
   "cell_type": "code",
   "execution_count": 46,
   "id": "87bd8880-93b4-4c15-9a78-35037353f35c",
   "metadata": {},
   "outputs": [
    {
     "data": {
      "image/png": "[encoded data removed]",
      "text/plain": [
       "<Figure size 800x500 with 1 Axes>"
      ]
     },
     "metadata": {},
     "output_type": "display_data"
    }
   ],
   "source": [
    "# Répartition des notes dans le test set\n",
    "plt.figure(figsize=(8, 5))\n",
    "sns.countplot(data=test_mix, x=\"note\", color=\"purple\", order=range(1, 11))\n",
    "plt.xlabel(\"Note\")\n",
    "plt.ylabel(\"Nombre d'occurrences\")\n",
    "plt.title(\"Répartition des notes (de 1 à 10)\")\n",
    "plt.show()"
   ]
  },
  {
   "cell_type": "code",
   "execution_count": 47,
   "id": "d81dab3e-18e2-4f10-846e-941b043a0cf6",
   "metadata": {},
   "outputs": [
    {
     "data": {
      "text/html": [
       "<div>\n",
       "<style scoped>\n",
       "    .dataframe tbody tr th:only-of-type {\n",
       "        vertical-align: middle;\n",
       "    }\n",
       "\n",
       "    .dataframe tbody tr th {\n",
       "        vertical-align: top;\n",
       "    }\n",
       "\n",
       "    .dataframe thead th {\n",
       "        text-align: right;\n",
       "    }\n",
       "</style>\n",
       "<table border=\"1\" class=\"dataframe\">\n",
       "  <thead>\n",
       "    <tr style=\"text-align: right;\">\n",
       "      <th></th>\n",
       "      <th>review</th>\n",
       "      <th>id_review</th>\n",
       "      <th>note</th>\n",
       "      <th>url</th>\n",
       "      <th>id_imdb_movie</th>\n",
       "      <th>note_bin</th>\n",
       "      <th>note_prec</th>\n",
       "    </tr>\n",
       "  </thead>\n",
       "  <tbody>\n",
       "    <tr>\n",
       "      <th>0</th>\n",
       "      <td>This is without a doubt one of Neil Simon's be...</td>\n",
       "      <td>6742</td>\n",
       "      <td>10</td>\n",
       "      <td>https://www.imdb.com/title/tt0077699/</td>\n",
       "      <td>tt0077699</td>\n",
       "      <td>1</td>\n",
       "      <td>Very Positive</td>\n",
       "    </tr>\n",
       "    <tr>\n",
       "      <th>1</th>\n",
       "      <td>This show drives me crazy. It goes against eve...</td>\n",
       "      <td>3293</td>\n",
       "      <td>3</td>\n",
       "      <td>https://www.imdb.com/title/tt0463903/</td>\n",
       "      <td>tt0463903</td>\n",
       "      <td>0</td>\n",
       "      <td>Negative</td>\n",
       "    </tr>\n",
       "    <tr>\n",
       "      <th>2</th>\n",
       "      <td>I found the film Don't Look In The Basement to...</td>\n",
       "      <td>749</td>\n",
       "      <td>7</td>\n",
       "      <td>https://www.imdb.com/title/tt0182576/</td>\n",
       "      <td>tt0182576</td>\n",
       "      <td>1</td>\n",
       "      <td>Positive</td>\n",
       "    </tr>\n",
       "    <tr>\n",
       "      <th>3</th>\n",
       "      <td>I have been a huge Lynn Peterson fan ever sinc...</td>\n",
       "      <td>1790</td>\n",
       "      <td>2</td>\n",
       "      <td>https://www.imdb.com/title/tt0367623/</td>\n",
       "      <td>tt0367623</td>\n",
       "      <td>0</td>\n",
       "      <td>Very Negative</td>\n",
       "    </tr>\n",
       "    <tr>\n",
       "      <th>4</th>\n",
       "      <td>It's hard to decide what to say about this one...</td>\n",
       "      <td>1459</td>\n",
       "      <td>4</td>\n",
       "      <td>https://www.imdb.com/title/tt0202382/</td>\n",
       "      <td>tt0202382</td>\n",
       "      <td>0</td>\n",
       "      <td>Negative</td>\n",
       "    </tr>\n",
       "    <tr>\n",
       "      <th>5</th>\n",
       "      <td>\"you can't take it realistically.\" -sheets&lt;br ...</td>\n",
       "      <td>6937</td>\n",
       "      <td>7</td>\n",
       "      <td>https://www.imdb.com/title/tt0124901/</td>\n",
       "      <td>tt0124901</td>\n",
       "      <td>1</td>\n",
       "      <td>Positive</td>\n",
       "    </tr>\n",
       "    <tr>\n",
       "      <th>6</th>\n",
       "      <td>This is another one of those films that I reme...</td>\n",
       "      <td>8864</td>\n",
       "      <td>10</td>\n",
       "      <td>https://www.imdb.com/title/tt0902306/</td>\n",
       "      <td>tt0902306</td>\n",
       "      <td>1</td>\n",
       "      <td>Very Positive</td>\n",
       "    </tr>\n",
       "    <tr>\n",
       "      <th>7</th>\n",
       "      <td>The scientist Charles and his wife (or assista...</td>\n",
       "      <td>5405</td>\n",
       "      <td>2</td>\n",
       "      <td>https://www.imdb.com/title/tt0808151/</td>\n",
       "      <td>tt0808151</td>\n",
       "      <td>0</td>\n",
       "      <td>Very Negative</td>\n",
       "    </tr>\n",
       "    <tr>\n",
       "      <th>8</th>\n",
       "      <td>Batman Returns is more Gothic and somber than ...</td>\n",
       "      <td>7983</td>\n",
       "      <td>10</td>\n",
       "      <td>https://www.imdb.com/title/tt0088583/</td>\n",
       "      <td>tt0088583</td>\n",
       "      <td>1</td>\n",
       "      <td>Very Positive</td>\n",
       "    </tr>\n",
       "    <tr>\n",
       "      <th>9</th>\n",
       "      <td>A brilliant Sherlock Holmes adventure starring...</td>\n",
       "      <td>9419</td>\n",
       "      <td>10</td>\n",
       "      <td>https://www.imdb.com/title/tt0218839/</td>\n",
       "      <td>tt0218839</td>\n",
       "      <td>1</td>\n",
       "      <td>Very Positive</td>\n",
       "    </tr>\n",
       "  </tbody>\n",
       "</table>\n",
       "</div>"
      ],
      "text/plain": [
       "                                              review id_review  note  \\\n",
       "0  This is without a doubt one of Neil Simon's be...      6742    10   \n",
       "1  This show drives me crazy. It goes against eve...      3293     3   \n",
       "2  I found the film Don't Look In The Basement to...       749     7   \n",
       "3  I have been a huge Lynn Peterson fan ever sinc...      1790     2   \n",
       "4  It's hard to decide what to say about this one...      1459     4   \n",
       "5  \"you can't take it realistically.\" -sheets<br ...      6937     7   \n",
       "6  This is another one of those films that I reme...      8864    10   \n",
       "7  The scientist Charles and his wife (or assista...      5405     2   \n",
       "8  Batman Returns is more Gothic and somber than ...      7983    10   \n",
       "9  A brilliant Sherlock Holmes adventure starring...      9419    10   \n",
       "\n",
       "                                     url id_imdb_movie  note_bin  \\\n",
       "0  https://www.imdb.com/title/tt0077699/     tt0077699         1   \n",
       "1  https://www.imdb.com/title/tt0463903/     tt0463903         0   \n",
       "2  https://www.imdb.com/title/tt0182576/     tt0182576         1   \n",
       "3  https://www.imdb.com/title/tt0367623/     tt0367623         0   \n",
       "4  https://www.imdb.com/title/tt0202382/     tt0202382         0   \n",
       "5  https://www.imdb.com/title/tt0124901/     tt0124901         1   \n",
       "6  https://www.imdb.com/title/tt0902306/     tt0902306         1   \n",
       "7  https://www.imdb.com/title/tt0808151/     tt0808151         0   \n",
       "8  https://www.imdb.com/title/tt0088583/     tt0088583         1   \n",
       "9  https://www.imdb.com/title/tt0218839/     tt0218839         1   \n",
       "\n",
       "       note_prec  \n",
       "0  Very Positive  \n",
       "1       Negative  \n",
       "2       Positive  \n",
       "3  Very Negative  \n",
       "4       Negative  \n",
       "5       Positive  \n",
       "6  Very Positive  \n",
       "7  Very Negative  \n",
       "8  Very Positive  \n",
       "9  Very Positive  "
      ]
     },
     "execution_count": 47,
     "metadata": {},
     "output_type": "execute_result"
    }
   ],
   "source": [
    "# Recodages des labels\n",
    "\n",
    "test_mix['note'] = test_mix['note'].astype(int)\n",
    "\n",
    "# sentiment en binaire\n",
    "test_mix['note_bin'] = test_mix['note'].apply(lambda x: 0 if x <= 4 else (1 if x >= 7 else x))\n",
    "\n",
    "# sentiment plus précis\n",
    "mapping = {\n",
    "    1: 'Very Negative', 2: 'Very Negative',\n",
    "    3: 'Negative', 4: 'Negative',\n",
    "    7: 'Positive', 8: 'Positive', \n",
    "    9: 'Very Positive', 10: 'Very Positive'\n",
    "}\n",
    "test_mix['note_prec'] = test_mix['note'].replace(mapping)\n",
    "\n",
    "# modification des urls, la terminaison 'usercomments' ne sert pas\n",
    "test_mix['url'] = test_mix['url'].str.replace('usercomments', '', regex=False)\n",
    "test_mix['url'] = test_mix['url'].str.replace('http://', 'https://', regex=False)\n",
    "\n",
    "test_mix.head(10)"
   ]
  },
  {
   "cell_type": "code",
   "execution_count": 48,
   "id": "8e4bdf60-85be-418f-8241-42053f203653",
   "metadata": {},
   "outputs": [],
   "source": [
    "test_mix.to_csv(\"test_mix.csv\", index=True)  # enregistrement du dataset de test (shuffled)"
   ]
  },
  {
   "cell_type": "code",
   "execution_count": 49,
   "id": "2e528c49-3a87-47ce-ae46-4ef7ec4b1676",
   "metadata": {},
   "outputs": [
    {
     "data": {
      "text/plain": [
       "Index(['Unnamed: 0', 'review', 'id_review', 'note', 'url', 'id_imdb_movie',\n",
       "       'note_bin', 'note_prec'],\n",
       "      dtype='object')"
      ]
     },
     "execution_count": 49,
     "metadata": {},
     "output_type": "execute_result"
    }
   ],
   "source": [
    "test_mix = pd.read_csv('test_mix.csv')\n",
    "test_mix.columns"
   ]
  },
  {
   "cell_type": "code",
   "execution_count": null,
   "id": "771385be-b058-45b4-b352-6c1153a09da8",
   "metadata": {},
   "outputs": [],
   "source": [
    "# à faire :\n",
    "# la moyenne des notes sur chaque film, la variance et l'écart-type => est-ce que les reviews sont très contrastées sur chaque film ?\n",
    "# nombre de reviews par film en moyenne (vérifier qu'on est pas à plus de 30 pour chaque, mais c'est quoi la répartition exacte ? car il n'y a pas 30 reviews par film)\n",
    "# appliquer le modèle BERT pour constater un haut niveau d'accuracy"
   ]
  }
 ],
 "metadata": {
  "kernelspec": {
   "display_name": "Python 3 (ipykernel)",
   "language": "python",
   "name": "python3"
  },
  "language_info": {
   "codemirror_mode": {
    "name": "ipython",
    "version": 3
   },
   "file_extension": ".py",
   "mimetype": "text/x-python",
   "name": "python",
   "nbconvert_exporter": "python",
   "pygments_lexer": "ipython3",
   "version": "3.12.7"
  }
 },
 "nbformat": 4,
 "nbformat_minor": 5
}
